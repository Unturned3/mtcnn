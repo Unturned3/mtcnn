{
 "cells": [
  {
   "cell_type": "markdown",
   "metadata": {},
   "source": [
    "Generate face bbox & face probs label for UTKFace images using MTCNN\n",
    "\n",
    "Latest result:\n",
    "- total: 23708; mtcnn fail count: 40; failure rate: 0.0016%\n",
    "- total: 23708; mtcnn fail count: 60"
   ]
  },
  {
   "cell_type": "code",
   "execution_count": 1,
   "metadata": {},
   "outputs": [],
   "source": [
    "# set up path to facenet_pytorch_c\n",
    "import sys\n",
    "sys.path.insert(1, '/home/ubuntu/mtcnn')\n",
    "\n",
    "# facenet_pytorch_c: avoid confusion with system default facenet_pytorch\n",
    "from facenet_pytorch_c import MTCNN\n",
    "\n",
    "\n",
    "from tqdm import tqdm\n",
    "import numpy as np\n",
    "import os\n",
    "\n",
    "# other custom scripts\n",
    "import utils\n"
   ]
  },
  {
   "cell_type": "code",
   "execution_count": 2,
   "metadata": {},
   "outputs": [],
   "source": [
    "# data loading parameters\n",
    "workers = 4\n",
    "resize_shape = (48, 48)\n"
   ]
  },
  {
   "cell_type": "code",
   "execution_count": 3,
   "metadata": {},
   "outputs": [
    {
     "name": "stderr",
     "output_type": "stream",
     "text": [
      "100%|██████████| 23708/23708 [02:02<00:00, 192.95it/s]"
     ]
    },
    {
     "name": "stdout",
     "output_type": "stream",
     "text": [
      "Ignored images: \n"
     ]
    },
    {
     "name": "stderr",
     "output_type": "stream",
     "text": [
      "\n"
     ]
    }
   ],
   "source": [
    "# get data\n",
    "x_train, age_train, fname = utils.get_images(\n",
    "    r'/home/ubuntu/UTKFace', resize_shape=resize_shape, label_mode=True\n",
    "    )"
   ]
  },
  {
   "cell_type": "code",
   "execution_count": 4,
   "metadata": {},
   "outputs": [],
   "source": [
    "# setup mtcnn\n",
    "\n",
    "device = \"cuda:0\"\n",
    "\n",
    "mtcnn = MTCNN(\n",
    "    image_size=160, margin=0, min_face_size=20,\n",
    "    thresholds=[0.6, 0.7, 0.7], factor=0.709, post_process=True, keep_all=True,\n",
    "    device=device\n",
    ")"
   ]
  },
  {
   "cell_type": "code",
   "execution_count": 28,
   "metadata": {},
   "outputs": [
    {
     "name": "stdout",
     "output_type": "stream",
     "text": [
      "total: 23708; mtcnn fail count: 0\n"
     ]
    }
   ],
   "source": [
    "# pyplot, for debugging\n",
    "\n",
    "# saving numpy data in files\n",
    "# https://stackoverflow.com/questions/28439701/how-to-save-and-load-numpy-array-data-properly\n",
    "\n",
    "import torch\n",
    "import matplotlib.pyplot as plt\n",
    "from torchvision import transforms\n",
    "\n",
    "idx = 0\n",
    "fail = 0\n",
    "total = 0\n",
    "\n",
    "for img in (x_train):\n",
    "    total += 1\n",
    "    img = transforms.ToTensor()(img).unsqueeze(0)\n",
    "    img = img.to(device)\n",
    "    bbox, landmarks, prob, _ = mtcnn.onet(img)\n",
    "    \"\"\"\n",
    "    if bbox is None:\n",
    "        # mtcnn failed to detect a face\n",
    "        fail += 1\n",
    "        plt.imshow(x_train[idx]) # display failed image\n",
    "        plt.show()\n",
    "        print(fname[idx])\n",
    "        bbox = np.zeros(4, dtype=\"int8\") # set to int8, for indicating\n",
    "        prob = np.zeros(2, dtype=\"int8\") # this image is not used\n",
    "        landmarks = np.zeros(10, dtype=\"int8\")\n",
    "    \"\"\";\n",
    "    \n",
    "    bbox = bbox.cpu().detach().numpy()\n",
    "    prob = prob.cpu().detach().numpy()\n",
    "    landmarks = landmarks.cpu().detach().numpy()\n",
    "    \n",
    "    #prob = np.array([0, prob[0]])\n",
    "    np.save(fname[idx]+\".bbox.npy\", bbox)\n",
    "    np.save(fname[idx]+\".prob.npy\", prob)\n",
    "    np.save(fname[idx]+\".landmarks.npy\", landmarks)\n",
    "    idx += 1\n",
    "\n",
    "print(\"total: {}; mtcnn fail count: {}\".format(total, fail))\n"
   ]
  },
  {
   "cell_type": "code",
   "execution_count": null,
   "metadata": {},
   "outputs": [],
   "source": [
    "if bbox_train[4][0].dtype == np.dtype(\"float32\"):\n",
    "    print(\"yes\")\n",
    "else:\n",
    "    print(\"no\")\n"
   ]
  },
  {
   "cell_type": "code",
   "execution_count": null,
   "metadata": {},
   "outputs": [],
   "source": [
    "print(prob[0])"
   ]
  },
  {
   "cell_type": "code",
   "execution_count": null,
   "metadata": {},
   "outputs": [],
   "source": []
  }
 ],
 "metadata": {
  "kernelspec": {
   "display_name": "Python 3",
   "language": "python",
   "name": "python3"
  },
  "language_info": {
   "codemirror_mode": {
    "name": "ipython",
    "version": 3
   },
   "file_extension": ".py",
   "mimetype": "text/x-python",
   "name": "python",
   "nbconvert_exporter": "python",
   "pygments_lexer": "ipython3",
   "version": "3.7.7"
  }
 },
 "nbformat": 4,
 "nbformat_minor": 4
}
