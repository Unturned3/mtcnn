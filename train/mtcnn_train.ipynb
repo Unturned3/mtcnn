{
 "cells": [
  {
   "cell_type": "code",
   "execution_count": 1,
   "metadata": {},
   "outputs": [],
   "source": [
    "# set up path to facenet_pytorch_c\n",
    "import sys\n",
    "sys.path.insert(1, '/home/ubuntu/mtcnn')"
   ]
  },
  {
   "cell_type": "code",
   "execution_count": 2,
   "metadata": {},
   "outputs": [],
   "source": [
    "# facenet_pytorch_c: avoid confusion with system default facenet_pytorch\n",
    "from facenet_pytorch_c import MTCNN\n",
    "\n",
    "from tqdm import tqdm\n",
    "import numpy as np\n",
    "import os\n",
    "\n",
    "# pytorch\n",
    "import torch\n",
    "import torch.optim as optim\n",
    "from torch import nn\n",
    "\n",
    "# data handling\n",
    "from torch.utils.data import DataLoader\n",
    "\n",
    "# torchvision libs\n",
    "from torchvision import datasets\n",
    "from torchvision import transforms\n",
    "\n",
    "# other custom scripts\n",
    "import utils"
   ]
  },
  {
   "cell_type": "code",
   "execution_count": 3,
   "metadata": {},
   "outputs": [
    {
     "name": "stdout",
     "output_type": "stream",
     "text": [
      "Available device: cuda:0\n"
     ]
    }
   ],
   "source": [
    "\n",
    "device = torch.device(\"cuda:0\" if torch.cuda.is_available() else \"cpu\")\n",
    "print(\"Available device: \" + str(device))\n",
    "\n",
    "# training hyperparameters\n",
    "learning_rate = 1e-3\n",
    "epochs = 30\n",
    "decay_step = [15]\n",
    "decay_rate = 0.1\n",
    "opt = 'Adam'    # either Adam or SGD\n",
    "batch_size = 64\n"
   ]
  },
  {
   "cell_type": "code",
   "execution_count": 4,
   "metadata": {},
   "outputs": [],
   "source": [
    "# data loading parameters\n",
    "workers = 4\n",
    "resize_shape = (224, 224)"
   ]
  },
  {
   "cell_type": "code",
   "execution_count": 5,
   "metadata": {},
   "outputs": [
    {
     "name": "stderr",
     "output_type": "stream",
     "text": [
      "100%|██████████| 23708/23708 [04:37<00:00, 85.39it/s]"
     ]
    },
    {
     "name": "stdout",
     "output_type": "stream",
     "text": [
      "Ignored: \n",
      "18_0_1_20170113175821404.jpg.chip.jpg\n",
      "18_1_0_20170109213103958.jpg.chip.jpg\n",
      "1_0_0_20170109193052283.jpg.chip.jpg\n",
      "1_0_0_20170109194120301.jpg.chip.jpg\n",
      "1_1_0_20170109190852630.jpg.chip.jpg\n",
      "1_1_0_20170109194452834.jpg.chip.jpg\n",
      "1_1_4_20161221202159241.jpg.chip.jpg\n",
      "1_1_4_20170109194502921.jpg.chip.jpg\n",
      "20_1_0_20170109214125992.jpg.chip.jpg\n",
      "20_1_3_20170119180826861.jpg.chip.jpg\n",
      "25_0_1_20170116001410569.jpg.chip.jpg\n",
      "25_0_4_20170117155154894.jpg.chip.jpg\n",
      "25_1_3_20170119171206287.jpg.chip.jpg\n",
      "26_0_0_20170113210126964.jpg.chip.jpg\n",
      "26_0_0_20170113210319560.jpg.chip.jpg\n",
      "26_0_0_20170113210605342.jpg.chip.jpg\n",
      "26_0_2_20170119180202654.jpg.chip.jpg\n",
      "26_1_1_20170116153459393.jpg.chip.jpg\n",
      "26_1_1_20170117201147190.jpg.chip.jpg\n",
      "26_1_2_20170116180208093.jpg.chip.jpg\n",
      "28_0_1_20170117020012900.jpg.chip.jpg\n",
      "28_1_2_20170116164703724.jpg.chip.jpg\n",
      "2_1_2_20161219142349633.jpg.chip.jpg\n",
      "2_1_2_20161219203118564.jpg.chip.jpg\n",
      "30_1_2_20170105162719051.jpg.chip.jpg\n",
      "31_1_0_20170117181946996.jpg.chip.jpg\n",
      "33_0_0_20170113210319548.jpg.chip.jpg\n",
      "36_0_0_20170117135559253.jpg.chip.jpg\n",
      "37_0_1_20170117134417970.jpg.chip.jpg\n",
      "39_0_1_20170117165745495.jpg.chip.jpg\n",
      "41_0_1_20170117185928397.jpg.chip.jpg\n",
      "44_0_1_20170111181750405.jpg.chip.jpg\n",
      "50_0_3_20170119204341751.jpg.chip.jpg\n",
      "52_0_3_20170119205733615.jpg.chip.jpg\n",
      "54_0_0_20170113210319475.jpg.chip.jpg\n",
      "61_1_0_20170120134639935.jpg.chip.jpg\n",
      "80_0_2_20170111210646563.jpg.chip.jpg\n",
      "90_0_0_20170111210338948.jpg.chip.jpg\n",
      "99_1_1_20170120134639935.jpg.chip.jpg\n",
      "9_0_0_20170110224425000.jpg.chip.jpg\n"
     ]
    },
    {
     "name": "stderr",
     "output_type": "stream",
     "text": [
      "\n"
     ]
    }
   ],
   "source": [
    "# get data\n",
    "x_train, age_train, fn_train, bbox_train, prob_train, land_train, x_valid, age_valid, fn_valid, bbox_valid, prob_valid, land_valid = utils.get_images(\n",
    "    r'/home/ubuntu/UTKFace', resize_shape=resize_shape\n",
    "    )"
   ]
  },
  {
   "cell_type": "code",
   "execution_count": 6,
   "metadata": {},
   "outputs": [],
   "source": [
    "# setup mtcnn\n",
    "\"\"\"\n",
    "mtcnn = MTCNN(\n",
    "    image_size=160, margin=0, min_face_size=20,\n",
    "    thresholds=[0.6, 0.7, 0.7], factor=0.709, post_process=True, keep_all=True,\n",
    "    device=device\n",
    ")\n",
    "\"\"\"\n",
    "mtcnn = MTCNN(\n",
    "    image_size=160, margin=0, min_face_size=20,\n",
    "    thresholds=[0.5, 0.7, 0.7], factor=0.709, post_process=True, keep_all=True,\n",
    "    device=device\n",
    ")"
   ]
  },
  {
   "cell_type": "code",
   "execution_count": null,
   "metadata": {},
   "outputs": [],
   "source": []
  },
  {
   "cell_type": "code",
   "execution_count": null,
   "metadata": {},
   "outputs": [],
   "source": [
    "# define data reader\n",
    "\n",
    "# no need to convert to PIL, because get_images already does that\n",
    "\n",
    "transform_train = transforms.Compose([\n",
    "    #transforms.ToPILImage(),\n",
    "    transforms.RandomHorizontalFlip(),\n",
    "    transforms.ToTensor(),\n",
    "    transforms.Normalize((0.485, 0.456, 0.406), (0.229, 0.224, 0.225)),\n",
    "    ])\n",
    "\n",
    "\n",
    "\"\"\"\n",
    "transform_valid = transforms.Compose([\n",
    "    #transforms.ToPILImage(),\n",
    "    #transforms.ToTensor(),\n",
    "    #transforms.Normalize((0.485, 0.456, 0.406), (0.229, 0.224, 0.225)),\n",
    "    ])\n",
    "\"\"\"\n",
    "\n",
    "train_reader = DataLoader(\n",
    "    utils.UTKDataLoader(x_train, y_train, tsfm=transform_train),\n",
    "    batch_size=batch_size, num_workers=workers, shuffle=True\n",
    "    )\n",
    "\n",
    "\"\"\"\n",
    "valid_reader = DataLoader(\n",
    "    utils.UTKDataLoader(x_valid, y_valid, tsfm=transform_valid),\n",
    "    batch_size=batch_size, num_workers=workers, shuffle=False\n",
    "    )\n",
    "\"\"\""
   ]
  }
 ],
 "metadata": {
  "kernelspec": {
   "display_name": "Python 3",
   "language": "python",
   "name": "python3"
  },
  "language_info": {
   "codemirror_mode": {
    "name": "ipython",
    "version": 3
   },
   "file_extension": ".py",
   "mimetype": "text/x-python",
   "name": "python",
   "nbconvert_exporter": "python",
   "pygments_lexer": "ipython3",
   "version": "3.7.7"
  }
 },
 "nbformat": 4,
 "nbformat_minor": 4
}
