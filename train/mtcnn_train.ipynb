{
 "cells": [
  {
   "cell_type": "code",
   "execution_count": 1,
   "metadata": {},
   "outputs": [],
   "source": [
    "# set up path to facenet_pytorch_c\n",
    "import sys\n",
    "sys.path.insert(1, '/home/ubuntu/mtcnn')"
   ]
  },
  {
   "cell_type": "code",
   "execution_count": 2,
   "metadata": {},
   "outputs": [],
   "source": [
    "# facenet_pytorch_c: avoid confusion with system default facenet_pytorch\n",
    "from facenet_pytorch_c import MTCNN\n",
    "\n",
    "from tqdm import tqdm\n",
    "import numpy as np\n",
    "import os\n",
    "\n",
    "# pytorch\n",
    "import torch\n",
    "import torch.optim as optim\n",
    "from torch import nn\n",
    "\n",
    "# data handling\n",
    "from torch.utils.data import DataLoader\n",
    "\n",
    "# torchvision libs\n",
    "from torchvision import datasets\n",
    "from torchvision import transforms\n",
    "\n",
    "# other custom scripts\n",
    "import utils"
   ]
  },
  {
   "cell_type": "code",
   "execution_count": 13,
   "metadata": {},
   "outputs": [
    {
     "name": "stdout",
     "output_type": "stream",
     "text": [
      "Available device: cuda:0\n",
      "print freq: 239\n"
     ]
    }
   ],
   "source": [
    "\n",
    "device = torch.device(\"cuda:0\" if torch.cuda.is_available() else \"cpu\")\n",
    "print(\"Available device: \" + str(device))\n",
    "\n",
    "# training hyperparameters\n",
    "learning_rate = 1e-4\n",
    "epochs = 100\n",
    "decay_step = [15, 30, 45, 60]\n",
    "decay_rate = 0.1\n",
    "opt = 'SGD'    # either Adam or SGD\n",
    "batch_size = 64\n",
    "\n",
    "print_freq = int(23000/batch_size - 120)\n",
    "print(\"print freq: {}\".format(print_freq))\n"
   ]
  },
  {
   "cell_type": "code",
   "execution_count": 4,
   "metadata": {},
   "outputs": [],
   "source": [
    "# data loading parameters\n",
    "workers = 4\n",
    "resize_shape = (48, 48)\n",
    "class_num = 5"
   ]
  },
  {
   "cell_type": "code",
   "execution_count": 5,
   "metadata": {},
   "outputs": [
    {
     "name": "stderr",
     "output_type": "stream",
     "text": [
      "100%|██████████| 23708/23708 [02:29<00:00, 158.71it/s]"
     ]
    },
    {
     "name": "stdout",
     "output_type": "stream",
     "text": [
      "Ignored images: \n"
     ]
    },
    {
     "name": "stderr",
     "output_type": "stream",
     "text": [
      "\n"
     ]
    }
   ],
   "source": [
    "# get data\n",
    "x_train, age_train, fn_train, bbox_train, prob_train, land_train, x_valid, age_valid, fn_valid, bbox_valid, prob_valid, land_valid = utils.get_images(\n",
    "    r'/home/ubuntu/UTKFace', age_thresh=(18, 35, 55, 75), resize_shape=resize_shape, label_mode=False\n",
    ")"
   ]
  },
  {
   "cell_type": "code",
   "execution_count": 6,
   "metadata": {},
   "outputs": [],
   "source": [
    "# setup mtcnn\n",
    "\n",
    "mtcnn = MTCNN(\n",
    "    image_size=160, margin=0, min_face_size=20,\n",
    "    thresholds=[0.6, 0.7, 0.7], factor=0.709, post_process=True, keep_all=True,\n",
    "    device=device\n",
    ")"
   ]
  },
  {
   "cell_type": "code",
   "execution_count": 14,
   "metadata": {},
   "outputs": [],
   "source": [
    "# define data reader\n",
    "\n",
    "# no need to convert to PIL, because get_images already does that\n",
    "# also, disabling image normalization for now\n",
    "\n",
    "# note: horizontal flip must be disabled, or else mtcnn bbox labels would be invalidated\n",
    "\n",
    "transform_train = transforms.Compose([\n",
    "    #transforms.ToPILImage(),\n",
    "    #transforms.RandomHorizontalFlip(),\n",
    "    transforms.ToTensor(),\n",
    "    #transforms.Normalize((0.485, 0.456, 0.406), (0.229, 0.224, 0.225)),\n",
    "])\n",
    "\n",
    "\n",
    "\n",
    "transform_valid = transforms.Compose([\n",
    "    #transforms.ToPILImage(),\n",
    "    transforms.ToTensor(),\n",
    "    #transforms.Normalize((0.485, 0.456, 0.406), (0.229, 0.224, 0.225)),\n",
    "])\n",
    "\n",
    "train_ds = utils.UTK_dataset(\n",
    "    x_train, age_train, bbox_train, prob_train,\n",
    "    land_train, trsfm=transform_train\n",
    ")\n",
    "\n",
    "valid_ds = utils.UTK_dataset(\n",
    "    x_valid, age_valid, bbox_valid, prob_valid,\n",
    "    land_valid, trsfm=transform_valid\n",
    ")\n",
    "\n",
    "\n",
    "train_loader = DataLoader(\n",
    "    train_ds,\n",
    "    batch_size=batch_size, num_workers=workers, shuffle=True\n",
    ")\n",
    "\n",
    "\n",
    "valid_loader = DataLoader(\n",
    "    valid_ds,\n",
    "    batch_size=batch_size, num_workers=workers, shuffle=False\n",
    ")\n"
   ]
  },
  {
   "cell_type": "code",
   "execution_count": 15,
   "metadata": {},
   "outputs": [
    {
     "name": "stdout",
     "output_type": "stream",
     "text": [
      "Optimizer: SGD\n",
      "epoch: 1 agel: 1.3190 probl: 0.0389 landl: 0.0074 bboxl: 0.0238\n",
      "epoch: 2 agel: 1.6371 probl: 0.0444 landl: 0.0090 bboxl: 0.0295\n",
      "epoch: 3 agel: 1.6393 probl: 0.0543 landl: 0.0091 bboxl: 0.0297\n",
      "epoch: 4 agel: 1.6368 probl: 0.0513 landl: 0.0090 bboxl: 0.0294\n",
      "epoch: 5 agel: 1.6343 probl: 0.0493 landl: 0.0090 bboxl: 0.0291\n",
      "Saved model at epoch-5.pth.tar\n",
      "epoch: 6 agel: 1.6406 probl: 0.0415 landl: 0.0090 bboxl: 0.0296\n",
      "epoch: 7 agel: 1.6404 probl: 0.0590 landl: 0.0090 bboxl: 0.0295\n",
      "epoch: 8 agel: 1.6384 probl: 0.0500 landl: 0.0090 bboxl: 0.0293\n",
      "epoch: 9 agel: 1.6345 probl: 0.0485 landl: 0.0090 bboxl: 0.0297\n",
      "epoch: 10 agel: 1.6394 probl: 0.0509 landl: 0.0090 bboxl: 0.0293\n",
      "Saved model at epoch-10.pth.tar\n",
      "epoch: 11 agel: 1.6361 probl: 0.0501 landl: 0.0089 bboxl: 0.0297\n",
      "epoch: 12 agel: 1.6364 probl: 0.0424 landl: 0.0090 bboxl: 0.0294\n",
      "epoch: 13 agel: 1.6337 probl: 0.0576 landl: 0.0090 bboxl: 0.0291\n",
      "epoch: 14 agel: 1.6430 probl: 0.0471 landl: 0.0090 bboxl: 0.0298\n",
      "epoch: 15 agel: 1.6325 probl: 0.0528 landl: 0.0089 bboxl: 0.0292\n",
      "Saved model at epoch-15.pth.tar\n",
      "epoch: 16 agel: 1.6415 probl: 0.0479 landl: 0.0090 bboxl: 0.0297\n",
      "epoch: 17 agel: 1.6316 probl: 0.0450 landl: 0.0090 bboxl: 0.0293\n",
      "epoch: 18 agel: 1.6446 probl: 0.0490 landl: 0.0089 bboxl: 0.0292\n",
      "epoch: 19 agel: 1.6408 probl: 0.0533 landl: 0.0089 bboxl: 0.0296\n",
      "epoch: 20 agel: 1.6332 probl: 0.0478 landl: 0.0089 bboxl: 0.0294\n"
     ]
    },
    {
     "ename": "KeyboardInterrupt",
     "evalue": "",
     "output_type": "error",
     "traceback": [
      "\u001b[0;31m---------------------------------------------------------------------------\u001b[0m",
      "\u001b[0;31mKeyboardInterrupt\u001b[0m                         Traceback (most recent call last)",
      "\u001b[0;32m<ipython-input-15-ea4812ee6270>\u001b[0m in \u001b[0;36m<module>\u001b[0;34m\u001b[0m\n\u001b[1;32m     68\u001b[0m \u001b[0;34m\u001b[0m\u001b[0m\n\u001b[1;32m     69\u001b[0m         \u001b[0moptimizer\u001b[0m\u001b[0;34m.\u001b[0m\u001b[0mzero_grad\u001b[0m\u001b[0;34m(\u001b[0m\u001b[0;34m)\u001b[0m\u001b[0;34m\u001b[0m\u001b[0;34m\u001b[0m\u001b[0m\n\u001b[0;32m---> 70\u001b[0;31m         \u001b[0mall_loss\u001b[0m\u001b[0;34m.\u001b[0m\u001b[0mbackward\u001b[0m\u001b[0;34m(\u001b[0m\u001b[0;34m)\u001b[0m\u001b[0;34m\u001b[0m\u001b[0;34m\u001b[0m\u001b[0m\n\u001b[0m\u001b[1;32m     71\u001b[0m         \u001b[0moptimizer\u001b[0m\u001b[0;34m.\u001b[0m\u001b[0mstep\u001b[0m\u001b[0;34m(\u001b[0m\u001b[0;34m)\u001b[0m\u001b[0;34m\u001b[0m\u001b[0;34m\u001b[0m\u001b[0m\n\u001b[1;32m     72\u001b[0m         \u001b[0mscheduler\u001b[0m\u001b[0;34m.\u001b[0m\u001b[0mstep\u001b[0m\u001b[0;34m(\u001b[0m\u001b[0;34m)\u001b[0m\u001b[0;34m\u001b[0m\u001b[0;34m\u001b[0m\u001b[0m\n",
      "\u001b[0;32m~/anaconda3/lib/python3.7/site-packages/torch/tensor.py\u001b[0m in \u001b[0;36mbackward\u001b[0;34m(self, gradient, retain_graph, create_graph)\u001b[0m\n\u001b[1;32m    193\u001b[0m                 \u001b[0mproducts\u001b[0m\u001b[0;34m.\u001b[0m \u001b[0mDefaults\u001b[0m \u001b[0mto\u001b[0m\u001b[0;31m \u001b[0m\u001b[0;31m`\u001b[0m\u001b[0;31m`\u001b[0m\u001b[0;32mFalse\u001b[0m\u001b[0;31m`\u001b[0m\u001b[0;31m`\u001b[0m\u001b[0;34m.\u001b[0m\u001b[0;34m\u001b[0m\u001b[0;34m\u001b[0m\u001b[0m\n\u001b[1;32m    194\u001b[0m         \"\"\"\n\u001b[0;32m--> 195\u001b[0;31m         \u001b[0mtorch\u001b[0m\u001b[0;34m.\u001b[0m\u001b[0mautograd\u001b[0m\u001b[0;34m.\u001b[0m\u001b[0mbackward\u001b[0m\u001b[0;34m(\u001b[0m\u001b[0mself\u001b[0m\u001b[0;34m,\u001b[0m \u001b[0mgradient\u001b[0m\u001b[0;34m,\u001b[0m \u001b[0mretain_graph\u001b[0m\u001b[0;34m,\u001b[0m \u001b[0mcreate_graph\u001b[0m\u001b[0;34m)\u001b[0m\u001b[0;34m\u001b[0m\u001b[0;34m\u001b[0m\u001b[0m\n\u001b[0m\u001b[1;32m    196\u001b[0m \u001b[0;34m\u001b[0m\u001b[0m\n\u001b[1;32m    197\u001b[0m     \u001b[0;32mdef\u001b[0m \u001b[0mregister_hook\u001b[0m\u001b[0;34m(\u001b[0m\u001b[0mself\u001b[0m\u001b[0;34m,\u001b[0m \u001b[0mhook\u001b[0m\u001b[0;34m)\u001b[0m\u001b[0;34m:\u001b[0m\u001b[0;34m\u001b[0m\u001b[0;34m\u001b[0m\u001b[0m\n",
      "\u001b[0;32m~/anaconda3/lib/python3.7/site-packages/torch/autograd/__init__.py\u001b[0m in \u001b[0;36mbackward\u001b[0;34m(tensors, grad_tensors, retain_graph, create_graph, grad_variables)\u001b[0m\n\u001b[1;32m     97\u001b[0m     Variable._execution_engine.run_backward(\n\u001b[1;32m     98\u001b[0m         \u001b[0mtensors\u001b[0m\u001b[0;34m,\u001b[0m \u001b[0mgrad_tensors\u001b[0m\u001b[0;34m,\u001b[0m \u001b[0mretain_graph\u001b[0m\u001b[0;34m,\u001b[0m \u001b[0mcreate_graph\u001b[0m\u001b[0;34m,\u001b[0m\u001b[0;34m\u001b[0m\u001b[0;34m\u001b[0m\u001b[0m\n\u001b[0;32m---> 99\u001b[0;31m         allow_unreachable=True)  # allow_unreachable flag\n\u001b[0m\u001b[1;32m    100\u001b[0m \u001b[0;34m\u001b[0m\u001b[0m\n\u001b[1;32m    101\u001b[0m \u001b[0;34m\u001b[0m\u001b[0m\n",
      "\u001b[0;31mKeyboardInterrupt\u001b[0m: "
     ]
    }
   ],
   "source": [
    "# train ONet\n",
    "import matplotlib.pyplot as plt\n",
    "import torchvision\n",
    "import PIL\n",
    "\n",
    "from tensorboardX import SummaryWriter\n",
    "\n",
    "writer = SummaryWriter(log_dir=\"/home/ubuntu/tensorLog\") # tensorboard writer\n",
    "\n",
    "mtcnn.train(); # semicolon here, to suppress unnecessary pytorch output\n",
    "mtcnn.onet.train()\n",
    "mtcnn.onet.to(device)\n",
    "\n",
    "prob_lossfn = nn.BCELoss().to(device)\n",
    "bbox_lossfn = nn.MSELoss().to(device)\n",
    "landmarks_lossfn = nn.MSELoss().to(device)\n",
    "age_lossfn = nn.CrossEntropyLoss().to(device)\n",
    "\n",
    "\n",
    "optimizer = None\n",
    "\n",
    "if opt == \"Adam\":\n",
    "    print(\"Optimizer: Adam\")\n",
    "    optimizer = torch.optim.Adam(mtcnn.onet.parameters(), lr=learning_rate, amsgrad=True)\n",
    "elif opt == \"SGD\":\n",
    "    print(\"Optimizer: SGD\")\n",
    "    optimizer = torch.optim.SGD(mtcnn.onet.parameters(), lr=learning_rate, momentum=0.9)\n",
    "else:\n",
    "    print(\"Error\")\n",
    "\n",
    "scheduler = optim.lr_scheduler.MultiStepLR(optimizer, milestones=decay_step, gamma=decay_rate)\n",
    "\n",
    "rl1, rl2, rl3, rl4 = 0, 0, 0, 0\n",
    "\n",
    "\n",
    "for epoch in range(1, epochs+1):\n",
    "    for batch_idx, data in enumerate(train_loader):\n",
    "        im, age, bbox, prob, landmarks = data\n",
    "        \n",
    "        im = im.to(device)\n",
    "        age = age.to(device)\n",
    "        bbox = bbox.to(device)\n",
    "        prob = prob.to(device)\n",
    "        landmarks = landmarks.to(device)\n",
    "        \n",
    "        o_bbox, o_landmarks, o_prob, o_age = mtcnn.onet(im)\n",
    "        \n",
    "        prob_loss = prob_lossfn(o_prob, prob)\n",
    "        bbox_loss = bbox_lossfn(o_bbox, bbox)\n",
    "        landmarks_loss = landmarks_lossfn(o_landmarks, landmarks)\n",
    "        age_loss = age_lossfn(o_age, age)\n",
    "        \n",
    "        rl1 += age_loss.item()\n",
    "        rl2 += prob_loss.item()\n",
    "        rl3 += landmarks_loss.item()\n",
    "        rl4 += bbox_loss.item()\n",
    "        \n",
    "        \n",
    "        all_loss = prob_loss*0.2 + bbox_loss*0.2 + landmarks_loss*0.2 + age_loss*1.0\n",
    "        \n",
    "        if batch_idx % print_freq == print_freq-1:\n",
    "            print(\"epoch: {} agel: {:.4f} probl: {:.4f} landl: {:.4f} bboxl: {:.4f}\".format(epoch, rl1/print_freq, rl2/print_freq,rl3/print_freq,rl4/print_freq,))\n",
    "            writer.add_scalar('age_l', rl1/print_freq, epoch)\n",
    "            writer.add_scalar('prob_l', rl2/print_freq, epoch)\n",
    "            writer.add_scalar('land_l', rl3/print_freq, epoch)\n",
    "            writer.add_scalar('bbox_l', rl4/print_freq, epoch)\n",
    "            rl1, rl2, rl3, rl4 = 0, 0, 0, 0\n",
    "\n",
    "        optimizer.zero_grad()\n",
    "        all_loss.backward()\n",
    "        optimizer.step()\n",
    "        scheduler.step()\n",
    "    \n",
    "    if epoch % 5 == 0:\n",
    "        save_name = 'epoch-{}.pth.tar'.format(epoch)\n",
    "        torch.save({\n",
    "            'epoch': epochs,\n",
    "            'state_dict': mtcnn.onet.state_dict(),\n",
    "            'opt_dict': optimizer.state_dict(),\n",
    "        }, save_name)\n",
    "        print('Saved model at {}'.format(save_name))\n",
    "\n",
    "print(\"finished training\")"
   ]
  },
  {
   "cell_type": "code",
   "execution_count": 10,
   "metadata": {},
   "outputs": [
    {
     "name": "stdout",
     "output_type": "stream",
     "text": [
      "accuracy: 48.6%\n",
      "precision: 0.46, recall: 0.33, f1: 0.39\n",
      "valid_ds length: 4741\n",
      "age dist: 880 2166 1030 493 172 \n"
     ]
    }
   ],
   "source": [
    "# test mtcnn performance\n",
    "\n",
    "import matplotlib.pyplot as plt\n",
    "import torchvision.transforms\n",
    "import PIL\n",
    "\n",
    "age_thresh = (0, 6, 18, 200)\n",
    "age_str = ['{}~{}'.format(a, b) for (a, b) in zip(age_thresh[:-1], age_thresh[1:])]\n",
    "\n",
    "total = len(valid_ds)\n",
    "err = 0\n",
    "truth = []\n",
    "pred = []\n",
    "\n",
    "bins = [0] * class_num\n",
    "\n",
    "for idx in range(0, total):\n",
    "    \n",
    "    #plt.imshow(transforms.ToPILImage()(train_ds[idx][0]))\n",
    "    #plt.show()\n",
    "    \n",
    "    _, _, _, o_age = mtcnn.onet(valid_ds[idx][0].unsqueeze(0).to(device))\n",
    "    \n",
    "    bins[age_valid[idx]] += 1\n",
    "    \n",
    "    if o_age.max(1)[1].item() != age_valid[idx]:\n",
    "        err += 1\n",
    "    \n",
    "    pred.append(o_age.max(1)[1].item())\n",
    "    truth.append(age_valid[idx])\n",
    "    #print(\"pred: {}, gt: {}\".format(o_age.max(1)[1].item(), age_train[idx]))\n",
    "\n",
    "print(\"accuracy: {:.1f}%\".format(100*(total-err)/total))\n",
    "p, r, f1 = utils.f1_score(truth, pred, 0)\n",
    "print(\"precision: {:.2f}, recall: {:.2f}, f1: {:.2f}\".format(p, r, f1))\n",
    "print(\"valid_ds length: {}\".format(len(valid_ds)))\n",
    "print(\"age dist: \", end='')\n",
    "for k in bins:\n",
    "    print(str(k)+\" \", end='')\n",
    "print()\n",
    "\n"
   ]
  },
  {
   "cell_type": "code",
   "execution_count": null,
   "metadata": {},
   "outputs": [],
   "source": []
  }
 ],
 "metadata": {
  "kernelspec": {
   "display_name": "Python 3",
   "language": "python",
   "name": "python3"
  },
  "language_info": {
   "codemirror_mode": {
    "name": "ipython",
    "version": 3
   },
   "file_extension": ".py",
   "mimetype": "text/x-python",
   "name": "python",
   "nbconvert_exporter": "python",
   "pygments_lexer": "ipython3",
   "version": "3.7.7"
  }
 },
 "nbformat": 4,
 "nbformat_minor": 4
}
