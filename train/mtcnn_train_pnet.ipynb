{
 "cells": [
  {
   "cell_type": "code",
   "execution_count": 1,
   "metadata": {},
   "outputs": [],
   "source": [
    "# set up path to facenet_pytorch_c\n",
    "import sys\n",
    "sys.path.insert(1, '/home/ubuntu/mtcnn')"
   ]
  },
  {
   "cell_type": "code",
   "execution_count": 2,
   "metadata": {},
   "outputs": [],
   "source": [
    "# facenet_pytorch_c: avoid confusion with system default facenet_pytorch\n",
    "from facenet_pytorch_c import MTCNN\n",
    "\n",
    "from tqdm import tqdm\n",
    "import numpy as np\n",
    "import os\n",
    "\n",
    "# pytorch\n",
    "import torch\n",
    "import torch.optim as optim\n",
    "from torch import nn\n",
    "\n",
    "# data handling\n",
    "from torch.utils.data import DataLoader\n",
    "\n",
    "# torchvision libs\n",
    "import torchvision\n",
    "from torchvision import datasets\n",
    "from torchvision import transforms\n",
    "import PIL\n"
   ]
  },
  {
   "cell_type": "code",
   "execution_count": 4,
   "metadata": {},
   "outputs": [
    {
     "name": "stderr",
     "output_type": "stream",
     "text": [
      "100%|██████████| 2101/2101 [00:00<00:00, 3061.08it/s]"
     ]
    },
    {
     "name": "stdout",
     "output_type": "stream",
     "text": [
      "done!\n"
     ]
    },
    {
     "name": "stderr",
     "output_type": "stream",
     "text": [
      "\n"
     ]
    }
   ],
   "source": [
    "# other custom scripts\n",
    "import utils\n",
    "utils.xml_to_numpy('/home/ubuntu/db_proc/db/annotations')"
   ]
  },
  {
   "cell_type": "code",
   "execution_count": 4,
   "metadata": {},
   "outputs": [],
   "source": [
    "import matplotlib.pyplot as plt\n",
    "import matplotlib.patches as patches"
   ]
  },
  {
   "cell_type": "code",
   "execution_count": 5,
   "metadata": {},
   "outputs": [
    {
     "name": "stdout",
     "output_type": "stream",
     "text": [
      "Available device: cuda:0\n",
      "print freq: 18\n"
     ]
    }
   ],
   "source": [
    "\n",
    "device = torch.device(\"cuda:0\" if torch.cuda.is_available() else \"cpu\")\n",
    "print(\"Available device: \" + str(device))\n",
    "\n",
    "# training hyperparameters\n",
    "learning_rate = 1e-2\n",
    "epochs = 400\n",
    "decay_step = [200, 225, 250, 275, 300, 325, 350, 375]\n",
    "decay_rate = 0.1\n",
    "opt = 'Adam'    # either Adam or SGD\n",
    "batch_size = 128\n",
    "\n",
    "print_freq = int(3050/batch_size - 5)\n",
    "print(\"print freq: {}\".format(print_freq))\n",
    "\n",
    "# data loading parameters\n",
    "workers = 4"
   ]
  },
  {
   "cell_type": "code",
   "execution_count": 6,
   "metadata": {},
   "outputs": [
    {
     "name": "stderr",
     "output_type": "stream",
     "text": [
      "100%|██████████| 3540/3540 [00:21<00:00, 161.03it/s]\n"
     ]
    }
   ],
   "source": [
    "x_train, prob_train, bbox_train, x_valid, prob_valid, bbox_valid = utils.get_images(\n",
    "    '/home/ubuntu/db_proc/db/images',\n",
    "    '/home/ubuntu/db_proc/db/annotations'\n",
    ")"
   ]
  },
  {
   "cell_type": "code",
   "execution_count": 7,
   "metadata": {},
   "outputs": [
    {
     "data": {
      "image/png": "[encoded data removed]",
      "text/plain": [
       "<Figure size 432x288 with 1 Axes>"
      ]
     },
     "metadata": {
      "needs_background": "light"
     },
     "output_type": "display_data"
    },
    {
     "name": "stdout",
     "output_type": "stream",
     "text": [
      "[0 3 5 9]\n"
     ]
    },
    {
     "data": {
      "image/png": "[encoded data removed]",
      "text/plain": [
       "<Figure size 432x288 with 1 Axes>"
      ]
     },
     "metadata": {
      "needs_background": "light"
     },
     "output_type": "display_data"
    },
    {
     "name": "stdout",
     "output_type": "stream",
     "text": [
      "[0 0 0 0]\n"
     ]
    },
    {
     "data": {
      "image/png": "[encoded data removed]",
      "text/plain": [
       "<Figure size 432x288 with 1 Axes>"
      ]
     },
     "metadata": {
      "needs_background": "light"
     },
     "output_type": "display_data"
    },
    {
     "name": "stdout",
     "output_type": "stream",
     "text": [
      "[0 0 0 0]\n"
     ]
    },
    {
     "data": {
      "image/png": "[encoded data removed]",
      "text/plain": [
       "<Figure size 432x288 with 1 Axes>"
      ]
     },
     "metadata": {
      "needs_background": "light"
     },
     "output_type": "display_data"
    },
    {
     "name": "stdout",
     "output_type": "stream",
     "text": [
      "[ 4  5  9 11]\n"
     ]
    },
    {
     "data": {
      "image/png": "[encoded data removed]",
      "text/plain": [
       "<Figure size 432x288 with 1 Axes>"
      ]
     },
     "metadata": {
      "needs_background": "light"
     },
     "output_type": "display_data"
    },
    {
     "name": "stdout",
     "output_type": "stream",
     "text": [
      "[0 0 0 0]\n"
     ]
    }
   ],
   "source": [
    "for i in range(55, 60):\n",
    "    plt.imshow(x_train[i*5])\n",
    "    plt.show()\n",
    "    print(bbox_train[i*5])"
   ]
  },
  {
   "cell_type": "code",
   "execution_count": 8,
   "metadata": {},
   "outputs": [],
   "source": [
    "class PNet(nn.Module):\n",
    "\n",
    "    def __init__(self):\n",
    "        super().__init__()\n",
    "\n",
    "        self.conv1 = nn.Conv2d(3, 10, kernel_size=3)\n",
    "        self.prelu1 = nn.PReLU(10)\n",
    "        self.pool1 = nn.MaxPool2d(2, 2, ceil_mode=True)\n",
    "        self.conv2 = nn.Conv2d(10, 16, kernel_size=3)\n",
    "        self.prelu2 = nn.PReLU(16)\n",
    "        self.conv3 = nn.Conv2d(16, 32, kernel_size=3)\n",
    "        self.prelu3 = nn.PReLU(32)\n",
    "        self.conv4_1 = nn.Conv2d(32, 2, kernel_size=1)\n",
    "        self.softmax4_1 = nn.Softmax(dim=1)\n",
    "        self.conv4_2 = nn.Conv2d(32, 4, kernel_size=1)\n",
    "\n",
    "        self.training = True\n",
    "\n",
    "    def forward(self, x):\n",
    "        x = self.conv1(x)\n",
    "        x = self.prelu1(x)\n",
    "        x = self.pool1(x)\n",
    "        x = self.conv2(x)\n",
    "        x = self.prelu2(x)\n",
    "        x = self.conv3(x)\n",
    "        x = self.prelu3(x)\n",
    "        a = self.conv4_1(x) # prob\n",
    "        a = self.softmax4_1(a)\n",
    "        b = self.conv4_2(x) # bbox\n",
    "        return b, a\n"
   ]
  },
  {
   "cell_type": "code",
   "execution_count": 9,
   "metadata": {},
   "outputs": [],
   "source": [
    "transform_train = transforms.Compose([\n",
    "    transforms.ToTensor(),\n",
    "    #transforms.Normalize((0.485, 0.456, 0.406), (0.229, 0.224, 0.225)),\n",
    "])\n",
    "\n",
    "transform_valid = transforms.Compose([\n",
    "    transforms.ToTensor(),\n",
    "    #transforms.Normalize((0.485, 0.456, 0.406), (0.229, 0.224, 0.225)),\n",
    "])\n",
    "\n",
    "train_ds = utils.CIVDS(x_train, prob_train, bbox_train, trsfm=transform_train)\n",
    "\n",
    "valid_ds = utils.CIVDS(x_valid, prob_valid, bbox_valid, trsfm=transform_valid)\n",
    "\n",
    "train_loader = DataLoader(\n",
    "    train_ds, batch_size=batch_size,\n",
    "    num_workers=workers, shuffle=True\n",
    ")\n",
    "\n",
    "valid_loader = DataLoader(\n",
    "    valid_ds, batch_size=batch_size,\n",
    "    num_workers=workers, shuffle=False\n",
    ")"
   ]
  },
  {
   "cell_type": "code",
   "execution_count": 10,
   "metadata": {},
   "outputs": [
    {
     "data": {
      "text/plain": [
       "PNet(\n",
       "  (conv1): Conv2d(3, 10, kernel_size=(3, 3), stride=(1, 1))\n",
       "  (prelu1): PReLU(num_parameters=10)\n",
       "  (pool1): MaxPool2d(kernel_size=2, stride=2, padding=0, dilation=1, ceil_mode=True)\n",
       "  (conv2): Conv2d(10, 16, kernel_size=(3, 3), stride=(1, 1))\n",
       "  (prelu2): PReLU(num_parameters=16)\n",
       "  (conv3): Conv2d(16, 32, kernel_size=(3, 3), stride=(1, 1))\n",
       "  (prelu3): PReLU(num_parameters=32)\n",
       "  (conv4_1): Conv2d(32, 2, kernel_size=(1, 1), stride=(1, 1))\n",
       "  (softmax4_1): Softmax(dim=1)\n",
       "  (conv4_2): Conv2d(32, 4, kernel_size=(1, 1), stride=(1, 1))\n",
       ")"
      ]
     },
     "execution_count": 10,
     "metadata": {},
     "output_type": "execute_result"
    }
   ],
   "source": [
    "pnet = PNet()\n",
    "pnet.train()\n",
    "pnet.to(device)"
   ]
  },
  {
   "cell_type": "code",
   "execution_count": 11,
   "metadata": {},
   "outputs": [
    {
     "name": "stdout",
     "output_type": "stream",
     "text": [
      "Optimizer: Adam\n",
      "epoch: 1 probl: 0.8025 bboxl: 14.9188\n",
      "epoch: 2 probl: 0.8251 bboxl: 13.5747\n",
      "epoch: 3 probl: 0.6651 bboxl: 10.5572\n",
      "epoch: 4 probl: 0.5307 bboxl: 8.2582\n",
      "epoch: 5 probl: 0.4623 bboxl: 7.9742\n",
      "epoch: 6 probl: 0.3575 bboxl: 6.3438\n",
      "epoch: 7 probl: 0.3474 bboxl: 6.5975\n",
      "epoch: 8 probl: 0.3293 bboxl: 6.4822\n",
      "epoch: 9 probl: 0.2774 bboxl: 5.5837\n",
      "epoch: 10 probl: 0.2568 bboxl: 4.8814\n",
      "epoch: 11 probl: 0.2127 bboxl: 4.2136\n",
      "epoch: 12 probl: 0.2400 bboxl: 4.5088\n",
      "epoch: 13 probl: 0.2189 bboxl: 4.1370\n",
      "epoch: 14 probl: 0.1920 bboxl: 3.7905\n",
      "epoch: 15 probl: 0.1471 bboxl: 3.1218\n",
      "epoch: 16 probl: 0.1508 bboxl: 3.1157\n",
      "epoch: 17 probl: 0.1293 bboxl: 2.9961\n",
      "epoch: 18 probl: 0.1299 bboxl: 2.9084\n",
      "epoch: 19 probl: 0.1552 bboxl: 3.2054\n",
      "epoch: 20 probl: 0.1223 bboxl: 2.6648\n",
      "epoch: 21 probl: 0.0890 bboxl: 2.2161\n",
      "epoch: 22 probl: 0.0736 bboxl: 2.0137\n",
      "epoch: 23 probl: 0.0840 bboxl: 1.9962\n",
      "epoch: 24 probl: 0.0813 bboxl: 2.0181\n",
      "epoch: 25 probl: 0.0572 bboxl: 1.6302\n",
      "epoch: 26 probl: 0.0568 bboxl: 1.6719\n",
      "epoch: 27 probl: 0.0569 bboxl: 1.5919\n",
      "epoch: 28 probl: 0.0524 bboxl: 1.5992\n",
      "epoch: 29 probl: 0.0453 bboxl: 1.4754\n",
      "epoch: 30 probl: 0.0460 bboxl: 1.3809\n",
      "epoch: 31 probl: 0.0405 bboxl: 1.3201\n",
      "epoch: 32 probl: 0.0381 bboxl: 1.2503\n",
      "epoch: 33 probl: 0.0310 bboxl: 1.1753\n",
      "epoch: 34 probl: 0.0262 bboxl: 1.0803\n",
      "epoch: 35 probl: 0.0273 bboxl: 1.0056\n",
      "epoch: 36 probl: 0.0197 bboxl: 0.9418\n",
      "epoch: 37 probl: 0.0278 bboxl: 1.0171\n",
      "epoch: 38 probl: 0.0216 bboxl: 0.9443\n",
      "epoch: 39 probl: 0.0194 bboxl: 0.8811\n",
      "epoch: 40 probl: 0.0161 bboxl: 0.8526\n",
      "epoch: 41 probl: 0.0231 bboxl: 1.0227\n",
      "epoch: 42 probl: 0.0196 bboxl: 0.9255\n",
      "epoch: 43 probl: 0.0137 bboxl: 0.7810\n",
      "epoch: 44 probl: 0.0190 bboxl: 0.8236\n",
      "epoch: 45 probl: 0.0133 bboxl: 0.7623\n",
      "epoch: 46 probl: 0.0144 bboxl: 0.7540\n",
      "epoch: 47 probl: 0.0194 bboxl: 0.9213\n",
      "epoch: 48 probl: 0.0108 bboxl: 0.7850\n",
      "epoch: 49 probl: 0.0160 bboxl: 0.7918\n",
      "epoch: 50 probl: 0.0102 bboxl: 0.7501\n",
      "epoch: 51 probl: 0.0132 bboxl: 0.6995\n",
      "epoch: 52 probl: 0.0101 bboxl: 0.6810\n",
      "epoch: 53 probl: 0.0110 bboxl: 0.6855\n",
      "epoch: 54 probl: 0.0109 bboxl: 0.6885\n",
      "epoch: 55 probl: 0.0131 bboxl: 0.7045\n",
      "epoch: 56 probl: 0.0099 bboxl: 0.6807\n",
      "epoch: 57 probl: 0.0079 bboxl: 0.6444\n",
      "epoch: 58 probl: 0.0085 bboxl: 0.6983\n",
      "epoch: 59 probl: 0.0056 bboxl: 0.6629\n",
      "epoch: 60 probl: 0.0067 bboxl: 0.7138\n",
      "epoch: 61 probl: 0.0050 bboxl: 0.6020\n",
      "epoch: 62 probl: 0.0067 bboxl: 0.6750\n",
      "epoch: 63 probl: 0.0051 bboxl: 0.6665\n",
      "epoch: 64 probl: 0.0049 bboxl: 0.6895\n",
      "epoch: 65 probl: 0.0064 bboxl: 0.6102\n",
      "epoch: 66 probl: 0.0035 bboxl: 0.5728\n",
      "epoch: 67 probl: 0.0032 bboxl: 0.5763\n",
      "epoch: 68 probl: 0.0028 bboxl: 0.5477\n",
      "epoch: 69 probl: 0.0024 bboxl: 0.5492\n",
      "epoch: 70 probl: 0.0044 bboxl: 0.6341\n",
      "epoch: 71 probl: 0.0028 bboxl: 0.5739\n",
      "epoch: 72 probl: 0.0042 bboxl: 0.6038\n",
      "epoch: 73 probl: 0.0026 bboxl: 0.5426\n",
      "epoch: 74 probl: 0.0026 bboxl: 0.5621\n",
      "epoch: 75 probl: 0.0018 bboxl: 0.5031\n",
      "epoch: 76 probl: 0.0025 bboxl: 0.5105\n",
      "epoch: 77 probl: 0.0014 bboxl: 0.4745\n",
      "epoch: 78 probl: 0.0025 bboxl: 0.5247\n",
      "epoch: 79 probl: 0.0018 bboxl: 0.5302\n",
      "epoch: 80 probl: 0.0012 bboxl: 0.4543\n",
      "epoch: 81 probl: 0.0026 bboxl: 0.6017\n",
      "epoch: 82 probl: 0.0018 bboxl: 0.5835\n",
      "epoch: 83 probl: 0.0017 bboxl: 0.6199\n",
      "epoch: 84 probl: 0.0024 bboxl: 0.5598\n",
      "epoch: 85 probl: 0.0015 bboxl: 0.5222\n",
      "epoch: 86 probl: 0.0018 bboxl: 0.5345\n",
      "epoch: 87 probl: 0.0013 bboxl: 0.4753\n",
      "epoch: 88 probl: 0.0019 bboxl: 0.4431\n",
      "epoch: 89 probl: 0.0014 bboxl: 0.4823\n",
      "epoch: 90 probl: 0.0012 bboxl: 0.4565\n",
      "epoch: 91 probl: 0.0022 bboxl: 0.5555\n",
      "epoch: 92 probl: 0.0021 bboxl: 0.5368\n",
      "epoch: 93 probl: 0.0049 bboxl: 0.6427\n",
      "epoch: 94 probl: 0.0070 bboxl: 0.7702\n",
      "epoch: 95 probl: 0.0016 bboxl: 0.5186\n",
      "epoch: 96 probl: 0.0013 bboxl: 0.5003\n",
      "epoch: 97 probl: 0.0011 bboxl: 0.4530\n",
      "epoch: 98 probl: 0.0013 bboxl: 0.4328\n",
      "epoch: 99 probl: 0.0006 bboxl: 0.4250\n",
      "epoch: 100 probl: 0.0009 bboxl: 0.4083\n",
      "epoch: 101 probl: 0.0008 bboxl: 0.4504\n",
      "epoch: 102 probl: 0.0009 bboxl: 0.4128\n",
      "epoch: 103 probl: 0.0007 bboxl: 0.4315\n",
      "epoch: 104 probl: 0.0008 bboxl: 0.4039\n",
      "epoch: 105 probl: 0.0006 bboxl: 0.4390\n",
      "epoch: 106 probl: 0.0006 bboxl: 0.4143\n",
      "epoch: 107 probl: 0.0010 bboxl: 0.4055\n",
      "epoch: 108 probl: 0.0008 bboxl: 0.4142\n",
      "epoch: 109 probl: 0.0006 bboxl: 0.3963\n",
      "epoch: 110 probl: 0.0007 bboxl: 0.4056\n",
      "epoch: 111 probl: 0.0006 bboxl: 0.4151\n",
      "epoch: 112 probl: 0.0005 bboxl: 0.3885\n",
      "epoch: 113 probl: 0.0005 bboxl: 0.3554\n",
      "epoch: 114 probl: 0.0007 bboxl: 0.4179\n",
      "epoch: 115 probl: 0.0006 bboxl: 0.3998\n",
      "epoch: 116 probl: 0.0006 bboxl: 0.4340\n",
      "epoch: 117 probl: 0.0006 bboxl: 0.3955\n",
      "epoch: 118 probl: 0.0005 bboxl: 0.3678\n",
      "epoch: 119 probl: 0.0005 bboxl: 0.4068\n",
      "epoch: 120 probl: 0.0006 bboxl: 0.3983\n",
      "epoch: 121 probl: 0.0028 bboxl: 0.4734\n",
      "epoch: 122 probl: 0.0023 bboxl: 0.4817\n",
      "epoch: 123 probl: 0.0008 bboxl: 0.4412\n",
      "epoch: 124 probl: 0.0015 bboxl: 0.4814\n",
      "epoch: 125 probl: 0.0005 bboxl: 0.4056\n",
      "epoch: 126 probl: 0.0006 bboxl: 0.3892\n",
      "epoch: 127 probl: 0.0004 bboxl: 0.3875\n",
      "epoch: 128 probl: 0.0005 bboxl: 0.3871\n",
      "epoch: 129 probl: 0.0006 bboxl: 0.4018\n",
      "epoch: 130 probl: 0.0004 bboxl: 0.3777\n",
      "epoch: 131 probl: 0.0005 bboxl: 0.3560\n",
      "epoch: 132 probl: 0.0004 bboxl: 0.3514\n",
      "epoch: 133 probl: 0.0004 bboxl: 0.3356\n",
      "epoch: 134 probl: 0.0004 bboxl: 0.3530\n",
      "epoch: 135 probl: 0.0003 bboxl: 0.3367\n",
      "epoch: 136 probl: 0.0004 bboxl: 0.3541\n",
      "epoch: 137 probl: 0.0005 bboxl: 0.3629\n",
      "epoch: 138 probl: 0.0004 bboxl: 0.3772\n",
      "epoch: 139 probl: 0.0004 bboxl: 0.3351\n",
      "epoch: 140 probl: 0.0004 bboxl: 0.3327\n",
      "epoch: 141 probl: 0.0004 bboxl: 0.3363\n",
      "epoch: 142 probl: 0.0004 bboxl: 0.3335\n",
      "epoch: 143 probl: 0.0004 bboxl: 0.3837\n",
      "epoch: 144 probl: 0.0004 bboxl: 0.3808\n",
      "epoch: 145 probl: 0.0003 bboxl: 0.3302\n",
      "epoch: 146 probl: 0.0004 bboxl: 0.3594\n",
      "epoch: 147 probl: 0.0004 bboxl: 0.3221\n",
      "epoch: 148 probl: 0.0004 bboxl: 0.3300\n",
      "epoch: 149 probl: 0.0005 bboxl: 0.3235\n",
      "epoch: 150 probl: 0.0004 bboxl: 0.3748\n",
      "epoch: 151 probl: 0.0003 bboxl: 0.3274\n",
      "epoch: 152 probl: 0.0004 bboxl: 0.3236\n",
      "epoch: 153 probl: 0.0003 bboxl: 0.3219\n",
      "epoch: 154 probl: 0.0005 bboxl: 0.3102\n",
      "epoch: 155 probl: 0.0004 bboxl: 0.3149\n",
      "epoch: 156 probl: 0.0004 bboxl: 0.3027\n",
      "epoch: 157 probl: 0.0003 bboxl: 0.3082\n",
      "epoch: 158 probl: 0.0004 bboxl: 0.3141\n",
      "epoch: 159 probl: 0.0004 bboxl: 0.3360\n",
      "epoch: 160 probl: 0.0003 bboxl: 0.3168\n",
      "epoch: 161 probl: 0.0004 bboxl: 0.3216\n",
      "epoch: 162 probl: 0.0003 bboxl: 0.3174\n",
      "epoch: 163 probl: 0.0004 bboxl: 0.3016\n",
      "epoch: 164 probl: 0.0004 bboxl: 0.2978\n",
      "epoch: 165 probl: 0.0003 bboxl: 0.3024\n",
      "epoch: 166 probl: 0.0003 bboxl: 0.3134\n",
      "epoch: 167 probl: 0.0003 bboxl: 0.3142\n",
      "epoch: 168 probl: 0.0003 bboxl: 0.3091\n",
      "epoch: 169 probl: 0.0003 bboxl: 0.2925\n",
      "epoch: 170 probl: 0.0003 bboxl: 0.3139\n",
      "epoch: 171 probl: 0.0003 bboxl: 0.2881\n",
      "epoch: 172 probl: 0.0003 bboxl: 0.3006\n",
      "epoch: 173 probl: 0.0003 bboxl: 0.2874\n",
      "epoch: 174 probl: 0.0003 bboxl: 0.3087\n",
      "epoch: 175 probl: 0.0005 bboxl: 0.3392\n",
      "epoch: 176 probl: 0.0004 bboxl: 0.2954\n",
      "epoch: 177 probl: 0.0003 bboxl: 0.3244\n",
      "epoch: 178 probl: 0.0003 bboxl: 0.2823\n",
      "epoch: 179 probl: 0.0004 bboxl: 0.3073\n",
      "epoch: 180 probl: 0.0003 bboxl: 0.2724\n",
      "epoch: 181 probl: 0.0003 bboxl: 0.2786\n",
      "epoch: 182 probl: 0.0003 bboxl: 0.2882\n",
      "epoch: 183 probl: 0.0003 bboxl: 0.2573\n",
      "epoch: 184 probl: 0.0003 bboxl: 0.2792\n",
      "epoch: 185 probl: 0.0003 bboxl: 0.2819\n",
      "epoch: 186 probl: 0.0003 bboxl: 0.2872\n",
      "epoch: 187 probl: 0.0003 bboxl: 0.2877\n",
      "epoch: 188 probl: 0.0004 bboxl: 0.2766\n",
      "epoch: 189 probl: 0.0003 bboxl: 0.2848\n",
      "epoch: 190 probl: 0.0003 bboxl: 0.2975\n",
      "epoch: 191 probl: 0.0004 bboxl: 0.3093\n",
      "epoch: 192 probl: 0.0003 bboxl: 0.2724\n",
      "epoch: 193 probl: 0.0003 bboxl: 0.2922\n",
      "epoch: 194 probl: 0.0004 bboxl: 0.2858\n",
      "epoch: 195 probl: 0.0003 bboxl: 0.2728\n",
      "epoch: 196 probl: 0.0003 bboxl: 0.2745\n",
      "epoch: 197 probl: 0.0004 bboxl: 0.2677\n",
      "epoch: 198 probl: 0.0003 bboxl: 0.2760\n",
      "epoch: 199 probl: 0.0002 bboxl: 0.2561\n",
      "epoch: 200 probl: 0.0003 bboxl: 0.2806\n",
      "epoch: 201 probl: 0.0003 bboxl: 0.2564\n",
      "epoch: 202 probl: 0.0003 bboxl: 0.2317\n",
      "epoch: 203 probl: 0.0002 bboxl: 0.2390\n",
      "epoch: 204 probl: 0.0003 bboxl: 0.2383\n",
      "epoch: 205 probl: 0.0002 bboxl: 0.2100\n",
      "epoch: 206 probl: 0.0002 bboxl: 0.2375\n",
      "epoch: 207 probl: 0.0003 bboxl: 0.2241\n",
      "epoch: 208 probl: 0.0002 bboxl: 0.2246\n",
      "epoch: 209 probl: 0.0002 bboxl: 0.2169\n",
      "epoch: 210 probl: 0.0002 bboxl: 0.2252\n",
      "epoch: 211 probl: 0.0003 bboxl: 0.2325\n",
      "epoch: 212 probl: 0.0002 bboxl: 0.2233\n",
      "epoch: 213 probl: 0.0003 bboxl: 0.2314\n"
     ]
    },
    {
     "name": "stdout",
     "output_type": "stream",
     "text": [
      "epoch: 214 probl: 0.0002 bboxl: 0.2195\n",
      "epoch: 215 probl: 0.0003 bboxl: 0.2260\n",
      "epoch: 216 probl: 0.0003 bboxl: 0.2242\n",
      "epoch: 217 probl: 0.0003 bboxl: 0.2234\n",
      "epoch: 218 probl: 0.0002 bboxl: 0.2285\n",
      "epoch: 219 probl: 0.0002 bboxl: 0.2323\n",
      "epoch: 220 probl: 0.0003 bboxl: 0.2168\n",
      "epoch: 221 probl: 0.0002 bboxl: 0.2168\n",
      "epoch: 222 probl: 0.0002 bboxl: 0.2257\n",
      "epoch: 223 probl: 0.0003 bboxl: 0.2193\n",
      "epoch: 224 probl: 0.0003 bboxl: 0.2279\n",
      "epoch: 225 probl: 0.0003 bboxl: 0.2181\n",
      "epoch: 226 probl: 0.0002 bboxl: 0.2318\n",
      "epoch: 227 probl: 0.0003 bboxl: 0.2116\n",
      "epoch: 228 probl: 0.0002 bboxl: 0.2228\n",
      "epoch: 229 probl: 0.0003 bboxl: 0.2230\n",
      "epoch: 230 probl: 0.0003 bboxl: 0.2237\n",
      "epoch: 231 probl: 0.0003 bboxl: 0.2092\n",
      "epoch: 232 probl: 0.0003 bboxl: 0.2303\n",
      "epoch: 233 probl: 0.0002 bboxl: 0.2161\n",
      "epoch: 234 probl: 0.0003 bboxl: 0.2264\n",
      "epoch: 235 probl: 0.0002 bboxl: 0.2148\n",
      "epoch: 236 probl: 0.0003 bboxl: 0.2189\n",
      "epoch: 237 probl: 0.0003 bboxl: 0.2228\n",
      "epoch: 238 probl: 0.0002 bboxl: 0.2195\n",
      "epoch: 239 probl: 0.0003 bboxl: 0.2204\n",
      "epoch: 240 probl: 0.0002 bboxl: 0.2192\n",
      "epoch: 241 probl: 0.0002 bboxl: 0.2148\n",
      "epoch: 242 probl: 0.0003 bboxl: 0.2190\n",
      "epoch: 243 probl: 0.0002 bboxl: 0.2318\n",
      "epoch: 244 probl: 0.0003 bboxl: 0.2070\n",
      "epoch: 245 probl: 0.0003 bboxl: 0.2268\n",
      "epoch: 246 probl: 0.0003 bboxl: 0.2130\n",
      "epoch: 247 probl: 0.0002 bboxl: 0.2253\n",
      "epoch: 248 probl: 0.0003 bboxl: 0.2193\n",
      "epoch: 249 probl: 0.0002 bboxl: 0.2291\n",
      "epoch: 250 probl: 0.0003 bboxl: 0.2199\n",
      "epoch: 251 probl: 0.0003 bboxl: 0.2148\n",
      "epoch: 252 probl: 0.0003 bboxl: 0.2231\n",
      "epoch: 253 probl: 0.0003 bboxl: 0.2172\n",
      "epoch: 254 probl: 0.0002 bboxl: 0.2088\n",
      "epoch: 255 probl: 0.0003 bboxl: 0.2359\n",
      "epoch: 256 probl: 0.0002 bboxl: 0.2234\n",
      "epoch: 257 probl: 0.0003 bboxl: 0.2128\n",
      "epoch: 258 probl: 0.0002 bboxl: 0.2193\n",
      "epoch: 259 probl: 0.0002 bboxl: 0.2214\n",
      "epoch: 260 probl: 0.0003 bboxl: 0.2155\n",
      "epoch: 261 probl: 0.0003 bboxl: 0.2227\n",
      "epoch: 262 probl: 0.0003 bboxl: 0.2132\n",
      "epoch: 263 probl: 0.0003 bboxl: 0.2235\n",
      "epoch: 264 probl: 0.0003 bboxl: 0.2181\n",
      "epoch: 265 probl: 0.0003 bboxl: 0.2292\n",
      "epoch: 266 probl: 0.0003 bboxl: 0.2133\n",
      "epoch: 267 probl: 0.0003 bboxl: 0.2248\n",
      "epoch: 268 probl: 0.0002 bboxl: 0.2183\n",
      "epoch: 269 probl: 0.0002 bboxl: 0.2154\n",
      "epoch: 270 probl: 0.0003 bboxl: 0.2211\n",
      "epoch: 271 probl: 0.0002 bboxl: 0.2169\n",
      "epoch: 272 probl: 0.0003 bboxl: 0.2347\n",
      "epoch: 273 probl: 0.0002 bboxl: 0.2039\n",
      "epoch: 274 probl: 0.0002 bboxl: 0.2157\n",
      "epoch: 275 probl: 0.0003 bboxl: 0.2282\n",
      "epoch: 276 probl: 0.0002 bboxl: 0.2235\n",
      "epoch: 277 probl: 0.0003 bboxl: 0.2154\n",
      "epoch: 278 probl: 0.0003 bboxl: 0.2199\n",
      "epoch: 279 probl: 0.0002 bboxl: 0.2222\n",
      "epoch: 280 probl: 0.0002 bboxl: 0.2186\n",
      "epoch: 281 probl: 0.0003 bboxl: 0.2194\n",
      "epoch: 282 probl: 0.0003 bboxl: 0.2182\n",
      "epoch: 283 probl: 0.0003 bboxl: 0.2177\n",
      "epoch: 284 probl: 0.0002 bboxl: 0.2224\n",
      "epoch: 285 probl: 0.0002 bboxl: 0.2184\n",
      "epoch: 286 probl: 0.0003 bboxl: 0.2213\n",
      "epoch: 287 probl: 0.0003 bboxl: 0.2179\n",
      "epoch: 288 probl: 0.0003 bboxl: 0.2208\n",
      "epoch: 289 probl: 0.0003 bboxl: 0.2265\n",
      "epoch: 290 probl: 0.0002 bboxl: 0.2082\n",
      "epoch: 291 probl: 0.0002 bboxl: 0.2179\n",
      "epoch: 292 probl: 0.0003 bboxl: 0.2231\n",
      "epoch: 293 probl: 0.0002 bboxl: 0.2276\n",
      "epoch: 294 probl: 0.0003 bboxl: 0.2178\n",
      "epoch: 295 probl: 0.0003 bboxl: 0.2193\n",
      "epoch: 296 probl: 0.0003 bboxl: 0.2186\n",
      "epoch: 297 probl: 0.0003 bboxl: 0.2212\n",
      "epoch: 298 probl: 0.0003 bboxl: 0.2190\n",
      "epoch: 299 probl: 0.0003 bboxl: 0.2265\n",
      "epoch: 300 probl: 0.0002 bboxl: 0.2108\n",
      "epoch: 301 probl: 0.0003 bboxl: 0.2188\n",
      "epoch: 302 probl: 0.0003 bboxl: 0.2289\n",
      "epoch: 303 probl: 0.0003 bboxl: 0.2169\n",
      "epoch: 304 probl: 0.0002 bboxl: 0.2192\n",
      "epoch: 305 probl: 0.0002 bboxl: 0.2147\n",
      "epoch: 306 probl: 0.0003 bboxl: 0.2171\n",
      "epoch: 307 probl: 0.0002 bboxl: 0.2203\n",
      "epoch: 308 probl: 0.0003 bboxl: 0.2250\n",
      "epoch: 309 probl: 0.0002 bboxl: 0.2067\n",
      "epoch: 310 probl: 0.0003 bboxl: 0.2220\n",
      "epoch: 311 probl: 0.0003 bboxl: 0.2283\n",
      "epoch: 312 probl: 0.0003 bboxl: 0.2182\n",
      "epoch: 313 probl: 0.0002 bboxl: 0.2193\n",
      "epoch: 314 probl: 0.0003 bboxl: 0.2187\n",
      "epoch: 315 probl: 0.0002 bboxl: 0.2195\n",
      "epoch: 316 probl: 0.0003 bboxl: 0.2138\n",
      "epoch: 317 probl: 0.0003 bboxl: 0.2286\n",
      "epoch: 318 probl: 0.0002 bboxl: 0.2091\n",
      "epoch: 319 probl: 0.0003 bboxl: 0.2299\n",
      "epoch: 320 probl: 0.0003 bboxl: 0.2231\n",
      "epoch: 321 probl: 0.0003 bboxl: 0.2157\n",
      "epoch: 322 probl: 0.0003 bboxl: 0.2220\n",
      "epoch: 323 probl: 0.0003 bboxl: 0.2204\n",
      "epoch: 324 probl: 0.0003 bboxl: 0.2055\n",
      "epoch: 325 probl: 0.0003 bboxl: 0.2386\n",
      "epoch: 326 probl: 0.0002 bboxl: 0.2148\n",
      "epoch: 327 probl: 0.0003 bboxl: 0.2182\n",
      "epoch: 328 probl: 0.0003 bboxl: 0.2224\n",
      "epoch: 329 probl: 0.0003 bboxl: 0.2195\n",
      "epoch: 330 probl: 0.0003 bboxl: 0.2228\n",
      "epoch: 331 probl: 0.0002 bboxl: 0.2108\n",
      "epoch: 332 probl: 0.0003 bboxl: 0.2310\n",
      "epoch: 333 probl: 0.0002 bboxl: 0.2163\n",
      "epoch: 334 probl: 0.0003 bboxl: 0.2189\n",
      "epoch: 335 probl: 0.0003 bboxl: 0.2173\n",
      "epoch: 336 probl: 0.0003 bboxl: 0.2178\n",
      "epoch: 337 probl: 0.0002 bboxl: 0.2255\n",
      "epoch: 338 probl: 0.0003 bboxl: 0.2096\n",
      "epoch: 339 probl: 0.0003 bboxl: 0.2221\n",
      "epoch: 340 probl: 0.0002 bboxl: 0.2205\n",
      "epoch: 341 probl: 0.0003 bboxl: 0.2208\n",
      "epoch: 342 probl: 0.0003 bboxl: 0.2146\n",
      "epoch: 343 probl: 0.0002 bboxl: 0.2246\n",
      "epoch: 344 probl: 0.0003 bboxl: 0.2263\n",
      "epoch: 345 probl: 0.0002 bboxl: 0.2149\n",
      "epoch: 346 probl: 0.0003 bboxl: 0.2189\n",
      "epoch: 347 probl: 0.0002 bboxl: 0.2244\n",
      "epoch: 348 probl: 0.0003 bboxl: 0.2178\n",
      "epoch: 349 probl: 0.0003 bboxl: 0.2202\n",
      "epoch: 350 probl: 0.0002 bboxl: 0.2240\n",
      "epoch: 351 probl: 0.0003 bboxl: 0.2164\n",
      "epoch: 352 probl: 0.0003 bboxl: 0.2110\n",
      "epoch: 353 probl: 0.0002 bboxl: 0.2241\n",
      "epoch: 354 probl: 0.0003 bboxl: 0.2262\n",
      "epoch: 355 probl: 0.0002 bboxl: 0.2190\n",
      "epoch: 356 probl: 0.0003 bboxl: 0.2199\n",
      "epoch: 357 probl: 0.0002 bboxl: 0.2140\n",
      "epoch: 358 probl: 0.0003 bboxl: 0.2174\n",
      "epoch: 359 probl: 0.0003 bboxl: 0.2260\n",
      "epoch: 360 probl: 0.0003 bboxl: 0.2222\n",
      "epoch: 361 probl: 0.0003 bboxl: 0.2121\n",
      "epoch: 362 probl: 0.0002 bboxl: 0.2205\n",
      "epoch: 363 probl: 0.0003 bboxl: 0.2214\n",
      "epoch: 364 probl: 0.0002 bboxl: 0.2199\n",
      "epoch: 365 probl: 0.0003 bboxl: 0.2159\n",
      "epoch: 366 probl: 0.0002 bboxl: 0.2205\n",
      "epoch: 367 probl: 0.0002 bboxl: 0.2200\n",
      "epoch: 368 probl: 0.0002 bboxl: 0.2258\n",
      "epoch: 369 probl: 0.0003 bboxl: 0.2059\n",
      "epoch: 370 probl: 0.0002 bboxl: 0.2276\n",
      "epoch: 371 probl: 0.0003 bboxl: 0.2212\n",
      "epoch: 372 probl: 0.0003 bboxl: 0.2257\n",
      "epoch: 373 probl: 0.0003 bboxl: 0.2199\n",
      "epoch: 374 probl: 0.0002 bboxl: 0.2174\n",
      "epoch: 375 probl: 0.0003 bboxl: 0.2241\n",
      "epoch: 376 probl: 0.0003 bboxl: 0.2131\n",
      "epoch: 377 probl: 0.0002 bboxl: 0.2223\n",
      "epoch: 378 probl: 0.0002 bboxl: 0.2128\n",
      "epoch: 379 probl: 0.0003 bboxl: 0.2202\n",
      "epoch: 380 probl: 0.0002 bboxl: 0.2271\n",
      "epoch: 381 probl: 0.0003 bboxl: 0.2061\n",
      "epoch: 382 probl: 0.0002 bboxl: 0.2270\n",
      "epoch: 383 probl: 0.0003 bboxl: 0.2135\n",
      "epoch: 384 probl: 0.0003 bboxl: 0.2331\n",
      "epoch: 385 probl: 0.0003 bboxl: 0.2110\n",
      "epoch: 386 probl: 0.0003 bboxl: 0.2220\n",
      "epoch: 387 probl: 0.0003 bboxl: 0.2183\n",
      "epoch: 388 probl: 0.0002 bboxl: 0.2306\n",
      "epoch: 389 probl: 0.0003 bboxl: 0.2118\n",
      "epoch: 390 probl: 0.0003 bboxl: 0.2199\n",
      "epoch: 391 probl: 0.0002 bboxl: 0.2249\n",
      "epoch: 392 probl: 0.0003 bboxl: 0.2175\n",
      "epoch: 393 probl: 0.0002 bboxl: 0.2176\n",
      "epoch: 394 probl: 0.0003 bboxl: 0.2072\n",
      "epoch: 395 probl: 0.0003 bboxl: 0.2302\n",
      "epoch: 396 probl: 0.0002 bboxl: 0.2195\n",
      "epoch: 397 probl: 0.0003 bboxl: 0.2270\n",
      "epoch: 398 probl: 0.0003 bboxl: 0.2219\n",
      "epoch: 399 probl: 0.0003 bboxl: 0.2118\n",
      "epoch: 400 probl: 0.0003 bboxl: 0.2122\n",
      "finished training\n"
     ]
    }
   ],
   "source": [
    "\n",
    "from tensorboardX import SummaryWriter\n",
    "\n",
    "writer = SummaryWriter(log_dir=\"/home/ubuntu/tensorLog\") # tensorboard writer\n",
    "\n",
    "prob_lossfn = nn.BCELoss().to(device)\n",
    "bbox_lossfn = nn.MSELoss().to(device)\n",
    "\n",
    "optimizer = None\n",
    "\n",
    "if opt == \"Adam\":\n",
    "    print(\"Optimizer: Adam\")\n",
    "    optimizer = torch.optim.Adam(pnet.parameters(), lr=learning_rate, amsgrad=True)\n",
    "elif opt == \"SGD\":\n",
    "    print(\"Optimizer: SGD\")\n",
    "    optimizer = torch.optim.SGD(pnet.parameters(), lr=learning_rate, momentum=0.9)\n",
    "else:\n",
    "    print(\"Error\")\n",
    "\n",
    "scheduler = optim.lr_scheduler.MultiStepLR(optimizer, milestones=decay_step, gamma=decay_rate)\n",
    "\n",
    "rl1, rl2 = 0, 0\n",
    "\n",
    "for epoch in range(1, epochs+1):\n",
    "    \n",
    "    for batch_idx, data in enumerate(train_loader):\n",
    "        \n",
    "        im, prob, bbox = data\n",
    "        \n",
    "        im = im.to(device)\n",
    "        prob = prob.float().to(device)\n",
    "        bbox = bbox.float().to(device)\n",
    "        \n",
    "        o_bbox, o_prob = pnet(im)\n",
    "        \n",
    "        o_bbox = o_bbox.float().squeeze()\n",
    "        o_prob = o_prob.float().squeeze()\n",
    "        \n",
    "        prob_loss = prob_lossfn(o_prob, prob)\n",
    "        bbox_loss = bbox_lossfn(o_bbox, bbox)\n",
    "        \n",
    "        rl1 += prob_loss.item()\n",
    "        rl2 += bbox_loss.item()\n",
    "        \n",
    "        \n",
    "        all_loss = prob_loss * 0.6 + bbox_loss * 1.2\n",
    "        \n",
    "        if batch_idx % print_freq == print_freq-1:\n",
    "            \n",
    "            print(\"epoch: {} probl: {:.4f} bboxl: {:.4f}\".format(epoch, rl1/print_freq, rl2/print_freq))\n",
    "            writer.add_scalar('prob_l', rl1/print_freq, epoch)\n",
    "            writer.add_scalar('bbox_l', rl2/print_freq, epoch)\n",
    "            rl1, rl2 = 0, 0\n",
    "\n",
    "        optimizer.zero_grad()\n",
    "        all_loss.backward()\n",
    "        optimizer.step()\n",
    "    \n",
    "    scheduler.step()\n",
    "\n",
    "    #if epoch % 5 == 0:\n",
    "    if False:\n",
    "        save_name = 'epoch-{}.pth.tar'.format(epoch)\n",
    "        torch.save({\n",
    "            'epoch': epochs,\n",
    "            'state_dict': mtcnn.onet.state_dict(),\n",
    "            'opt_dict': optimizer.state_dict(),\n",
    "        }, save_name)\n",
    "        print('Saved model at {}'.format(save_name))\n",
    "\n",
    "print(\"finished training\")"
   ]
  },
  {
   "cell_type": "code",
   "execution_count": 12,
   "metadata": {},
   "outputs": [
    {
     "data": {
      "image/png": "[encoded data removed]",
      "text/plain": [
       "<Figure size 432x288 with 1 Axes>"
      ]
     },
     "metadata": {
      "needs_background": "light"
     },
     "output_type": "display_data"
    },
    {
     "name": "stdout",
     "output_type": "stream",
     "text": [
      "truth: 0, pred: 0\n",
      "bbox: [0. 0. 0. 0.]\n"
     ]
    },
    {
     "data": {
      "image/png": "[encoded data removed]",
      "text/plain": [
       "<Figure size 432x288 with 1 Axes>"
      ]
     },
     "metadata": {
      "needs_background": "light"
     },
     "output_type": "display_data"
    },
    {
     "name": "stdout",
     "output_type": "stream",
     "text": [
      "truth: 1, pred: 1\n",
      "bbox: [ 2.  3.  8. 10.]\n"
     ]
    },
    {
     "data": {
      "image/png": "[encoded data removed]",
      "text/plain": [
       "<Figure size 432x288 with 1 Axes>"
      ]
     },
     "metadata": {
      "needs_background": "light"
     },
     "output_type": "display_data"
    },
    {
     "name": "stdout",
     "output_type": "stream",
     "text": [
      "truth: 0, pred: 0\n",
      "bbox: [-0.  0. -0. -0.]\n"
     ]
    },
    {
     "data": {
      "image/png": "[encoded data removed]",
      "text/plain": [
       "<Figure size 432x288 with 1 Axes>"
      ]
     },
     "metadata": {
      "needs_background": "light"
     },
     "output_type": "display_data"
    },
    {
     "name": "stdout",
     "output_type": "stream",
     "text": [
      "truth: 0, pred: 0\n",
      "bbox: [ 0. -0.  0.  1.]\n"
     ]
    },
    {
     "data": {
      "image/png": "[encoded data removed]",
      "text/plain": [
       "<Figure size 432x288 with 1 Axes>"
      ]
     },
     "metadata": {
      "needs_background": "light"
     },
     "output_type": "display_data"
    },
    {
     "name": "stdout",
     "output_type": "stream",
     "text": [
      "truth: 1, pred: 1\n",
      "bbox: [ 4.  3. 11. 11.]\n"
     ]
    },
    {
     "data": {
      "image/png": "[encoded data removed]",
      "text/plain": [
       "<Figure size 432x288 with 1 Axes>"
      ]
     },
     "metadata": {
      "needs_background": "light"
     },
     "output_type": "display_data"
    },
    {
     "name": "stdout",
     "output_type": "stream",
     "text": [
      "truth: 0, pred: 0\n",
      "bbox: [-0. -0.  0.  0.]\n"
     ]
    },
    {
     "data": {
      "image/png": "[encoded data removed]",
      "text/plain": [
       "<Figure size 432x288 with 1 Axes>"
      ]
     },
     "metadata": {
      "needs_background": "light"
     },
     "output_type": "display_data"
    },
    {
     "name": "stdout",
     "output_type": "stream",
     "text": [
      "truth: 1, pred: 1\n",
      "bbox: [ 1.  3.  9. 11.]\n"
     ]
    },
    {
     "data": {
      "image/png": "[encoded data removed]",
      "text/plain": [
       "<Figure size 432x288 with 1 Axes>"
      ]
     },
     "metadata": {
      "needs_background": "light"
     },
     "output_type": "display_data"
    },
    {
     "name": "stdout",
     "output_type": "stream",
     "text": [
      "truth: 0, pred: 0\n",
      "bbox: [-0.  0. -0.  0.]\n"
     ]
    },
    {
     "data": {
      "image/png": "[encoded data removed]",
      "text/plain": [
       "<Figure size 432x288 with 1 Axes>"
      ]
     },
     "metadata": {
      "needs_background": "light"
     },
     "output_type": "display_data"
    },
    {
     "name": "stdout",
     "output_type": "stream",
     "text": [
      "truth: 0, pred: 0\n",
      "bbox: [0. 0. 1. 0.]\n"
     ]
    },
    {
     "data": {
      "image/png": "[encoded data removed]",
      "text/plain": [
       "<Figure size 432x288 with 1 Axes>"
      ]
     },
     "metadata": {
      "needs_background": "light"
     },
     "output_type": "display_data"
    },
    {
     "name": "stdout",
     "output_type": "stream",
     "text": [
      "truth: 1, pred: 1\n",
      "bbox: [2. 1. 8. 9.]\n"
     ]
    },
    {
     "data": {
      "image/png": "[encoded data removed]",
      "text/plain": [
       "<Figure size 432x288 with 1 Axes>"
      ]
     },
     "metadata": {
      "needs_background": "light"
     },
     "output_type": "display_data"
    },
    {
     "name": "stdout",
     "output_type": "stream",
     "text": [
      "truth: 1, pred: 1\n",
      "bbox: [ 2.  1. 13. 13.]\n"
     ]
    },
    {
     "data": {
      "image/png": "[encoded data removed]",
      "text/plain": [
       "<Figure size 432x288 with 1 Axes>"
      ]
     },
     "metadata": {
      "needs_background": "light"
     },
     "output_type": "display_data"
    },
    {
     "name": "stdout",
     "output_type": "stream",
     "text": [
      "truth: 1, pred: 1\n",
      "bbox: [ 1.  4.  5. 10.]\n"
     ]
    },
    {
     "data": {
      "image/png": "[encoded data removed]",
      "text/plain": [
       "<Figure size 432x288 with 1 Axes>"
      ]
     },
     "metadata": {
      "needs_background": "light"
     },
     "output_type": "display_data"
    },
    {
     "name": "stdout",
     "output_type": "stream",
     "text": [
      "truth: 1, pred: 1\n",
      "bbox: [ 3.  0. 11.  8.]\n"
     ]
    },
    {
     "data": {
      "image/png": "[encoded data removed]",
      "text/plain": [
       "<Figure size 432x288 with 1 Axes>"
      ]
     },
     "metadata": {
      "needs_background": "light"
     },
     "output_type": "display_data"
    },
    {
     "name": "stdout",
     "output_type": "stream",
     "text": [
      "truth: 0, pred: 0\n",
      "bbox: [-0.  0.  0.  0.]\n"
     ]
    },
    {
     "data": {
      "image/png": "[encoded data removed]",
      "text/plain": [
       "<Figure size 432x288 with 1 Axes>"
      ]
     },
     "metadata": {
      "needs_background": "light"
     },
     "output_type": "display_data"
    },
    {
     "name": "stdout",
     "output_type": "stream",
     "text": [
      "truth: 0, pred: 0\n",
      "bbox: [-0.  0.  1.  2.]\n"
     ]
    },
    {
     "data": {
      "image/png": "[encoded data removed]",
      "text/plain": [
       "<Figure size 432x288 with 1 Axes>"
      ]
     },
     "metadata": {
      "needs_background": "light"
     },
     "output_type": "display_data"
    },
    {
     "name": "stdout",
     "output_type": "stream",
     "text": [
      "truth: 1, pred: 1\n",
      "bbox: [ 1.  1. 10.  8.]\n"
     ]
    },
    {
     "data": {
      "image/png": "[encoded data removed]",
      "text/plain": [
       "<Figure size 432x288 with 1 Axes>"
      ]
     },
     "metadata": {
      "needs_background": "light"
     },
     "output_type": "display_data"
    },
    {
     "name": "stdout",
     "output_type": "stream",
     "text": [
      "truth: 1, pred: 1\n",
      "bbox: [2. 2. 7. 8.]\n"
     ]
    },
    {
     "data": {
      "image/png": "[encoded data removed]",
      "text/plain": [
       "<Figure size 432x288 with 1 Axes>"
      ]
     },
     "metadata": {
      "needs_background": "light"
     },
     "output_type": "display_data"
    },
    {
     "name": "stdout",
     "output_type": "stream",
     "text": [
      "truth: 1, pred: 1\n",
      "bbox: [2. 4. 7. 9.]\n",
      "accuracy: 97.2%\n"
     ]
    }
   ],
   "source": [
    "total = len(valid_ds)\n",
    "err = 0\n",
    "truth = []\n",
    "pred = []\n",
    "\n",
    "for idx in range(0, total):\n",
    "    \n",
    "    bbox, prob = pnet(valid_ds[idx][0].unsqueeze(0).to(device))\n",
    "    prob = prob.squeeze()\n",
    "    if prob[0] > prob[1]:\n",
    "        prob = 1\n",
    "    else:\n",
    "        prob = 0\n",
    "    \n",
    "    if prob != prob_valid[idx]:\n",
    "        err += 1\n",
    "        \n",
    "    if idx % 20 == 0:\n",
    "        plt.imshow(transforms.ToPILImage()(valid_ds[idx][0]))\n",
    "        plt.show()\n",
    "        print(\"truth: {}, pred: {}\".format(prob_valid[idx], prob))\n",
    "        print(\"bbox: \" + str(np.rint(bbox.cpu().detach().squeeze().numpy())))\n",
    "    \n",
    "    pred.append(prob)\n",
    "    truth.append(prob_valid[idx])\n",
    "\n",
    "\n",
    "print(\"accuracy: {:.1f}%\".format(100*(total-err)/total))\n",
    "\"\"\"\n",
    "p, r, f1 = utils.f1_score(truth, pred, 0)\n",
    "print(\"precision: {:.2f}, recall: {:.2f}, f1: {:.2f}\".format(p, r, f1))\n",
    "print(\"valid_ds length: {}\".format(len(valid_ds)))\n",
    "print(\"age dist: \", end='')\n",
    "\"\"\";"
   ]
  },
  {
   "cell_type": "code",
   "execution_count": null,
   "metadata": {},
   "outputs": [],
   "source": []
  }
 ],
 "metadata": {
  "kernelspec": {
   "display_name": "Python 3",
   "language": "python",
   "name": "python3"
  },
  "language_info": {
   "codemirror_mode": {
    "name": "ipython",
    "version": 3
   },
   "file_extension": ".py",
   "mimetype": "text/x-python",
   "name": "python",
   "nbconvert_exporter": "python",
   "pygments_lexer": "ipython3",
   "version": "3.7.7"
  }
 },
 "nbformat": 4,
 "nbformat_minor": 4
}
