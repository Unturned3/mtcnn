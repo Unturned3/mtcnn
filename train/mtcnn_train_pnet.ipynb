{
 "cells": [
  {
   "cell_type": "code",
   "execution_count": 1,
   "metadata": {},
   "outputs": [],
   "source": [
    "# set up path to facenet_pytorch_c\n",
    "import sys\n",
    "sys.path.insert(1, '/home/ubuntu/mtcnn')"
   ]
  },
  {
   "cell_type": "code",
   "execution_count": 2,
   "metadata": {},
   "outputs": [],
   "source": [
    "# facenet_pytorch_c: avoid confusion with system default facenet_pytorch\n",
    "from facenet_pytorch_c import MTCNN\n",
    "\n",
    "from tqdm import tqdm\n",
    "import numpy as np\n",
    "import os\n",
    "\n",
    "# pytorch\n",
    "import torch\n",
    "import torch.optim as optim\n",
    "from torch import nn\n",
    "\n",
    "# data handling\n",
    "from torch.utils.data import DataLoader\n",
    "\n",
    "# torchvision libs\n",
    "import torchvision\n",
    "from torchvision import datasets\n",
    "from torchvision import transforms\n",
    "import PIL\n"
   ]
  },
  {
   "cell_type": "code",
   "execution_count": 3,
   "metadata": {},
   "outputs": [],
   "source": [
    "# other custom scripts\n",
    "import utils"
   ]
  },
  {
   "cell_type": "code",
   "execution_count": 4,
   "metadata": {},
   "outputs": [],
   "source": [
    "import matplotlib.pyplot as plt\n",
    "import matplotlib.patches as patches"
   ]
  },
  {
   "cell_type": "code",
   "execution_count": 5,
   "metadata": {},
   "outputs": [
    {
     "name": "stdout",
     "output_type": "stream",
     "text": [
      "Available device: cuda:0\n",
      "print freq: 18\n"
     ]
    }
   ],
   "source": [
    "\n",
    "device = torch.device(\"cuda:0\" if torch.cuda.is_available() else \"cpu\")\n",
    "print(\"Available device: \" + str(device))\n",
    "\n",
    "# training hyperparameters\n",
    "learning_rate = 1e-2\n",
    "epochs = 400\n",
    "decay_step = [200, 225, 250, 275, 300, 325, 350, 375]\n",
    "decay_rate = 0.1\n",
    "opt = 'Adam'    # either Adam or SGD\n",
    "batch_size = 128\n",
    "\n",
    "print_freq = int(3050/batch_size - 5)\n",
    "print(\"print freq: {}\".format(print_freq))\n",
    "\n",
    "# data loading parameters\n",
    "workers = 4"
   ]
  },
  {
   "cell_type": "code",
   "execution_count": 6,
   "metadata": {},
   "outputs": [
    {
     "name": "stderr",
     "output_type": "stream",
     "text": [
      "100%|██████████| 3428/3428 [00:18<00:00, 187.95it/s]\n"
     ]
    }
   ],
   "source": [
    "x_train, prob_train, bbox_train, x_valid, prob_valid, bbox_valid = utils.get_images(\n",
    "    '/home/ubuntu/db_proc/db/images',\n",
    "    '/home/ubuntu/db_proc/db/annotations'\n",
    ")"
   ]
  },
  {
   "cell_type": "code",
   "execution_count": 7,
   "metadata": {},
   "outputs": [
    {
     "data": {
      "image/png": "[encoded data removed]",
      "text/plain": [
       "<Figure size 432x288 with 1 Axes>"
      ]
     },
     "metadata": {
      "needs_background": "light"
     },
     "output_type": "display_data"
    },
    {
     "name": "stdout",
     "output_type": "stream",
     "text": [
      "[ 4  1 12 12]\n"
     ]
    },
    {
     "data": {
      "image/png": "[encoded data removed]",
      "text/plain": [
       "<Figure size 432x288 with 1 Axes>"
      ]
     },
     "metadata": {
      "needs_background": "light"
     },
     "output_type": "display_data"
    },
    {
     "name": "stdout",
     "output_type": "stream",
     "text": [
      "[0 0 0 0]\n"
     ]
    },
    {
     "data": {
      "image/png": "[encoded data removed]",
      "text/plain": [
       "<Figure size 432x288 with 1 Axes>"
      ]
     },
     "metadata": {
      "needs_background": "light"
     },
     "output_type": "display_data"
    },
    {
     "name": "stdout",
     "output_type": "stream",
     "text": [
      "[0 0 0 0]\n"
     ]
    },
    {
     "data": {
      "image/png": "[encoded data removed]",
      "text/plain": [
       "<Figure size 432x288 with 1 Axes>"
      ]
     },
     "metadata": {
      "needs_background": "light"
     },
     "output_type": "display_data"
    },
    {
     "name": "stdout",
     "output_type": "stream",
     "text": [
      "[ 4  3 10  9]\n"
     ]
    },
    {
     "data": {
      "image/png": "[encoded data removed]",
      "text/plain": [
       "<Figure size 432x288 with 1 Axes>"
      ]
     },
     "metadata": {
      "needs_background": "light"
     },
     "output_type": "display_data"
    },
    {
     "name": "stdout",
     "output_type": "stream",
     "text": [
      "[0 0 0 0]\n"
     ]
    }
   ],
   "source": [
    "for i in range(55, 60):\n",
    "    plt.imshow(x_train[i*5])\n",
    "    plt.show()\n",
    "    print(bbox_train[i*5])"
   ]
  },
  {
   "cell_type": "code",
   "execution_count": 8,
   "metadata": {},
   "outputs": [],
   "source": [
    "class PNet(nn.Module):\n",
    "\n",
    "    def __init__(self):\n",
    "        super().__init__()\n",
    "\n",
    "        self.conv1 = nn.Conv2d(3, 10, kernel_size=3)\n",
    "        self.prelu1 = nn.PReLU(10)\n",
    "        self.pool1 = nn.MaxPool2d(2, 2, ceil_mode=True)\n",
    "        self.conv2 = nn.Conv2d(10, 16, kernel_size=3)\n",
    "        self.prelu2 = nn.PReLU(16)\n",
    "        self.conv3 = nn.Conv2d(16, 32, kernel_size=3)\n",
    "        self.prelu3 = nn.PReLU(32)\n",
    "        self.conv4_1 = nn.Conv2d(32, 2, kernel_size=1)\n",
    "        self.softmax4_1 = nn.Softmax(dim=1)\n",
    "        self.conv4_2 = nn.Conv2d(32, 4, kernel_size=1)\n",
    "\n",
    "        self.training = True\n",
    "\n",
    "    def forward(self, x):\n",
    "        x = self.conv1(x)\n",
    "        x = self.prelu1(x)\n",
    "        x = self.pool1(x)\n",
    "        x = self.conv2(x)\n",
    "        x = self.prelu2(x)\n",
    "        x = self.conv3(x)\n",
    "        x = self.prelu3(x)\n",
    "        a = self.conv4_1(x) # prob\n",
    "        a = self.softmax4_1(a)\n",
    "        b = self.conv4_2(x) # bbox\n",
    "        return b, a\n"
   ]
  },
  {
   "cell_type": "code",
   "execution_count": 9,
   "metadata": {},
   "outputs": [],
   "source": [
    "transform_train = transforms.Compose([\n",
    "    transforms.ToTensor(),\n",
    "    #transforms.Normalize((0.485, 0.456, 0.406), (0.229, 0.224, 0.225)),\n",
    "])\n",
    "\n",
    "transform_valid = transforms.Compose([\n",
    "    transforms.ToTensor(),\n",
    "    #transforms.Normalize((0.485, 0.456, 0.406), (0.229, 0.224, 0.225)),\n",
    "])\n",
    "\n",
    "train_ds = utils.CIVDS(x_train, prob_train, bbox_train, trsfm=transform_train)\n",
    "\n",
    "valid_ds = utils.CIVDS(x_valid, prob_valid, bbox_valid, trsfm=transform_valid)\n",
    "\n",
    "train_loader = DataLoader(\n",
    "    train_ds, batch_size=batch_size,\n",
    "    num_workers=workers, shuffle=True\n",
    ")\n",
    "\n",
    "valid_loader = DataLoader(\n",
    "    valid_ds, batch_size=batch_size,\n",
    "    num_workers=workers, shuffle=False\n",
    ")"
   ]
  },
  {
   "cell_type": "code",
   "execution_count": 10,
   "metadata": {},
   "outputs": [
    {
     "data": {
      "text/plain": [
       "PNet(\n",
       "  (conv1): Conv2d(3, 10, kernel_size=(3, 3), stride=(1, 1))\n",
       "  (prelu1): PReLU(num_parameters=10)\n",
       "  (pool1): MaxPool2d(kernel_size=2, stride=2, padding=0, dilation=1, ceil_mode=True)\n",
       "  (conv2): Conv2d(10, 16, kernel_size=(3, 3), stride=(1, 1))\n",
       "  (prelu2): PReLU(num_parameters=16)\n",
       "  (conv3): Conv2d(16, 32, kernel_size=(3, 3), stride=(1, 1))\n",
       "  (prelu3): PReLU(num_parameters=32)\n",
       "  (conv4_1): Conv2d(32, 2, kernel_size=(1, 1), stride=(1, 1))\n",
       "  (softmax4_1): Softmax(dim=1)\n",
       "  (conv4_2): Conv2d(32, 4, kernel_size=(1, 1), stride=(1, 1))\n",
       ")"
      ]
     },
     "execution_count": 10,
     "metadata": {},
     "output_type": "execute_result"
    }
   ],
   "source": [
    "pnet = PNet()\n",
    "pnet.train()\n",
    "pnet.to(device)"
   ]
  },
  {
   "cell_type": "code",
   "execution_count": 11,
   "metadata": {},
   "outputs": [
    {
     "name": "stdout",
     "output_type": "stream",
     "text": [
      "Optimizer: Adam\n",
      "epoch: 1 probl: 0.8166 bboxl: 14.6434\n",
      "epoch: 2 probl: 0.8862 bboxl: 13.2405\n",
      "epoch: 3 probl: 0.6151 bboxl: 9.1542\n",
      "epoch: 4 probl: 0.4813 bboxl: 7.9655\n",
      "epoch: 5 probl: 0.3847 bboxl: 6.7187\n",
      "epoch: 6 probl: 0.3428 bboxl: 6.2137\n",
      "epoch: 7 probl: 0.3319 bboxl: 6.4679\n",
      "epoch: 8 probl: 0.2904 bboxl: 5.6769\n",
      "epoch: 9 probl: 0.2838 bboxl: 5.3212\n",
      "epoch: 10 probl: 0.2726 bboxl: 5.1502\n",
      "epoch: 11 probl: 0.2575 bboxl: 4.7380\n",
      "epoch: 12 probl: 0.2318 bboxl: 4.4332\n",
      "epoch: 13 probl: 0.2301 bboxl: 4.2993\n",
      "epoch: 14 probl: 0.2273 bboxl: 4.2015\n",
      "epoch: 15 probl: 0.1841 bboxl: 3.6036\n",
      "epoch: 16 probl: 0.1879 bboxl: 3.6224\n",
      "epoch: 17 probl: 0.2525 bboxl: 4.8461\n",
      "epoch: 18 probl: 0.1802 bboxl: 3.6572\n",
      "epoch: 19 probl: 0.1625 bboxl: 3.2628\n",
      "epoch: 20 probl: 0.1652 bboxl: 3.2471\n",
      "epoch: 21 probl: 0.1676 bboxl: 3.2128\n",
      "epoch: 22 probl: 0.1426 bboxl: 2.7744\n",
      "epoch: 23 probl: 0.1103 bboxl: 2.3374\n",
      "epoch: 24 probl: 0.1219 bboxl: 2.4177\n",
      "epoch: 25 probl: 0.0980 bboxl: 2.1124\n",
      "epoch: 26 probl: 0.1183 bboxl: 2.5811\n",
      "epoch: 27 probl: 0.0983 bboxl: 2.2813\n",
      "epoch: 28 probl: 0.0900 bboxl: 2.0353\n",
      "epoch: 29 probl: 0.1050 bboxl: 2.1810\n",
      "epoch: 30 probl: 0.0771 bboxl: 1.8966\n",
      "epoch: 31 probl: 0.0804 bboxl: 1.8127\n",
      "epoch: 32 probl: 0.0778 bboxl: 1.8491\n",
      "epoch: 33 probl: 0.0707 bboxl: 1.8491\n",
      "epoch: 34 probl: 0.0646 bboxl: 1.6393\n",
      "epoch: 35 probl: 0.0774 bboxl: 1.9296\n",
      "epoch: 36 probl: 0.0670 bboxl: 1.6710\n",
      "epoch: 37 probl: 0.0421 bboxl: 1.3074\n",
      "epoch: 38 probl: 0.0644 bboxl: 1.7339\n",
      "epoch: 39 probl: 0.0566 bboxl: 1.5469\n",
      "epoch: 40 probl: 0.0700 bboxl: 1.7128\n",
      "epoch: 41 probl: 0.0499 bboxl: 1.6260\n",
      "epoch: 42 probl: 0.0521 bboxl: 1.5073\n",
      "epoch: 43 probl: 0.0451 bboxl: 1.3130\n",
      "epoch: 44 probl: 0.0415 bboxl: 1.2970\n",
      "epoch: 45 probl: 0.0267 bboxl: 1.1029\n",
      "epoch: 46 probl: 0.0401 bboxl: 1.2764\n",
      "epoch: 47 probl: 0.0252 bboxl: 1.1077\n",
      "epoch: 48 probl: 0.0363 bboxl: 1.2529\n",
      "epoch: 49 probl: 0.0368 bboxl: 1.3417\n",
      "epoch: 50 probl: 0.0204 bboxl: 1.1347\n",
      "epoch: 51 probl: 0.0561 bboxl: 1.6643\n",
      "epoch: 52 probl: 0.0307 bboxl: 1.1312\n",
      "epoch: 53 probl: 0.0274 bboxl: 1.2490\n",
      "epoch: 54 probl: 0.0248 bboxl: 1.0309\n",
      "epoch: 55 probl: 0.0298 bboxl: 1.2933\n",
      "epoch: 56 probl: 0.0278 bboxl: 1.1285\n",
      "epoch: 57 probl: 0.0190 bboxl: 0.9940\n",
      "epoch: 58 probl: 0.0106 bboxl: 0.8176\n",
      "epoch: 59 probl: 0.0106 bboxl: 0.8437\n",
      "epoch: 60 probl: 0.0090 bboxl: 0.8342\n",
      "epoch: 61 probl: 0.0080 bboxl: 0.7715\n",
      "epoch: 62 probl: 0.0237 bboxl: 1.0129\n",
      "epoch: 63 probl: 0.0061 bboxl: 0.7927\n",
      "epoch: 64 probl: 0.0058 bboxl: 0.7140\n",
      "epoch: 65 probl: 0.0072 bboxl: 0.7368\n",
      "epoch: 66 probl: 0.0052 bboxl: 0.7159\n",
      "epoch: 67 probl: 0.0058 bboxl: 0.7083\n",
      "epoch: 68 probl: 0.0051 bboxl: 0.6945\n",
      "epoch: 69 probl: 0.0057 bboxl: 0.7460\n",
      "epoch: 70 probl: 0.0054 bboxl: 0.7203\n",
      "epoch: 71 probl: 0.0049 bboxl: 0.6838\n",
      "epoch: 72 probl: 0.0047 bboxl: 0.7223\n",
      "epoch: 73 probl: 0.0025 bboxl: 0.6124\n",
      "epoch: 74 probl: 0.0041 bboxl: 0.5894\n",
      "epoch: 75 probl: 0.0060 bboxl: 0.6299\n",
      "epoch: 76 probl: 0.0038 bboxl: 0.5947\n",
      "epoch: 77 probl: 0.0037 bboxl: 0.5660\n",
      "epoch: 78 probl: 0.0040 bboxl: 0.5719\n",
      "epoch: 79 probl: 0.0039 bboxl: 0.5791\n",
      "epoch: 80 probl: 0.0037 bboxl: 0.5753\n",
      "epoch: 81 probl: 0.0035 bboxl: 0.5297\n",
      "epoch: 82 probl: 0.0037 bboxl: 0.7349\n",
      "epoch: 83 probl: 0.0014 bboxl: 0.5862\n",
      "epoch: 84 probl: 0.0063 bboxl: 0.5770\n",
      "epoch: 85 probl: 0.0046 bboxl: 0.6609\n",
      "epoch: 86 probl: 0.0052 bboxl: 0.6268\n",
      "epoch: 87 probl: 0.0039 bboxl: 0.5952\n",
      "epoch: 88 probl: 0.0038 bboxl: 0.5843\n",
      "epoch: 89 probl: 0.0034 bboxl: 0.5297\n",
      "epoch: 90 probl: 0.0012 bboxl: 0.4787\n",
      "epoch: 91 probl: 0.0055 bboxl: 0.5225\n",
      "epoch: 92 probl: 0.0014 bboxl: 0.5241\n",
      "epoch: 93 probl: 0.0055 bboxl: 0.5128\n",
      "epoch: 94 probl: 0.0032 bboxl: 0.4926\n",
      "epoch: 95 probl: 0.0010 bboxl: 0.4754\n",
      "epoch: 96 probl: 0.0050 bboxl: 0.4817\n",
      "epoch: 97 probl: 0.0031 bboxl: 0.4724\n",
      "epoch: 98 probl: 0.0031 bboxl: 0.4777\n",
      "epoch: 99 probl: 0.0032 bboxl: 0.4734\n",
      "epoch: 100 probl: 0.0010 bboxl: 0.4445\n",
      "epoch: 101 probl: 0.0031 bboxl: 0.4966\n",
      "epoch: 102 probl: 0.0047 bboxl: 0.4640\n",
      "epoch: 103 probl: 0.0034 bboxl: 0.4939\n",
      "epoch: 104 probl: 0.0011 bboxl: 0.4828\n",
      "epoch: 105 probl: 0.0049 bboxl: 0.4825\n",
      "epoch: 106 probl: 0.0035 bboxl: 0.5595\n",
      "epoch: 107 probl: 0.0045 bboxl: 0.6504\n",
      "epoch: 108 probl: 0.0056 bboxl: 0.5500\n",
      "epoch: 109 probl: 0.0011 bboxl: 0.4747\n",
      "epoch: 110 probl: 0.0049 bboxl: 0.4675\n",
      "epoch: 111 probl: 0.0027 bboxl: 0.4842\n",
      "epoch: 112 probl: 0.0030 bboxl: 0.4351\n",
      "epoch: 113 probl: 0.0027 bboxl: 0.4484\n",
      "epoch: 114 probl: 0.0008 bboxl: 0.4205\n",
      "epoch: 115 probl: 0.0049 bboxl: 0.4788\n",
      "epoch: 116 probl: 0.0008 bboxl: 0.4162\n",
      "epoch: 117 probl: 0.0044 bboxl: 0.4717\n",
      "epoch: 118 probl: 0.0027 bboxl: 0.4242\n",
      "epoch: 119 probl: 0.0027 bboxl: 0.4554\n",
      "epoch: 120 probl: 0.0024 bboxl: 0.3942\n",
      "epoch: 121 probl: 0.0008 bboxl: 0.3995\n",
      "epoch: 122 probl: 0.0045 bboxl: 0.4217\n",
      "epoch: 123 probl: 0.0008 bboxl: 0.3890\n",
      "epoch: 124 probl: 0.0046 bboxl: 0.4464\n",
      "epoch: 125 probl: 0.0008 bboxl: 0.4159\n",
      "epoch: 126 probl: 0.0044 bboxl: 0.4105\n",
      "epoch: 127 probl: 0.0007 bboxl: 0.3799\n",
      "epoch: 128 probl: 0.0041 bboxl: 0.4048\n",
      "epoch: 129 probl: 0.0025 bboxl: 0.4175\n",
      "epoch: 130 probl: 0.0028 bboxl: 0.3893\n",
      "epoch: 131 probl: 0.0008 bboxl: 0.3757\n",
      "epoch: 132 probl: 0.0026 bboxl: 0.4159\n",
      "epoch: 133 probl: 0.0024 bboxl: 0.3944\n",
      "epoch: 134 probl: 0.0025 bboxl: 0.4188\n",
      "epoch: 135 probl: 0.0040 bboxl: 0.4136\n",
      "epoch: 136 probl: 0.0025 bboxl: 0.4052\n",
      "epoch: 137 probl: 0.0023 bboxl: 0.3832\n",
      "epoch: 138 probl: 0.0021 bboxl: 0.3776\n",
      "epoch: 139 probl: 0.0022 bboxl: 0.3673\n",
      "epoch: 140 probl: 0.0023 bboxl: 0.3512\n",
      "epoch: 141 probl: 0.0023 bboxl: 0.3773\n",
      "epoch: 142 probl: 0.0007 bboxl: 0.3631\n",
      "epoch: 143 probl: 0.0020 bboxl: 0.4088\n",
      "epoch: 144 probl: 0.0025 bboxl: 0.3942\n",
      "epoch: 145 probl: 0.0013 bboxl: 0.3524\n",
      "epoch: 146 probl: 0.0007 bboxl: 0.3639\n",
      "epoch: 147 probl: 0.0015 bboxl: 0.4138\n",
      "epoch: 148 probl: 0.0007 bboxl: 0.3253\n",
      "epoch: 149 probl: 0.0007 bboxl: 0.3963\n",
      "epoch: 150 probl: 0.0010 bboxl: 0.3954\n",
      "epoch: 151 probl: 0.0005 bboxl: 0.3865\n",
      "epoch: 152 probl: 0.0006 bboxl: 0.3703\n",
      "epoch: 153 probl: 0.0005 bboxl: 0.3137\n",
      "epoch: 154 probl: 0.0006 bboxl: 0.3371\n",
      "epoch: 155 probl: 0.0005 bboxl: 0.3501\n",
      "epoch: 156 probl: 0.0006 bboxl: 0.3089\n",
      "epoch: 157 probl: 0.0006 bboxl: 0.3855\n",
      "epoch: 158 probl: 0.0005 bboxl: 0.3268\n",
      "epoch: 159 probl: 0.0006 bboxl: 0.4058\n",
      "epoch: 160 probl: 0.0005 bboxl: 0.3199\n",
      "epoch: 161 probl: 0.0005 bboxl: 0.3521\n",
      "epoch: 162 probl: 0.0005 bboxl: 0.3083\n",
      "epoch: 163 probl: 0.0005 bboxl: 0.3368\n",
      "epoch: 164 probl: 0.0006 bboxl: 0.3534\n",
      "epoch: 165 probl: 0.0006 bboxl: 0.4854\n",
      "epoch: 166 probl: 0.0317 bboxl: 1.0171\n",
      "epoch: 167 probl: 0.0098 bboxl: 0.6287\n",
      "epoch: 168 probl: 0.0040 bboxl: 0.5737\n",
      "epoch: 169 probl: 0.0200 bboxl: 0.9866\n",
      "epoch: 170 probl: 0.0079 bboxl: 0.7278\n",
      "epoch: 171 probl: 0.0007 bboxl: 0.4257\n",
      "epoch: 172 probl: 0.0006 bboxl: 0.4004\n",
      "epoch: 173 probl: 0.0005 bboxl: 0.3457\n",
      "epoch: 174 probl: 0.0005 bboxl: 0.3370\n",
      "epoch: 175 probl: 0.0005 bboxl: 0.3313\n",
      "epoch: 176 probl: 0.0005 bboxl: 0.3504\n",
      "epoch: 177 probl: 0.0005 bboxl: 0.3895\n",
      "epoch: 178 probl: 0.0005 bboxl: 0.3391\n",
      "epoch: 179 probl: 0.0004 bboxl: 0.3312\n",
      "epoch: 180 probl: 0.0005 bboxl: 0.3061\n",
      "epoch: 181 probl: 0.0004 bboxl: 0.3328\n",
      "epoch: 182 probl: 0.0004 bboxl: 0.3362\n",
      "epoch: 183 probl: 0.0004 bboxl: 0.2977\n",
      "epoch: 184 probl: 0.0004 bboxl: 0.3098\n",
      "epoch: 185 probl: 0.0004 bboxl: 0.3446\n",
      "epoch: 186 probl: 0.0004 bboxl: 0.2984\n",
      "epoch: 187 probl: 0.0004 bboxl: 0.3066\n",
      "epoch: 188 probl: 0.0004 bboxl: 0.3109\n",
      "epoch: 189 probl: 0.0004 bboxl: 0.3071\n",
      "epoch: 190 probl: 0.0004 bboxl: 0.3166\n",
      "epoch: 191 probl: 0.0004 bboxl: 0.3119\n",
      "epoch: 192 probl: 0.0004 bboxl: 0.3113\n",
      "epoch: 193 probl: 0.0004 bboxl: 0.3044\n",
      "epoch: 194 probl: 0.0004 bboxl: 0.3256\n",
      "epoch: 195 probl: 0.0003 bboxl: 0.2834\n",
      "epoch: 196 probl: 0.0004 bboxl: 0.3032\n",
      "epoch: 197 probl: 0.0004 bboxl: 0.2998\n",
      "epoch: 198 probl: 0.0003 bboxl: 0.3183\n",
      "epoch: 199 probl: 0.0004 bboxl: 0.2943\n",
      "epoch: 200 probl: 0.0003 bboxl: 0.2973\n",
      "epoch: 201 probl: 0.0003 bboxl: 0.2792\n",
      "epoch: 202 probl: 0.0003 bboxl: 0.3194\n",
      "epoch: 203 probl: 0.0003 bboxl: 0.2507\n",
      "epoch: 204 probl: 0.0003 bboxl: 0.2530\n",
      "epoch: 205 probl: 0.0003 bboxl: 0.2407\n",
      "epoch: 206 probl: 0.0003 bboxl: 0.2574\n",
      "epoch: 207 probl: 0.0003 bboxl: 0.2501\n",
      "epoch: 208 probl: 0.0003 bboxl: 0.2533\n",
      "epoch: 209 probl: 0.0003 bboxl: 0.2498\n",
      "epoch: 210 probl: 0.0003 bboxl: 0.2312\n",
      "epoch: 211 probl: 0.0003 bboxl: 0.2598\n",
      "epoch: 212 probl: 0.0003 bboxl: 0.2545\n",
      "epoch: 213 probl: 0.0003 bboxl: 0.2647\n"
     ]
    },
    {
     "name": "stdout",
     "output_type": "stream",
     "text": [
      "epoch: 214 probl: 0.0003 bboxl: 0.2353\n",
      "epoch: 215 probl: 0.0003 bboxl: 0.2537\n",
      "epoch: 216 probl: 0.0003 bboxl: 0.2555\n",
      "epoch: 217 probl: 0.0003 bboxl: 0.2595\n",
      "epoch: 218 probl: 0.0003 bboxl: 0.2526\n",
      "epoch: 219 probl: 0.0003 bboxl: 0.2519\n",
      "epoch: 220 probl: 0.0003 bboxl: 0.2390\n",
      "epoch: 221 probl: 0.0003 bboxl: 0.2672\n",
      "epoch: 222 probl: 0.0003 bboxl: 0.2385\n",
      "epoch: 223 probl: 0.0003 bboxl: 0.2459\n",
      "epoch: 224 probl: 0.0003 bboxl: 0.2564\n",
      "epoch: 225 probl: 0.0003 bboxl: 0.2490\n",
      "epoch: 226 probl: 0.0003 bboxl: 0.2474\n",
      "epoch: 227 probl: 0.0003 bboxl: 0.2591\n",
      "epoch: 228 probl: 0.0003 bboxl: 0.2344\n",
      "epoch: 229 probl: 0.0003 bboxl: 0.2436\n",
      "epoch: 230 probl: 0.0003 bboxl: 0.2548\n",
      "epoch: 231 probl: 0.0003 bboxl: 0.2548\n",
      "epoch: 232 probl: 0.0003 bboxl: 0.2385\n",
      "epoch: 233 probl: 0.0003 bboxl: 0.2361\n",
      "epoch: 234 probl: 0.0003 bboxl: 0.2589\n",
      "epoch: 235 probl: 0.0003 bboxl: 0.2354\n",
      "epoch: 236 probl: 0.0003 bboxl: 0.2524\n",
      "epoch: 237 probl: 0.0003 bboxl: 0.2568\n",
      "epoch: 238 probl: 0.0003 bboxl: 0.2374\n",
      "epoch: 239 probl: 0.0003 bboxl: 0.2519\n",
      "epoch: 240 probl: 0.0003 bboxl: 0.2606\n",
      "epoch: 241 probl: 0.0003 bboxl: 0.2342\n",
      "epoch: 242 probl: 0.0003 bboxl: 0.2381\n",
      "epoch: 243 probl: 0.0003 bboxl: 0.2590\n",
      "epoch: 244 probl: 0.0003 bboxl: 0.2370\n",
      "epoch: 245 probl: 0.0003 bboxl: 0.2427\n",
      "epoch: 246 probl: 0.0003 bboxl: 0.2579\n",
      "epoch: 247 probl: 0.0003 bboxl: 0.2514\n",
      "epoch: 248 probl: 0.0003 bboxl: 0.2330\n",
      "epoch: 249 probl: 0.0003 bboxl: 0.2529\n",
      "epoch: 250 probl: 0.0003 bboxl: 0.2640\n",
      "epoch: 251 probl: 0.0003 bboxl: 0.2378\n",
      "epoch: 252 probl: 0.0003 bboxl: 0.2396\n",
      "epoch: 253 probl: 0.0003 bboxl: 0.2332\n",
      "epoch: 254 probl: 0.0003 bboxl: 0.2456\n",
      "epoch: 255 probl: 0.0003 bboxl: 0.2497\n",
      "epoch: 256 probl: 0.0003 bboxl: 0.2529\n",
      "epoch: 257 probl: 0.0003 bboxl: 0.2473\n",
      "epoch: 258 probl: 0.0003 bboxl: 0.2404\n",
      "epoch: 259 probl: 0.0003 bboxl: 0.2489\n",
      "epoch: 260 probl: 0.0003 bboxl: 0.2485\n",
      "epoch: 261 probl: 0.0003 bboxl: 0.2524\n",
      "epoch: 262 probl: 0.0003 bboxl: 0.2458\n",
      "epoch: 263 probl: 0.0003 bboxl: 0.2498\n",
      "epoch: 264 probl: 0.0003 bboxl: 0.2369\n",
      "epoch: 265 probl: 0.0003 bboxl: 0.2558\n",
      "epoch: 266 probl: 0.0003 bboxl: 0.2361\n",
      "epoch: 267 probl: 0.0003 bboxl: 0.2761\n",
      "epoch: 268 probl: 0.0003 bboxl: 0.2518\n",
      "epoch: 269 probl: 0.0003 bboxl: 0.2344\n",
      "epoch: 270 probl: 0.0003 bboxl: 0.2428\n",
      "epoch: 271 probl: 0.0003 bboxl: 0.2499\n",
      "epoch: 272 probl: 0.0003 bboxl: 0.2479\n",
      "epoch: 273 probl: 0.0003 bboxl: 0.2476\n",
      "epoch: 274 probl: 0.0003 bboxl: 0.2350\n",
      "epoch: 275 probl: 0.0003 bboxl: 0.2607\n",
      "epoch: 276 probl: 0.0003 bboxl: 0.2426\n",
      "epoch: 277 probl: 0.0003 bboxl: 0.2474\n",
      "epoch: 278 probl: 0.0003 bboxl: 0.2481\n",
      "epoch: 279 probl: 0.0003 bboxl: 0.2322\n",
      "epoch: 280 probl: 0.0003 bboxl: 0.2583\n",
      "epoch: 281 probl: 0.0003 bboxl: 0.2269\n",
      "epoch: 282 probl: 0.0003 bboxl: 0.2654\n",
      "epoch: 283 probl: 0.0003 bboxl: 0.2356\n",
      "epoch: 284 probl: 0.0003 bboxl: 0.2532\n",
      "epoch: 285 probl: 0.0003 bboxl: 0.2375\n",
      "epoch: 286 probl: 0.0003 bboxl: 0.2489\n",
      "epoch: 287 probl: 0.0003 bboxl: 0.2567\n",
      "epoch: 288 probl: 0.0003 bboxl: 0.2371\n",
      "epoch: 289 probl: 0.0003 bboxl: 0.2627\n",
      "epoch: 290 probl: 0.0003 bboxl: 0.2396\n",
      "epoch: 291 probl: 0.0003 bboxl: 0.2475\n",
      "epoch: 292 probl: 0.0003 bboxl: 0.2498\n",
      "epoch: 293 probl: 0.0003 bboxl: 0.2729\n",
      "epoch: 294 probl: 0.0003 bboxl: 0.2605\n",
      "epoch: 295 probl: 0.0003 bboxl: 0.2235\n",
      "epoch: 296 probl: 0.0003 bboxl: 0.2637\n",
      "epoch: 297 probl: 0.0003 bboxl: 0.2295\n",
      "epoch: 298 probl: 0.0003 bboxl: 0.2843\n",
      "epoch: 299 probl: 0.0003 bboxl: 0.2407\n",
      "epoch: 300 probl: 0.0003 bboxl: 0.2547\n",
      "epoch: 301 probl: 0.0003 bboxl: 0.2439\n",
      "epoch: 302 probl: 0.0003 bboxl: 0.2435\n",
      "epoch: 303 probl: 0.0003 bboxl: 0.2529\n",
      "epoch: 304 probl: 0.0003 bboxl: 0.2289\n",
      "epoch: 305 probl: 0.0003 bboxl: 0.2917\n",
      "epoch: 306 probl: 0.0003 bboxl: 0.2333\n",
      "epoch: 307 probl: 0.0003 bboxl: 0.2683\n",
      "epoch: 308 probl: 0.0003 bboxl: 0.2461\n",
      "epoch: 309 probl: 0.0003 bboxl: 0.2413\n",
      "epoch: 310 probl: 0.0003 bboxl: 0.2528\n",
      "epoch: 311 probl: 0.0003 bboxl: 0.2482\n",
      "epoch: 312 probl: 0.0003 bboxl: 0.2373\n",
      "epoch: 313 probl: 0.0003 bboxl: 0.2515\n",
      "epoch: 314 probl: 0.0003 bboxl: 0.2468\n",
      "epoch: 315 probl: 0.0003 bboxl: 0.2516\n",
      "epoch: 316 probl: 0.0003 bboxl: 0.2507\n",
      "epoch: 317 probl: 0.0003 bboxl: 0.2412\n",
      "epoch: 318 probl: 0.0003 bboxl: 0.2505\n",
      "epoch: 319 probl: 0.0003 bboxl: 0.2465\n",
      "epoch: 320 probl: 0.0003 bboxl: 0.2432\n",
      "epoch: 321 probl: 0.0003 bboxl: 0.2497\n",
      "epoch: 322 probl: 0.0003 bboxl: 0.2428\n",
      "epoch: 323 probl: 0.0003 bboxl: 0.2483\n",
      "epoch: 324 probl: 0.0003 bboxl: 0.2763\n",
      "epoch: 325 probl: 0.0003 bboxl: 0.2500\n",
      "epoch: 326 probl: 0.0003 bboxl: 0.2451\n",
      "epoch: 327 probl: 0.0003 bboxl: 0.2432\n",
      "epoch: 328 probl: 0.0003 bboxl: 0.2450\n",
      "epoch: 329 probl: 0.0003 bboxl: 0.2462\n",
      "epoch: 330 probl: 0.0003 bboxl: 0.2503\n",
      "epoch: 331 probl: 0.0003 bboxl: 0.2357\n",
      "epoch: 332 probl: 0.0003 bboxl: 0.2543\n",
      "epoch: 333 probl: 0.0003 bboxl: 0.2375\n",
      "epoch: 334 probl: 0.0003 bboxl: 0.2450\n",
      "epoch: 335 probl: 0.0003 bboxl: 0.2486\n",
      "epoch: 336 probl: 0.0003 bboxl: 0.2423\n",
      "epoch: 337 probl: 0.0003 bboxl: 0.2452\n",
      "epoch: 338 probl: 0.0003 bboxl: 0.2515\n",
      "epoch: 339 probl: 0.0003 bboxl: 0.2441\n",
      "epoch: 340 probl: 0.0003 bboxl: 0.2467\n",
      "epoch: 341 probl: 0.0003 bboxl: 0.2503\n",
      "epoch: 342 probl: 0.0003 bboxl: 0.2528\n",
      "epoch: 343 probl: 0.0003 bboxl: 0.2417\n",
      "epoch: 344 probl: 0.0003 bboxl: 0.2429\n",
      "epoch: 345 probl: 0.0003 bboxl: 0.2475\n",
      "epoch: 346 probl: 0.0003 bboxl: 0.2468\n",
      "epoch: 347 probl: 0.0003 bboxl: 0.2465\n",
      "epoch: 348 probl: 0.0003 bboxl: 0.2402\n",
      "epoch: 349 probl: 0.0004 bboxl: 0.2864\n",
      "epoch: 350 probl: 0.0003 bboxl: 0.2312\n",
      "epoch: 351 probl: 0.0003 bboxl: 0.2658\n",
      "epoch: 352 probl: 0.0003 bboxl: 0.2306\n",
      "epoch: 353 probl: 0.0003 bboxl: 0.2545\n",
      "epoch: 354 probl: 0.0003 bboxl: 0.2418\n",
      "epoch: 355 probl: 0.0003 bboxl: 0.2504\n",
      "epoch: 356 probl: 0.0003 bboxl: 0.2356\n",
      "epoch: 357 probl: 0.0003 bboxl: 0.2549\n",
      "epoch: 358 probl: 0.0003 bboxl: 0.2423\n",
      "epoch: 359 probl: 0.0003 bboxl: 0.2506\n",
      "epoch: 360 probl: 0.0003 bboxl: 0.2455\n",
      "epoch: 361 probl: 0.0003 bboxl: 0.2426\n",
      "epoch: 362 probl: 0.0003 bboxl: 0.2487\n",
      "epoch: 363 probl: 0.0003 bboxl: 0.2545\n",
      "epoch: 364 probl: 0.0003 bboxl: 0.2411\n",
      "epoch: 365 probl: 0.0003 bboxl: 0.2472\n",
      "epoch: 366 probl: 0.0003 bboxl: 0.2370\n",
      "epoch: 367 probl: 0.0003 bboxl: 0.2557\n",
      "epoch: 368 probl: 0.0003 bboxl: 0.2462\n",
      "epoch: 369 probl: 0.0003 bboxl: 0.2460\n",
      "epoch: 370 probl: 0.0003 bboxl: 0.2326\n",
      "epoch: 371 probl: 0.0003 bboxl: 0.2485\n",
      "epoch: 372 probl: 0.0003 bboxl: 0.2405\n",
      "epoch: 373 probl: 0.0003 bboxl: 0.2445\n",
      "epoch: 374 probl: 0.0003 bboxl: 0.2506\n",
      "epoch: 375 probl: 0.0003 bboxl: 0.2451\n",
      "epoch: 376 probl: 0.0003 bboxl: 0.2466\n",
      "epoch: 377 probl: 0.0003 bboxl: 0.2468\n",
      "epoch: 378 probl: 0.0003 bboxl: 0.2433\n",
      "epoch: 379 probl: 0.0003 bboxl: 0.2556\n",
      "epoch: 380 probl: 0.0003 bboxl: 0.2322\n",
      "epoch: 381 probl: 0.0003 bboxl: 0.2520\n",
      "epoch: 382 probl: 0.0003 bboxl: 0.2397\n",
      "epoch: 383 probl: 0.0003 bboxl: 0.2509\n",
      "epoch: 384 probl: 0.0003 bboxl: 0.2405\n",
      "epoch: 385 probl: 0.0003 bboxl: 0.2547\n",
      "epoch: 386 probl: 0.0003 bboxl: 0.2476\n",
      "epoch: 387 probl: 0.0003 bboxl: 0.2643\n",
      "epoch: 388 probl: 0.0003 bboxl: 0.2391\n",
      "epoch: 389 probl: 0.0003 bboxl: 0.2401\n",
      "epoch: 390 probl: 0.0003 bboxl: 0.2789\n",
      "epoch: 391 probl: 0.0003 bboxl: 0.2453\n",
      "epoch: 392 probl: 0.0003 bboxl: 0.2467\n",
      "epoch: 393 probl: 0.0003 bboxl: 0.2413\n",
      "epoch: 394 probl: 0.0003 bboxl: 0.2570\n",
      "epoch: 395 probl: 0.0003 bboxl: 0.2427\n",
      "epoch: 396 probl: 0.0003 bboxl: 0.2453\n",
      "epoch: 397 probl: 0.0003 bboxl: 0.2472\n",
      "epoch: 398 probl: 0.0003 bboxl: 0.2591\n",
      "epoch: 399 probl: 0.0003 bboxl: 0.2341\n",
      "epoch: 400 probl: 0.0003 bboxl: 0.2501\n",
      "finished training\n"
     ]
    }
   ],
   "source": [
    "\n",
    "from tensorboardX import SummaryWriter\n",
    "\n",
    "writer = SummaryWriter(log_dir=\"/home/ubuntu/tensorLog\") # tensorboard writer\n",
    "\n",
    "prob_lossfn = nn.BCELoss().to(device)\n",
    "bbox_lossfn = nn.MSELoss().to(device)\n",
    "\n",
    "optimizer = None\n",
    "\n",
    "if opt == \"Adam\":\n",
    "    print(\"Optimizer: Adam\")\n",
    "    optimizer = torch.optim.Adam(pnet.parameters(), lr=learning_rate, amsgrad=True)\n",
    "elif opt == \"SGD\":\n",
    "    print(\"Optimizer: SGD\")\n",
    "    optimizer = torch.optim.SGD(pnet.parameters(), lr=learning_rate, momentum=0.9)\n",
    "else:\n",
    "    print(\"Error\")\n",
    "\n",
    "scheduler = optim.lr_scheduler.MultiStepLR(optimizer, milestones=decay_step, gamma=decay_rate)\n",
    "\n",
    "rl1, rl2 = 0, 0\n",
    "\n",
    "for epoch in range(1, epochs+1):\n",
    "    \n",
    "    for batch_idx, data in enumerate(train_loader):\n",
    "        \n",
    "        im, prob, bbox = data\n",
    "        \n",
    "        im = im.to(device)\n",
    "        prob = prob.float().to(device)\n",
    "        bbox = bbox.float().to(device)\n",
    "        \n",
    "        o_bbox, o_prob = pnet(im)\n",
    "        \n",
    "        o_bbox = o_bbox.float().squeeze()\n",
    "        o_prob = o_prob.float().squeeze()\n",
    "        \n",
    "        prob_loss = prob_lossfn(o_prob, prob)\n",
    "        bbox_loss = bbox_lossfn(o_bbox, bbox)\n",
    "        \n",
    "        rl1 += prob_loss.item()\n",
    "        rl2 += bbox_loss.item()\n",
    "        \n",
    "        \n",
    "        all_loss = prob_loss * 0.6 + bbox_loss * 1.2\n",
    "        \n",
    "        if batch_idx % print_freq == print_freq-1:\n",
    "            \n",
    "            print(\"epoch: {} probl: {:.4f} bboxl: {:.4f}\".format(epoch, rl1/print_freq, rl2/print_freq))\n",
    "            writer.add_scalar('prob_l', rl1/print_freq, epoch)\n",
    "            writer.add_scalar('bbox_l', rl2/print_freq, epoch)\n",
    "            rl1, rl2 = 0, 0\n",
    "\n",
    "        optimizer.zero_grad()\n",
    "        all_loss.backward()\n",
    "        optimizer.step()\n",
    "    \n",
    "    scheduler.step()\n",
    "\n",
    "    #if epoch % 5 == 0:\n",
    "    if False:\n",
    "        save_name = 'epoch-{}.pth.tar'.format(epoch)\n",
    "        torch.save({\n",
    "            'epoch': epochs,\n",
    "            'state_dict': mtcnn.onet.state_dict(),\n",
    "            'opt_dict': optimizer.state_dict(),\n",
    "        }, save_name)\n",
    "        print('Saved model at {}'.format(save_name))\n",
    "\n",
    "print(\"finished training\")"
   ]
  },
  {
   "cell_type": "code",
   "execution_count": 12,
   "metadata": {},
   "outputs": [
    {
     "data": {
      "image/png": "[encoded data removed]",
      "text/plain": [
       "<Figure size 432x288 with 1 Axes>"
      ]
     },
     "metadata": {
      "needs_background": "light"
     },
     "output_type": "display_data"
    },
    {
     "name": "stdout",
     "output_type": "stream",
     "text": [
      "truth: 1, pred: 1\n",
      "bbox: [ 4.  4.  9. 10.]\n"
     ]
    },
    {
     "data": {
      "image/png": "[encoded data removed]",
      "text/plain": [
       "<Figure size 432x288 with 1 Axes>"
      ]
     },
     "metadata": {
      "needs_background": "light"
     },
     "output_type": "display_data"
    },
    {
     "name": "stdout",
     "output_type": "stream",
     "text": [
      "truth: 0, pred: 0\n",
      "bbox: [ 0. -0.  0. -0.]\n"
     ]
    },
    {
     "data": {
      "image/png": "[encoded data removed]",
      "text/plain": [
       "<Figure size 432x288 with 1 Axes>"
      ]
     },
     "metadata": {
      "needs_background": "light"
     },
     "output_type": "display_data"
    },
    {
     "name": "stdout",
     "output_type": "stream",
     "text": [
      "truth: 1, pred: 1\n",
      "bbox: [ 2.  1.  8. 10.]\n"
     ]
    },
    {
     "data": {
      "image/png": "[encoded data removed]",
      "text/plain": [
       "<Figure size 432x288 with 1 Axes>"
      ]
     },
     "metadata": {
      "needs_background": "light"
     },
     "output_type": "display_data"
    },
    {
     "name": "stdout",
     "output_type": "stream",
     "text": [
      "truth: 1, pred: 1\n",
      "bbox: [ 3.  4.  9. 11.]\n"
     ]
    },
    {
     "data": {
      "image/png": "[encoded data removed]",
      "text/plain": [
       "<Figure size 432x288 with 1 Axes>"
      ]
     },
     "metadata": {
      "needs_background": "light"
     },
     "output_type": "display_data"
    },
    {
     "name": "stdout",
     "output_type": "stream",
     "text": [
      "truth: 1, pred: 1\n",
      "bbox: [ 2.  3.  9. 11.]\n"
     ]
    },
    {
     "data": {
      "image/png": "[encoded data removed]",
      "text/plain": [
       "<Figure size 432x288 with 1 Axes>"
      ]
     },
     "metadata": {
      "needs_background": "light"
     },
     "output_type": "display_data"
    },
    {
     "name": "stdout",
     "output_type": "stream",
     "text": [
      "truth: 1, pred: 1\n",
      "bbox: [2. 2. 8. 8.]\n"
     ]
    },
    {
     "data": {
      "image/png": "[encoded data removed]",
      "text/plain": [
       "<Figure size 432x288 with 1 Axes>"
      ]
     },
     "metadata": {
      "needs_background": "light"
     },
     "output_type": "display_data"
    },
    {
     "name": "stdout",
     "output_type": "stream",
     "text": [
      "truth: 1, pred: 1\n",
      "bbox: [ 3.  0. 12. 12.]\n"
     ]
    },
    {
     "data": {
      "image/png": "[encoded data removed]",
      "text/plain": [
       "<Figure size 432x288 with 1 Axes>"
      ]
     },
     "metadata": {
      "needs_background": "light"
     },
     "output_type": "display_data"
    },
    {
     "name": "stdout",
     "output_type": "stream",
     "text": [
      "truth: 1, pred: 1\n",
      "bbox: [1. 1. 8. 9.]\n"
     ]
    },
    {
     "data": {
      "image/png": "[encoded data removed]",
      "text/plain": [
       "<Figure size 432x288 with 1 Axes>"
      ]
     },
     "metadata": {
      "needs_background": "light"
     },
     "output_type": "display_data"
    },
    {
     "name": "stdout",
     "output_type": "stream",
     "text": [
      "truth: 0, pred: 0\n",
      "bbox: [-0. -0. -0. -0.]\n"
     ]
    },
    {
     "data": {
      "image/png": "[encoded data removed]",
      "text/plain": [
       "<Figure size 432x288 with 1 Axes>"
      ]
     },
     "metadata": {
      "needs_background": "light"
     },
     "output_type": "display_data"
    },
    {
     "name": "stdout",
     "output_type": "stream",
     "text": [
      "truth: 1, pred: 1\n",
      "bbox: [ 4.  2. 11.  9.]\n"
     ]
    },
    {
     "data": {
      "image/png": "[encoded data removed]",
      "text/plain": [
       "<Figure size 432x288 with 1 Axes>"
      ]
     },
     "metadata": {
      "needs_background": "light"
     },
     "output_type": "display_data"
    },
    {
     "name": "stdout",
     "output_type": "stream",
     "text": [
      "truth: 0, pred: 0\n",
      "bbox: [-0.  0. -0. -0.]\n"
     ]
    },
    {
     "data": {
      "image/png": "[encoded data removed]",
      "text/plain": [
       "<Figure size 432x288 with 1 Axes>"
      ]
     },
     "metadata": {
      "needs_background": "light"
     },
     "output_type": "display_data"
    },
    {
     "name": "stdout",
     "output_type": "stream",
     "text": [
      "truth: 1, pred: 1\n",
      "bbox: [4. 2. 9. 8.]\n"
     ]
    },
    {
     "data": {
      "image/png": "[encoded data removed]",
      "text/plain": [
       "<Figure size 432x288 with 1 Axes>"
      ]
     },
     "metadata": {
      "needs_background": "light"
     },
     "output_type": "display_data"
    },
    {
     "name": "stdout",
     "output_type": "stream",
     "text": [
      "truth: 1, pred: 1\n",
      "bbox: [ 0.  3.  8. 11.]\n"
     ]
    },
    {
     "data": {
      "image/png": "[encoded data removed]",
      "text/plain": [
       "<Figure size 432x288 with 1 Axes>"
      ]
     },
     "metadata": {
      "needs_background": "light"
     },
     "output_type": "display_data"
    },
    {
     "name": "stdout",
     "output_type": "stream",
     "text": [
      "truth: 1, pred: 1\n",
      "bbox: [ 0. -0. 10. 11.]\n"
     ]
    },
    {
     "data": {
      "image/png": "[encoded data removed]",
      "text/plain": [
       "<Figure size 432x288 with 1 Axes>"
      ]
     },
     "metadata": {
      "needs_background": "light"
     },
     "output_type": "display_data"
    },
    {
     "name": "stdout",
     "output_type": "stream",
     "text": [
      "truth: 0, pred: 0\n",
      "bbox: [0. 0. 0. 0.]\n"
     ]
    },
    {
     "data": {
      "image/png": "[encoded data removed]",
      "text/plain": [
       "<Figure size 432x288 with 1 Axes>"
      ]
     },
     "metadata": {
      "needs_background": "light"
     },
     "output_type": "display_data"
    },
    {
     "name": "stdout",
     "output_type": "stream",
     "text": [
      "truth: 0, pred: 0\n",
      "bbox: [ 0. -0.  0.  0.]\n"
     ]
    },
    {
     "data": {
      "image/png": "[encoded data removed]",
      "text/plain": [
       "<Figure size 432x288 with 1 Axes>"
      ]
     },
     "metadata": {
      "needs_background": "light"
     },
     "output_type": "display_data"
    },
    {
     "name": "stdout",
     "output_type": "stream",
     "text": [
      "truth: 1, pred: 1\n",
      "bbox: [ 2.  2.  8. 10.]\n"
     ]
    },
    {
     "data": {
      "image/png": "[encoded data removed]",
      "text/plain": [
       "<Figure size 432x288 with 1 Axes>"
      ]
     },
     "metadata": {
      "needs_background": "light"
     },
     "output_type": "display_data"
    },
    {
     "name": "stdout",
     "output_type": "stream",
     "text": [
      "truth: 1, pred: 1\n",
      "bbox: [ 3.  5.  7. 10.]\n",
      "accuracy: 98.2%\n"
     ]
    }
   ],
   "source": [
    "total = len(valid_ds)\n",
    "err = 0\n",
    "truth = []\n",
    "pred = []\n",
    "\n",
    "for idx in range(0, total):\n",
    "    \n",
    "    bbox, prob = pnet(valid_ds[idx][0].unsqueeze(0).to(device))\n",
    "    prob = prob.squeeze()\n",
    "    if prob[0] > prob[1]:\n",
    "        prob = 1\n",
    "    else:\n",
    "        prob = 0\n",
    "    \n",
    "    if prob != prob_valid[idx]:\n",
    "        err += 1\n",
    "        \n",
    "    if idx % 20 == 0:\n",
    "        plt.imshow(transforms.ToPILImage()(valid_ds[idx][0]))\n",
    "        plt.show()\n",
    "        print(\"truth: {}, pred: {}\".format(prob_valid[idx], prob))\n",
    "        print(\"bbox: \" + str(np.rint(bbox.cpu().detach().squeeze().numpy())))\n",
    "    \n",
    "    pred.append(prob)\n",
    "    truth.append(prob_valid[idx])\n",
    "\n",
    "\n",
    "print(\"accuracy: {:.1f}%\".format(100*(total-err)/total))\n",
    "\"\"\"\n",
    "p, r, f1 = utils.f1_score(truth, pred, 0)\n",
    "print(\"precision: {:.2f}, recall: {:.2f}, f1: {:.2f}\".format(p, r, f1))\n",
    "print(\"valid_ds length: {}\".format(len(valid_ds)))\n",
    "print(\"age dist: \", end='')\n",
    "\"\"\";"
   ]
  },
  {
   "cell_type": "code",
   "execution_count": null,
   "metadata": {},
   "outputs": [],
   "source": []
  }
 ],
 "metadata": {
  "kernelspec": {
   "display_name": "Python 3",
   "language": "python",
   "name": "python3"
  },
  "language_info": {
   "codemirror_mode": {
    "name": "ipython",
    "version": 3
   },
   "file_extension": ".py",
   "mimetype": "text/x-python",
   "name": "python",
   "nbconvert_exporter": "python",
   "pygments_lexer": "ipython3",
   "version": "3.7.7"
  }
 },
 "nbformat": 4,
 "nbformat_minor": 4
}
