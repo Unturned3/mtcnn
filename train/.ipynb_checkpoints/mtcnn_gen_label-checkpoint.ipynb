{
 "cells": [
  {
   "cell_type": "markdown",
   "metadata": {},
   "source": [
    "Generate face bbox & face probs label for UTKFace images using MTCNN\n"
   ]
  },
  {
   "cell_type": "code",
   "execution_count": 1,
   "metadata": {},
   "outputs": [],
   "source": [
    "# set up path to facenet_pytorch_c\n",
    "import sys\n",
    "sys.path.insert(1, '/home/ubuntu/mtcnn')\n",
    "\n",
    "# facenet_pytorch_c: avoid confusion with system default facenet_pytorch\n",
    "from facenet_pytorch_c import MTCNN\n",
    "\n",
    "\n",
    "from tqdm import tqdm\n",
    "import numpy as np\n",
    "import os\n",
    "\n",
    "# other custom scripts\n",
    "import utils\n"
   ]
  },
  {
   "cell_type": "code",
   "execution_count": 2,
   "metadata": {},
   "outputs": [],
   "source": [
    "# data loading parameters\n",
    "workers = 4\n",
    "resize_shape = (224, 224)\n"
   ]
  },
  {
   "cell_type": "code",
   "execution_count": 3,
   "metadata": {},
   "outputs": [
    {
     "name": "stderr",
     "output_type": "stream",
     "text": [
      "100%|██████████| 5/5 [00:00<00:00, 83.97it/s]\n"
     ]
    }
   ],
   "source": [
    "# get data\n",
    "x_train, age_train, x_valid, age_valid, fname = utils.get_images(\n",
    "    r'/home/ubuntu/UTKFace', resize_shape=resize_shape\n",
    "    )"
   ]
  },
  {
   "cell_type": "code",
   "execution_count": 4,
   "metadata": {},
   "outputs": [],
   "source": [
    "# setup mtcnn\n",
    "\n",
    "device = \"cuda:0\"\n",
    "\n",
    "mtcnn = MTCNN(\n",
    "    image_size=160, margin=0, min_face_size=20,\n",
    "    thresholds=[0.6, 0.7, 0.7], factor=0.709, post_process=True, keep_all=True,\n",
    "    device=device\n",
    ")"
   ]
  },
  {
   "cell_type": "code",
   "execution_count": 5,
   "metadata": {},
   "outputs": [
    {
     "name": "stderr",
     "output_type": "stream",
     "text": [
      "100%|██████████| 5/5 [00:00<00:00, 10.70it/s]"
     ]
    },
    {
     "name": "stdout",
     "output_type": "stream",
     "text": [
      "prob shape: torch.Size([2, 2])\n",
      "  prob: tensor([[4.9411e-06, 1.0000e+00],\n",
      "        [4.9411e-06, 1.0000e+00]], device='cuda:0')\n",
      "prob shape: torch.Size([4, 2])\n",
      "  prob: tensor([[4.7859e-05, 9.9995e-01],\n",
      "        [4.3989e-07, 1.0000e+00],\n",
      "        [8.7954e-01, 1.2046e-01],\n",
      "        [9.7857e-01, 2.1426e-02]], device='cuda:0')\n",
      "prob shape: torch.Size([4, 2])\n",
      "  prob: tensor([[2.0242e-05, 9.9998e-01],\n",
      "        [2.9282e-04, 9.9971e-01],\n",
      "        [2.0242e-05, 9.9998e-01],\n",
      "        [2.9198e-05, 9.9997e-01]], device='cuda:0')\n",
      "prob shape: torch.Size([3, 2])\n",
      "  prob: tensor([[6.8317e-05, 9.9993e-01],\n",
      "        [3.9622e-05, 9.9996e-01],\n",
      "        [8.8528e-01, 1.1472e-01]], device='cuda:0')\n",
      "prob shape: torch.Size([4, 2])\n",
      "  prob: tensor([[9.0795e-05, 9.9991e-01],\n",
      "        [1.7327e-04, 9.9983e-01],\n",
      "        [3.0357e-03, 9.9696e-01],\n",
      "        [9.9989e-01, 1.0979e-04]], device='cuda:0')\n",
      "total: 5; mtcnn fail count: 0\n"
     ]
    },
    {
     "name": "stderr",
     "output_type": "stream",
     "text": [
      "\n"
     ]
    }
   ],
   "source": [
    "# pyplot, for debugging\n",
    "\n",
    "# saving numpy data in files\n",
    "# https://stackoverflow.com/questions/28439701/how-to-save-and-load-numpy-array-data-properly\n",
    "\n",
    "\n",
    "import matplotlib.pyplot as plt\n",
    "\n",
    "bbox_train = []\n",
    "prob_train = []\n",
    "bbox_valid = []\n",
    "prob_valid = []\n",
    "\n",
    "idx = 0\n",
    "fail = 0\n",
    "total = 0\n",
    "\n",
    "for img in tqdm(x_train):\n",
    "    \n",
    "    total += 1\n",
    "    bbox, prob = mtcnn(img, eval_mode=True)\n",
    "    \n",
    "    if bbox is None:\n",
    "        # mtcnn failed to detect a face\n",
    "        fail += 1\n",
    "        plt.imshow(x_train[idx])\n",
    "        plt.show()\n",
    "        print(fname[idx])\n",
    "        bbox = np.zeros(4, dtype=\"int8\")\n",
    "        prob = np.zeros()\n",
    "        \n",
    "        # remove this image from dataset(not usable)\n",
    "        x_train.pop(idx)\n",
    "        age_train.pop(idx)\n",
    "        fname.pop(idx)\n",
    "    \n",
    "    else:\n",
    "        #bbox_train.append(bbox[0])\n",
    "        #prob_train.append(prob)\n",
    "        np.save(fname[idx]+\".bbox.npy\", bbox)\n",
    "        np.save(fname[idx]+\".prob.npy\", prob)\n",
    "        idx += 1\n",
    "\n",
    "print(\"total: {}; mtcnn fail count: {}\".format(total, fail))\n"
   ]
  },
  {
   "cell_type": "code",
   "execution_count": null,
   "metadata": {},
   "outputs": [],
   "source": [
    "if bbox_train[4][0].dtype == np.dtype(\"float32\"):\n",
    "    print(\"yes\")\n",
    "else:\n",
    "    print(\"no\")\n"
   ]
  },
  {
   "cell_type": "code",
   "execution_count": null,
   "metadata": {},
   "outputs": [],
   "source": [
    "print(prob[0])"
   ]
  },
  {
   "cell_type": "code",
   "execution_count": null,
   "metadata": {},
   "outputs": [],
   "source": []
  }
 ],
 "metadata": {
  "kernelspec": {
   "display_name": "Python 3",
   "language": "python",
   "name": "python3"
  },
  "language_info": {
   "codemirror_mode": {
    "name": "ipython",
    "version": 3
   },
   "file_extension": ".py",
   "mimetype": "text/x-python",
   "name": "python",
   "nbconvert_exporter": "python",
   "pygments_lexer": "ipython3",
   "version": "3.7.7"
  }
 },
 "nbformat": 4,
 "nbformat_minor": 4
}
