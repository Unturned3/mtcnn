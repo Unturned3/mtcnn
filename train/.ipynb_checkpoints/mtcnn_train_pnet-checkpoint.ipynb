{
 "cells": [
  {
   "cell_type": "code",
   "execution_count": 1,
   "metadata": {},
   "outputs": [],
   "source": [
    "# set up path to facenet_pytorch_c\n",
    "import sys\n",
    "sys.path.insert(1, '/home/ubuntu/mtcnn')"
   ]
  },
  {
   "cell_type": "code",
   "execution_count": 2,
   "metadata": {},
   "outputs": [],
   "source": [
    "# facenet_pytorch_c: avoid confusion with system default facenet_pytorch\n",
    "from facenet_pytorch_c import MTCNN\n",
    "\n",
    "from tqdm import tqdm\n",
    "import numpy as np\n",
    "import os\n",
    "\n",
    "# pytorch\n",
    "import torch\n",
    "import torch.optim as optim\n",
    "from torch import nn\n",
    "\n",
    "# data handling\n",
    "from torch.utils.data import DataLoader\n",
    "\n",
    "# torchvision libs\n",
    "import torchvision\n",
    "from torchvision import datasets\n",
    "from torchvision import transforms\n",
    "import PIL\n"
   ]
  },
  {
   "cell_type": "code",
   "execution_count": 3,
   "metadata": {},
   "outputs": [],
   "source": [
    "# other custom scripts\n",
    "import utils"
   ]
  },
  {
   "cell_type": "code",
   "execution_count": 4,
   "metadata": {},
   "outputs": [],
   "source": [
    "import matplotlib.pyplot as plt\n",
    "import matplotlib.patches as patches"
   ]
  },
  {
   "cell_type": "code",
   "execution_count": 5,
   "metadata": {},
   "outputs": [
    {
     "name": "stdout",
     "output_type": "stream",
     "text": [
      "Available device: cuda:0\n",
      "print freq: 18\n"
     ]
    }
   ],
   "source": [
    "\n",
    "device = torch.device(\"cuda:0\" if torch.cuda.is_available() else \"cpu\")\n",
    "print(\"Available device: \" + str(device))\n",
    "\n",
    "# training hyperparameters\n",
    "learning_rate = 1e-2\n",
    "epochs = 400\n",
    "decay_step = [200, 225, 250, 275, 300, 325, 350, 375]\n",
    "decay_rate = 0.1\n",
    "opt = 'Adam'    # either Adam or SGD\n",
    "batch_size = 128\n",
    "\n",
    "print_freq = int(3050/batch_size - 5)\n",
    "print(\"print freq: {}\".format(print_freq))\n",
    "\n",
    "# data loading parameters\n",
    "workers = 4"
   ]
  },
  {
   "cell_type": "code",
   "execution_count": 6,
   "metadata": {},
   "outputs": [
    {
     "name": "stderr",
     "output_type": "stream",
     "text": [
      "100%|██████████| 3428/3428 [00:27<00:00, 126.31it/s]\n"
     ]
    }
   ],
   "source": [
    "x_train, prob_train, bbox_train, x_valid, prob_valid, bbox_valid = utils.get_images(\n",
    "    '/home/ubuntu/db_proc/db/images',\n",
    "    '/home/ubuntu/db_proc/db/annotations'\n",
    ")"
   ]
  },
  {
   "cell_type": "code",
   "execution_count": 7,
   "metadata": {},
   "outputs": [
    {
     "data": {
      "image/png": "[encoded data removed]",
      "text/plain": [
       "<Figure size 432x288 with 1 Axes>"
      ]
     },
     "metadata": {
      "needs_background": "light"
     },
     "output_type": "display_data"
    },
    {
     "name": "stdout",
     "output_type": "stream",
     "text": [
      "[ 2  1 12 11]\n"
     ]
    },
    {
     "data": {
      "image/png": "[encoded data removed]",
      "text/plain": [
       "<Figure size 432x288 with 1 Axes>"
      ]
     },
     "metadata": {
      "needs_background": "light"
     },
     "output_type": "display_data"
    },
    {
     "name": "stdout",
     "output_type": "stream",
     "text": [
      "[0 0 0 0]\n"
     ]
    },
    {
     "data": {
      "image/png": "[encoded data removed]",
      "text/plain": [
       "<Figure size 432x288 with 1 Axes>"
      ]
     },
     "metadata": {
      "needs_background": "light"
     },
     "output_type": "display_data"
    },
    {
     "name": "stdout",
     "output_type": "stream",
     "text": [
      "[0 0 0 0]\n"
     ]
    },
    {
     "data": {
      "image/png": "[encoded data removed]",
      "text/plain": [
       "<Figure size 432x288 with 1 Axes>"
      ]
     },
     "metadata": {
      "needs_background": "light"
     },
     "output_type": "display_data"
    },
    {
     "name": "stdout",
     "output_type": "stream",
     "text": [
      "[0 0 0 0]\n"
     ]
    },
    {
     "data": {
      "image/png": "[encoded data removed]",
      "text/plain": [
       "<Figure size 432x288 with 1 Axes>"
      ]
     },
     "metadata": {
      "needs_background": "light"
     },
     "output_type": "display_data"
    },
    {
     "name": "stdout",
     "output_type": "stream",
     "text": [
      "[ 3  3 11 12]\n"
     ]
    }
   ],
   "source": [
    "for i in range(55, 60):\n",
    "    plt.imshow(x_train[i*5])\n",
    "    plt.show()\n",
    "    print(bbox_train[i*5])"
   ]
  },
  {
   "cell_type": "code",
   "execution_count": 8,
   "metadata": {},
   "outputs": [],
   "source": [
    "class PNet(nn.Module):\n",
    "\n",
    "    def __init__(self):\n",
    "        super().__init__()\n",
    "\n",
    "        self.conv1 = nn.Conv2d(3, 10, kernel_size=3)\n",
    "        self.prelu1 = nn.PReLU(10)\n",
    "        self.pool1 = nn.MaxPool2d(2, 2, ceil_mode=True)\n",
    "        self.conv2 = nn.Conv2d(10, 16, kernel_size=3)\n",
    "        self.prelu2 = nn.PReLU(16)\n",
    "        self.conv3 = nn.Conv2d(16, 32, kernel_size=3)\n",
    "        self.prelu3 = nn.PReLU(32)\n",
    "        self.conv4_1 = nn.Conv2d(32, 2, kernel_size=1)\n",
    "        self.softmax4_1 = nn.Softmax(dim=1)\n",
    "        self.conv4_2 = nn.Conv2d(32, 4, kernel_size=1)\n",
    "\n",
    "        self.training = True\n",
    "\n",
    "    def forward(self, x):\n",
    "        x = self.conv1(x)\n",
    "        x = self.prelu1(x)\n",
    "        x = self.pool1(x)\n",
    "        x = self.conv2(x)\n",
    "        x = self.prelu2(x)\n",
    "        x = self.conv3(x)\n",
    "        x = self.prelu3(x)\n",
    "        a = self.conv4_1(x) # prob\n",
    "        a = self.softmax4_1(a)\n",
    "        b = self.conv4_2(x) # bbox\n",
    "        return b, a\n"
   ]
  },
  {
   "cell_type": "code",
   "execution_count": 9,
   "metadata": {},
   "outputs": [],
   "source": [
    "transform_train = transforms.Compose([\n",
    "    transforms.ToTensor(),\n",
    "    #transforms.Normalize((0.485, 0.456, 0.406), (0.229, 0.224, 0.225)),\n",
    "])\n",
    "\n",
    "transform_valid = transforms.Compose([\n",
    "    transforms.ToTensor(),\n",
    "    #transforms.Normalize((0.485, 0.456, 0.406), (0.229, 0.224, 0.225)),\n",
    "])\n",
    "\n",
    "train_ds = utils.CIVDS(x_train, prob_train, bbox_train, trsfm=transform_train)\n",
    "\n",
    "valid_ds = utils.CIVDS(x_valid, prob_valid, bbox_valid, trsfm=transform_valid)\n",
    "\n",
    "train_loader = DataLoader(\n",
    "    train_ds, batch_size=batch_size,\n",
    "    num_workers=workers, shuffle=True\n",
    ")\n",
    "\n",
    "valid_loader = DataLoader(\n",
    "    valid_ds, batch_size=batch_size,\n",
    "    num_workers=workers, shuffle=False\n",
    ")"
   ]
  },
  {
   "cell_type": "code",
   "execution_count": 10,
   "metadata": {},
   "outputs": [
    {
     "data": {
      "text/plain": [
       "PNet(\n",
       "  (conv1): Conv2d(3, 10, kernel_size=(3, 3), stride=(1, 1))\n",
       "  (prelu1): PReLU(num_parameters=10)\n",
       "  (pool1): MaxPool2d(kernel_size=2, stride=2, padding=0, dilation=1, ceil_mode=True)\n",
       "  (conv2): Conv2d(10, 16, kernel_size=(3, 3), stride=(1, 1))\n",
       "  (prelu2): PReLU(num_parameters=16)\n",
       "  (conv3): Conv2d(16, 32, kernel_size=(3, 3), stride=(1, 1))\n",
       "  (prelu3): PReLU(num_parameters=32)\n",
       "  (conv4_1): Conv2d(32, 2, kernel_size=(1, 1), stride=(1, 1))\n",
       "  (softmax4_1): Softmax(dim=1)\n",
       "  (conv4_2): Conv2d(32, 4, kernel_size=(1, 1), stride=(1, 1))\n",
       ")"
      ]
     },
     "execution_count": 10,
     "metadata": {},
     "output_type": "execute_result"
    }
   ],
   "source": [
    "pnet = PNet()\n",
    "pnet.train()\n",
    "pnet.to(device)"
   ]
  },
  {
   "cell_type": "code",
   "execution_count": 11,
   "metadata": {},
   "outputs": [
    {
     "name": "stdout",
     "output_type": "stream",
     "text": [
      "Optimizer: Adam\n",
      "epoch: 1 probl: 0.6713 bboxl: 14.5665\n",
      "epoch: 2 probl: 0.7403 bboxl: 11.3998\n",
      "epoch: 3 probl: 0.4695 bboxl: 7.6124\n",
      "epoch: 4 probl: 0.4558 bboxl: 8.6044\n",
      "epoch: 5 probl: 0.3563 bboxl: 6.3442\n",
      "epoch: 6 probl: 0.3155 bboxl: 5.8758\n",
      "epoch: 7 probl: 0.2975 bboxl: 5.3379\n",
      "epoch: 8 probl: 0.2439 bboxl: 4.8599\n",
      "epoch: 9 probl: 0.2480 bboxl: 4.5402\n",
      "epoch: 10 probl: 0.2642 bboxl: 4.7100\n",
      "epoch: 11 probl: 0.2609 bboxl: 4.6961\n",
      "epoch: 12 probl: 0.2180 bboxl: 4.0632\n",
      "epoch: 13 probl: 0.2200 bboxl: 3.8565\n",
      "epoch: 14 probl: 0.2470 bboxl: 4.2755\n",
      "epoch: 15 probl: 0.1724 bboxl: 3.3683\n",
      "epoch: 16 probl: 0.1988 bboxl: 3.5414\n",
      "epoch: 17 probl: 0.1716 bboxl: 3.2448\n",
      "epoch: 18 probl: 0.1775 bboxl: 3.3060\n",
      "epoch: 19 probl: 0.1643 bboxl: 3.2311\n",
      "epoch: 20 probl: 0.1177 bboxl: 2.8185\n",
      "epoch: 21 probl: 0.1284 bboxl: 2.4678\n",
      "epoch: 22 probl: 0.1021 bboxl: 2.2598\n",
      "epoch: 23 probl: 0.1018 bboxl: 2.1951\n",
      "epoch: 24 probl: 0.0986 bboxl: 2.1311\n",
      "epoch: 25 probl: 0.1159 bboxl: 2.3275\n",
      "epoch: 26 probl: 0.0811 bboxl: 2.0111\n",
      "epoch: 27 probl: 0.0755 bboxl: 1.9698\n",
      "epoch: 28 probl: 0.0909 bboxl: 2.0043\n",
      "epoch: 29 probl: 0.0734 bboxl: 1.7470\n",
      "epoch: 30 probl: 0.0878 bboxl: 2.0177\n",
      "epoch: 31 probl: 0.0714 bboxl: 1.8479\n",
      "epoch: 32 probl: 0.0685 bboxl: 1.7505\n",
      "epoch: 33 probl: 0.0626 bboxl: 1.7062\n",
      "epoch: 34 probl: 0.0742 bboxl: 2.0795\n",
      "epoch: 35 probl: 0.0619 bboxl: 1.6935\n",
      "epoch: 36 probl: 0.0637 bboxl: 2.0087\n",
      "epoch: 37 probl: 0.0374 bboxl: 1.3540\n",
      "epoch: 38 probl: 0.0362 bboxl: 1.2636\n",
      "epoch: 39 probl: 0.0405 bboxl: 1.4225\n",
      "epoch: 40 probl: 0.0453 bboxl: 1.4122\n",
      "epoch: 41 probl: 0.0431 bboxl: 1.4953\n",
      "epoch: 42 probl: 0.0326 bboxl: 1.2137\n",
      "epoch: 43 probl: 0.0310 bboxl: 1.2198\n",
      "epoch: 44 probl: 0.0218 bboxl: 1.0143\n",
      "epoch: 45 probl: 0.0293 bboxl: 1.2008\n",
      "epoch: 46 probl: 0.0133 bboxl: 0.9466\n",
      "epoch: 47 probl: 0.0223 bboxl: 1.0619\n",
      "epoch: 48 probl: 0.0190 bboxl: 1.0306\n",
      "epoch: 49 probl: 0.0125 bboxl: 0.8986\n",
      "epoch: 50 probl: 0.0138 bboxl: 0.9962\n",
      "epoch: 51 probl: 0.0152 bboxl: 0.9587\n",
      "epoch: 52 probl: 0.0084 bboxl: 0.8027\n",
      "epoch: 53 probl: 0.0116 bboxl: 0.7932\n",
      "epoch: 54 probl: 0.0082 bboxl: 0.7263\n",
      "epoch: 55 probl: 0.0078 bboxl: 0.7849\n",
      "epoch: 56 probl: 0.0075 bboxl: 0.7002\n",
      "epoch: 57 probl: 0.0061 bboxl: 0.7195\n",
      "epoch: 58 probl: 0.0075 bboxl: 0.7198\n",
      "epoch: 59 probl: 0.0076 bboxl: 0.8432\n",
      "epoch: 60 probl: 0.0045 bboxl: 0.6897\n",
      "epoch: 61 probl: 0.0059 bboxl: 0.8742\n",
      "epoch: 62 probl: 0.0040 bboxl: 0.6989\n",
      "epoch: 63 probl: 0.0066 bboxl: 0.6739\n",
      "epoch: 64 probl: 0.0050 bboxl: 0.6226\n",
      "epoch: 65 probl: 0.0045 bboxl: 0.6657\n",
      "epoch: 66 probl: 0.0041 bboxl: 0.6717\n",
      "epoch: 67 probl: 0.0030 bboxl: 0.6274\n",
      "epoch: 68 probl: 0.0054 bboxl: 0.6209\n",
      "epoch: 69 probl: 0.0615 bboxl: 1.4305\n",
      "epoch: 70 probl: 0.0240 bboxl: 1.1167\n",
      "epoch: 71 probl: 0.0478 bboxl: 1.5357\n",
      "epoch: 72 probl: 0.0402 bboxl: 1.3814\n",
      "epoch: 73 probl: 0.0229 bboxl: 1.0464\n",
      "epoch: 74 probl: 0.0087 bboxl: 0.8118\n",
      "epoch: 75 probl: 0.0062 bboxl: 0.6867\n",
      "epoch: 76 probl: 0.0110 bboxl: 0.8450\n",
      "epoch: 77 probl: 0.0030 bboxl: 0.6563\n",
      "epoch: 78 probl: 0.0025 bboxl: 0.6031\n",
      "epoch: 79 probl: 0.0029 bboxl: 0.6481\n",
      "epoch: 80 probl: 0.0019 bboxl: 0.6154\n",
      "epoch: 81 probl: 0.0025 bboxl: 0.5712\n",
      "epoch: 82 probl: 0.0022 bboxl: 0.5515\n",
      "epoch: 83 probl: 0.0057 bboxl: 0.6653\n",
      "epoch: 84 probl: 0.0278 bboxl: 1.0184\n",
      "epoch: 85 probl: 0.0337 bboxl: 1.2593\n",
      "epoch: 86 probl: 0.0083 bboxl: 0.7492\n",
      "epoch: 87 probl: 0.0116 bboxl: 0.7892\n",
      "epoch: 88 probl: 0.0054 bboxl: 0.6202\n",
      "epoch: 89 probl: 0.0016 bboxl: 0.5208\n",
      "epoch: 90 probl: 0.0014 bboxl: 0.5096\n",
      "epoch: 91 probl: 0.0017 bboxl: 0.4929\n",
      "epoch: 92 probl: 0.0012 bboxl: 0.5148\n",
      "epoch: 93 probl: 0.0009 bboxl: 0.4780\n",
      "epoch: 94 probl: 0.0009 bboxl: 0.4582\n",
      "epoch: 95 probl: 0.0012 bboxl: 0.4684\n",
      "epoch: 96 probl: 0.0017 bboxl: 0.4744\n",
      "epoch: 97 probl: 0.0008 bboxl: 0.5121\n",
      "epoch: 98 probl: 0.0013 bboxl: 0.5030\n",
      "epoch: 99 probl: 0.0011 bboxl: 0.4548\n",
      "epoch: 100 probl: 0.0007 bboxl: 0.4559\n",
      "epoch: 101 probl: 0.0014 bboxl: 0.4272\n",
      "epoch: 102 probl: 0.0008 bboxl: 0.4273\n",
      "epoch: 103 probl: 0.0010 bboxl: 0.4486\n",
      "epoch: 104 probl: 0.0008 bboxl: 0.4523\n",
      "epoch: 105 probl: 0.0010 bboxl: 0.4425\n",
      "epoch: 106 probl: 0.0010 bboxl: 0.4475\n",
      "epoch: 107 probl: 0.0005 bboxl: 0.4090\n",
      "epoch: 108 probl: 0.0014 bboxl: 0.4112\n",
      "epoch: 109 probl: 0.0010 bboxl: 0.4220\n",
      "epoch: 110 probl: 0.0005 bboxl: 0.3657\n",
      "epoch: 111 probl: 0.0029 bboxl: 0.4151\n",
      "epoch: 112 probl: 0.0011 bboxl: 0.3986\n",
      "epoch: 113 probl: 0.0007 bboxl: 0.4490\n",
      "epoch: 114 probl: 0.0010 bboxl: 0.3851\n",
      "epoch: 115 probl: 0.0008 bboxl: 0.3913\n",
      "epoch: 116 probl: 0.0008 bboxl: 0.3995\n",
      "epoch: 117 probl: 0.0004 bboxl: 0.3581\n",
      "epoch: 118 probl: 0.0011 bboxl: 0.4188\n",
      "epoch: 119 probl: 0.0005 bboxl: 0.3820\n",
      "epoch: 120 probl: 0.0006 bboxl: 0.4092\n",
      "epoch: 121 probl: 0.0006 bboxl: 0.3921\n",
      "epoch: 122 probl: 0.0010 bboxl: 0.4127\n",
      "epoch: 123 probl: 0.0006 bboxl: 0.4084\n",
      "epoch: 124 probl: 0.0008 bboxl: 0.3703\n",
      "epoch: 125 probl: 0.0007 bboxl: 0.4088\n",
      "epoch: 126 probl: 0.0016 bboxl: 0.3959\n",
      "epoch: 127 probl: 0.0004 bboxl: 0.3636\n",
      "epoch: 128 probl: 0.0013 bboxl: 0.3639\n",
      "epoch: 129 probl: 0.0008 bboxl: 0.3667\n",
      "epoch: 130 probl: 0.0005 bboxl: 0.3626\n",
      "epoch: 131 probl: 0.0018 bboxl: 0.4357\n",
      "epoch: 132 probl: 0.0009 bboxl: 0.4042\n",
      "epoch: 133 probl: 0.0006 bboxl: 0.3778\n",
      "epoch: 134 probl: 0.0005 bboxl: 0.3756\n",
      "epoch: 135 probl: 0.0011 bboxl: 0.3654\n",
      "epoch: 136 probl: 0.0007 bboxl: 0.3678\n",
      "epoch: 137 probl: 0.0008 bboxl: 0.3575\n",
      "epoch: 138 probl: 0.0005 bboxl: 0.3336\n",
      "epoch: 139 probl: 0.0008 bboxl: 0.3520\n",
      "epoch: 140 probl: 0.0005 bboxl: 0.3483\n",
      "epoch: 141 probl: 0.0004 bboxl: 0.3313\n",
      "epoch: 142 probl: 0.0007 bboxl: 0.4917\n",
      "epoch: 143 probl: 0.0009 bboxl: 0.3620\n",
      "epoch: 144 probl: 0.0008 bboxl: 0.3585\n",
      "epoch: 145 probl: 0.0006 bboxl: 0.3308\n",
      "epoch: 146 probl: 0.0004 bboxl: 0.3371\n",
      "epoch: 147 probl: 0.0007 bboxl: 0.3779\n",
      "epoch: 148 probl: 0.0006 bboxl: 0.3240\n",
      "epoch: 149 probl: 0.0005 bboxl: 0.3246\n",
      "epoch: 150 probl: 0.0004 bboxl: 0.3518\n",
      "epoch: 151 probl: 0.0007 bboxl: 0.3547\n",
      "epoch: 152 probl: 0.0004 bboxl: 0.3536\n",
      "epoch: 153 probl: 0.0004 bboxl: 0.3412\n",
      "epoch: 154 probl: 0.0024 bboxl: 0.3426\n",
      "epoch: 155 probl: 0.0005 bboxl: 0.3656\n",
      "epoch: 156 probl: 0.0004 bboxl: 0.3225\n",
      "epoch: 157 probl: 0.0006 bboxl: 0.3026\n",
      "epoch: 158 probl: 0.0009 bboxl: 0.3348\n",
      "epoch: 159 probl: 0.0003 bboxl: 0.3269\n",
      "epoch: 160 probl: 0.0010 bboxl: 0.3111\n",
      "epoch: 161 probl: 0.0003 bboxl: 0.3138\n",
      "epoch: 162 probl: 0.0010 bboxl: 0.3274\n",
      "epoch: 163 probl: 0.0007 bboxl: 0.2987\n",
      "epoch: 164 probl: 0.0005 bboxl: 0.3234\n",
      "epoch: 165 probl: 0.0006 bboxl: 0.3023\n",
      "epoch: 166 probl: 0.0005 bboxl: 0.2847\n",
      "epoch: 167 probl: 0.0004 bboxl: 0.3194\n",
      "epoch: 168 probl: 0.0004 bboxl: 0.2909\n",
      "epoch: 169 probl: 0.0006 bboxl: 0.2955\n",
      "epoch: 170 probl: 0.0005 bboxl: 0.2846\n",
      "epoch: 171 probl: 0.0003 bboxl: 0.3070\n",
      "epoch: 172 probl: 0.0004 bboxl: 0.3122\n",
      "epoch: 173 probl: 0.0007 bboxl: 0.2991\n",
      "epoch: 174 probl: 0.0004 bboxl: 0.3081\n",
      "epoch: 175 probl: 0.0006 bboxl: 0.2935\n",
      "epoch: 176 probl: 0.0005 bboxl: 0.2988\n",
      "epoch: 177 probl: 0.0003 bboxl: 0.2983\n",
      "epoch: 178 probl: 0.0004 bboxl: 0.2634\n",
      "epoch: 179 probl: 0.0008 bboxl: 0.2878\n",
      "epoch: 180 probl: 0.0004 bboxl: 0.2839\n",
      "epoch: 181 probl: 0.0005 bboxl: 0.2719\n",
      "epoch: 182 probl: 0.0003 bboxl: 0.3118\n",
      "epoch: 183 probl: 0.0005 bboxl: 0.2829\n",
      "epoch: 184 probl: 0.0003 bboxl: 0.2817\n",
      "epoch: 185 probl: 0.0006 bboxl: 0.2908\n",
      "epoch: 186 probl: 0.0006 bboxl: 0.2860\n",
      "epoch: 187 probl: 0.0004 bboxl: 0.2708\n",
      "epoch: 188 probl: 0.0006 bboxl: 0.2755\n",
      "epoch: 189 probl: 0.0003 bboxl: 0.2819\n",
      "epoch: 190 probl: 0.0006 bboxl: 0.2967\n",
      "epoch: 191 probl: 0.0005 bboxl: 0.2839\n",
      "epoch: 192 probl: 0.0006 bboxl: 0.2798\n",
      "epoch: 193 probl: 0.0007 bboxl: 0.2863\n",
      "epoch: 194 probl: 0.0006 bboxl: 0.3060\n",
      "epoch: 195 probl: 0.0004 bboxl: 0.2731\n",
      "epoch: 196 probl: 0.0005 bboxl: 0.2949\n",
      "epoch: 197 probl: 0.0004 bboxl: 0.2687\n",
      "epoch: 198 probl: 0.0003 bboxl: 0.2863\n",
      "epoch: 199 probl: 0.0007 bboxl: 0.2636\n",
      "epoch: 200 probl: 0.0003 bboxl: 0.2668\n",
      "epoch: 201 probl: 0.0009 bboxl: 0.2676\n",
      "epoch: 202 probl: 0.0004 bboxl: 0.2265\n",
      "epoch: 203 probl: 0.0004 bboxl: 0.2427\n",
      "epoch: 204 probl: 0.0002 bboxl: 0.2202\n",
      "epoch: 205 probl: 0.0005 bboxl: 0.2390\n",
      "epoch: 206 probl: 0.0004 bboxl: 0.2338\n",
      "epoch: 207 probl: 0.0004 bboxl: 0.2317\n",
      "epoch: 208 probl: 0.0004 bboxl: 0.2161\n",
      "epoch: 209 probl: 0.0004 bboxl: 0.2313\n",
      "epoch: 210 probl: 0.0003 bboxl: 0.2470\n",
      "epoch: 211 probl: 0.0004 bboxl: 0.2377\n",
      "epoch: 212 probl: 0.0004 bboxl: 0.2371\n",
      "epoch: 213 probl: 0.0003 bboxl: 0.2263\n"
     ]
    },
    {
     "name": "stdout",
     "output_type": "stream",
     "text": [
      "epoch: 214 probl: 0.0004 bboxl: 0.2314\n",
      "epoch: 215 probl: 0.0006 bboxl: 0.2325\n",
      "epoch: 216 probl: 0.0004 bboxl: 0.2258\n",
      "epoch: 217 probl: 0.0004 bboxl: 0.2441\n",
      "epoch: 218 probl: 0.0004 bboxl: 0.2217\n",
      "epoch: 219 probl: 0.0004 bboxl: 0.2322\n",
      "epoch: 220 probl: 0.0002 bboxl: 0.2235\n",
      "epoch: 221 probl: 0.0005 bboxl: 0.2383\n",
      "epoch: 222 probl: 0.0003 bboxl: 0.2308\n",
      "epoch: 223 probl: 0.0004 bboxl: 0.2161\n",
      "epoch: 224 probl: 0.0005 bboxl: 0.2324\n",
      "epoch: 225 probl: 0.0004 bboxl: 0.2246\n",
      "epoch: 226 probl: 0.0003 bboxl: 0.2111\n",
      "epoch: 227 probl: 0.0004 bboxl: 0.2339\n",
      "epoch: 228 probl: 0.0002 bboxl: 0.2284\n",
      "epoch: 229 probl: 0.0004 bboxl: 0.2298\n",
      "epoch: 230 probl: 0.0005 bboxl: 0.2210\n",
      "epoch: 231 probl: 0.0004 bboxl: 0.2391\n",
      "epoch: 232 probl: 0.0002 bboxl: 0.2146\n",
      "epoch: 233 probl: 0.0004 bboxl: 0.2302\n",
      "epoch: 234 probl: 0.0005 bboxl: 0.2318\n",
      "epoch: 235 probl: 0.0002 bboxl: 0.2174\n",
      "epoch: 236 probl: 0.0005 bboxl: 0.2267\n",
      "epoch: 237 probl: 0.0004 bboxl: 0.2347\n",
      "epoch: 238 probl: 0.0004 bboxl: 0.2210\n",
      "epoch: 239 probl: 0.0002 bboxl: 0.2422\n",
      "epoch: 240 probl: 0.0005 bboxl: 0.2117\n",
      "epoch: 241 probl: 0.0002 bboxl: 0.2365\n",
      "epoch: 242 probl: 0.0005 bboxl: 0.2152\n",
      "epoch: 243 probl: 0.0002 bboxl: 0.2351\n",
      "epoch: 244 probl: 0.0005 bboxl: 0.2309\n",
      "epoch: 245 probl: 0.0004 bboxl: 0.2193\n",
      "epoch: 246 probl: 0.0002 bboxl: 0.2239\n",
      "epoch: 247 probl: 0.0004 bboxl: 0.2340\n",
      "epoch: 248 probl: 0.0005 bboxl: 0.2154\n",
      "epoch: 249 probl: 0.0002 bboxl: 0.2442\n",
      "epoch: 250 probl: 0.0005 bboxl: 0.2238\n",
      "epoch: 251 probl: 0.0004 bboxl: 0.2087\n",
      "epoch: 252 probl: 0.0004 bboxl: 0.2292\n",
      "epoch: 253 probl: 0.0002 bboxl: 0.2316\n",
      "epoch: 254 probl: 0.0005 bboxl: 0.2291\n",
      "epoch: 255 probl: 0.0004 bboxl: 0.2152\n",
      "epoch: 256 probl: 0.0004 bboxl: 0.2188\n",
      "epoch: 257 probl: 0.0004 bboxl: 0.2218\n",
      "epoch: 258 probl: 0.0004 bboxl: 0.2393\n",
      "epoch: 259 probl: 0.0004 bboxl: 0.2212\n",
      "epoch: 260 probl: 0.0004 bboxl: 0.2229\n",
      "epoch: 261 probl: 0.0004 bboxl: 0.2204\n",
      "epoch: 262 probl: 0.0004 bboxl: 0.2361\n",
      "epoch: 263 probl: 0.0003 bboxl: 0.2222\n",
      "epoch: 264 probl: 0.0004 bboxl: 0.2175\n",
      "epoch: 265 probl: 0.0004 bboxl: 0.2372\n",
      "epoch: 266 probl: 0.0004 bboxl: 0.2266\n",
      "epoch: 267 probl: 0.0004 bboxl: 0.2348\n",
      "epoch: 268 probl: 0.0004 bboxl: 0.2127\n",
      "epoch: 269 probl: 0.0004 bboxl: 0.2283\n",
      "epoch: 270 probl: 0.0004 bboxl: 0.2307\n",
      "epoch: 271 probl: 0.0004 bboxl: 0.2168\n",
      "epoch: 272 probl: 0.0004 bboxl: 0.2221\n",
      "epoch: 273 probl: 0.0004 bboxl: 0.2363\n",
      "epoch: 274 probl: 0.0004 bboxl: 0.2241\n",
      "epoch: 275 probl: 0.0002 bboxl: 0.2274\n",
      "epoch: 276 probl: 0.0005 bboxl: 0.2195\n",
      "epoch: 277 probl: 0.0004 bboxl: 0.2344\n",
      "epoch: 278 probl: 0.0004 bboxl: 0.2122\n",
      "epoch: 279 probl: 0.0004 bboxl: 0.2327\n",
      "epoch: 280 probl: 0.0003 bboxl: 0.2280\n",
      "epoch: 281 probl: 0.0005 bboxl: 0.2131\n",
      "epoch: 282 probl: 0.0004 bboxl: 0.2313\n",
      "epoch: 283 probl: 0.0004 bboxl: 0.2294\n",
      "epoch: 284 probl: 0.0004 bboxl: 0.2217\n",
      "epoch: 285 probl: 0.0004 bboxl: 0.2207\n",
      "epoch: 286 probl: 0.0002 bboxl: 0.2325\n",
      "epoch: 287 probl: 0.0005 bboxl: 0.2224\n",
      "epoch: 288 probl: 0.0004 bboxl: 0.2379\n",
      "epoch: 289 probl: 0.0004 bboxl: 0.2222\n",
      "epoch: 290 probl: 0.0002 bboxl: 0.2305\n",
      "epoch: 291 probl: 0.0005 bboxl: 0.2166\n",
      "epoch: 292 probl: 0.0002 bboxl: 0.2265\n",
      "epoch: 293 probl: 0.0004 bboxl: 0.2348\n",
      "epoch: 294 probl: 0.0005 bboxl: 0.2197\n",
      "epoch: 295 probl: 0.0002 bboxl: 0.2308\n",
      "epoch: 296 probl: 0.0005 bboxl: 0.2230\n",
      "epoch: 297 probl: 0.0004 bboxl: 0.2151\n",
      "epoch: 298 probl: 0.0004 bboxl: 0.2213\n",
      "epoch: 299 probl: 0.0002 bboxl: 0.2827\n",
      "epoch: 300 probl: 0.0005 bboxl: 0.1996\n",
      "epoch: 301 probl: 0.0004 bboxl: 0.2435\n",
      "epoch: 302 probl: 0.0004 bboxl: 0.2231\n",
      "epoch: 303 probl: 0.0004 bboxl: 0.2242\n",
      "epoch: 304 probl: 0.0004 bboxl: 0.2140\n",
      "epoch: 305 probl: 0.0004 bboxl: 0.2347\n",
      "epoch: 306 probl: 0.0004 bboxl: 0.2171\n",
      "epoch: 307 probl: 0.0002 bboxl: 0.2200\n",
      "epoch: 308 probl: 0.0005 bboxl: 0.2371\n",
      "epoch: 309 probl: 0.0004 bboxl: 0.2160\n",
      "epoch: 310 probl: 0.0004 bboxl: 0.2250\n",
      "epoch: 311 probl: 0.0004 bboxl: 0.2211\n",
      "epoch: 312 probl: 0.0003 bboxl: 0.2314\n",
      "epoch: 313 probl: 0.0003 bboxl: 0.2135\n",
      "epoch: 314 probl: 0.0005 bboxl: 0.2339\n",
      "epoch: 315 probl: 0.0004 bboxl: 0.2312\n",
      "epoch: 316 probl: 0.0004 bboxl: 0.2148\n",
      "epoch: 317 probl: 0.0002 bboxl: 0.2298\n",
      "epoch: 318 probl: 0.0005 bboxl: 0.2217\n",
      "epoch: 319 probl: 0.0004 bboxl: 0.2418\n",
      "epoch: 320 probl: 0.0004 bboxl: 0.2305\n",
      "epoch: 321 probl: 0.0004 bboxl: 0.2093\n",
      "epoch: 322 probl: 0.0002 bboxl: 0.2297\n",
      "epoch: 323 probl: 0.0004 bboxl: 0.2313\n",
      "epoch: 324 probl: 0.0005 bboxl: 0.2118\n",
      "epoch: 325 probl: 0.0004 bboxl: 0.2372\n",
      "epoch: 326 probl: 0.0004 bboxl: 0.2141\n",
      "epoch: 327 probl: 0.0004 bboxl: 0.2318\n",
      "epoch: 328 probl: 0.0002 bboxl: 0.2213\n",
      "epoch: 329 probl: 0.0005 bboxl: 0.2369\n",
      "epoch: 330 probl: 0.0004 bboxl: 0.2117\n",
      "epoch: 331 probl: 0.0004 bboxl: 0.2250\n",
      "epoch: 332 probl: 0.0004 bboxl: 0.2134\n",
      "epoch: 333 probl: 0.0002 bboxl: 0.2828\n",
      "epoch: 334 probl: 0.0004 bboxl: 0.2225\n",
      "epoch: 335 probl: 0.0004 bboxl: 0.2291\n",
      "epoch: 336 probl: 0.0004 bboxl: 0.2240\n",
      "epoch: 337 probl: 0.0005 bboxl: 0.2150\n",
      "epoch: 338 probl: 0.0003 bboxl: 0.2260\n",
      "epoch: 339 probl: 0.0004 bboxl: 0.2292\n",
      "epoch: 340 probl: 0.0004 bboxl: 0.2165\n",
      "epoch: 341 probl: 0.0003 bboxl: 0.2296\n",
      "epoch: 342 probl: 0.0004 bboxl: 0.2246\n",
      "epoch: 343 probl: 0.0002 bboxl: 0.2461\n",
      "epoch: 344 probl: 0.0017 bboxl: 0.2166\n",
      "epoch: 345 probl: 0.0004 bboxl: 0.2333\n",
      "epoch: 346 probl: 0.0004 bboxl: 0.2225\n",
      "epoch: 347 probl: 0.0002 bboxl: 0.2106\n",
      "epoch: 348 probl: 0.0005 bboxl: 0.2440\n",
      "epoch: 349 probl: 0.0004 bboxl: 0.2260\n",
      "epoch: 350 probl: 0.0004 bboxl: 0.2184\n",
      "epoch: 351 probl: 0.0004 bboxl: 0.2419\n",
      "epoch: 352 probl: 0.0002 bboxl: 0.2263\n",
      "epoch: 353 probl: 0.0005 bboxl: 0.2083\n",
      "epoch: 354 probl: 0.0004 bboxl: 0.2341\n",
      "epoch: 355 probl: 0.0004 bboxl: 0.2326\n",
      "epoch: 356 probl: 0.0004 bboxl: 0.2247\n",
      "epoch: 357 probl: 0.0002 bboxl: 0.2172\n",
      "epoch: 358 probl: 0.0005 bboxl: 0.2833\n",
      "epoch: 359 probl: 0.0003 bboxl: 0.2228\n",
      "epoch: 360 probl: 0.0004 bboxl: 0.2278\n",
      "epoch: 361 probl: 0.0004 bboxl: 0.2051\n",
      "epoch: 362 probl: 0.0004 bboxl: 0.2421\n",
      "epoch: 363 probl: 0.0004 bboxl: 0.2174\n",
      "epoch: 364 probl: 0.0004 bboxl: 0.2685\n",
      "epoch: 365 probl: 0.0004 bboxl: 0.2250\n",
      "epoch: 366 probl: 0.0004 bboxl: 0.2328\n",
      "epoch: 367 probl: 0.0004 bboxl: 0.2210\n",
      "epoch: 368 probl: 0.0004 bboxl: 0.2286\n",
      "epoch: 369 probl: 0.0004 bboxl: 0.1971\n",
      "epoch: 370 probl: 0.0004 bboxl: 0.2774\n",
      "epoch: 371 probl: 0.0004 bboxl: 0.2364\n",
      "epoch: 372 probl: 0.0004 bboxl: 0.2360\n",
      "epoch: 373 probl: 0.0004 bboxl: 0.2297\n",
      "epoch: 374 probl: 0.0004 bboxl: 0.2252\n",
      "epoch: 375 probl: 0.0002 bboxl: 0.2173\n",
      "epoch: 376 probl: 0.0004 bboxl: 0.2274\n",
      "epoch: 377 probl: 0.0005 bboxl: 0.2253\n",
      "epoch: 378 probl: 0.0004 bboxl: 0.2374\n",
      "epoch: 379 probl: 0.0004 bboxl: 0.2128\n",
      "epoch: 380 probl: 0.0002 bboxl: 0.2244\n",
      "epoch: 381 probl: 0.0004 bboxl: 0.2209\n",
      "epoch: 382 probl: 0.0005 bboxl: 0.2146\n",
      "epoch: 383 probl: 0.0004 bboxl: 0.2358\n",
      "epoch: 384 probl: 0.0002 bboxl: 0.2169\n",
      "epoch: 385 probl: 0.0005 bboxl: 0.2325\n",
      "epoch: 386 probl: 0.0004 bboxl: 0.2282\n",
      "epoch: 387 probl: 0.0004 bboxl: 0.2345\n",
      "epoch: 388 probl: 0.0004 bboxl: 0.2137\n",
      "epoch: 389 probl: 0.0002 bboxl: 0.2143\n",
      "epoch: 390 probl: 0.0004 bboxl: 0.2408\n",
      "epoch: 391 probl: 0.0005 bboxl: 0.2161\n",
      "epoch: 392 probl: 0.0004 bboxl: 0.2237\n",
      "epoch: 393 probl: 0.0004 bboxl: 0.2412\n",
      "epoch: 394 probl: 0.0003 bboxl: 0.1989\n",
      "epoch: 395 probl: 0.0003 bboxl: 0.2456\n",
      "epoch: 396 probl: 0.0005 bboxl: 0.2274\n",
      "epoch: 397 probl: 0.0004 bboxl: 0.2248\n",
      "epoch: 398 probl: 0.0004 bboxl: 0.2259\n",
      "epoch: 399 probl: 0.0002 bboxl: 0.2241\n",
      "epoch: 400 probl: 0.0005 bboxl: 0.2216\n",
      "finished training\n"
     ]
    }
   ],
   "source": [
    "\n",
    "from tensorboardX import SummaryWriter\n",
    "\n",
    "writer = SummaryWriter(log_dir=\"/home/ubuntu/tensorLog\") # tensorboard writer\n",
    "\n",
    "prob_lossfn = nn.BCELoss().to(device)\n",
    "bbox_lossfn = nn.MSELoss().to(device)\n",
    "\n",
    "optimizer = None\n",
    "\n",
    "if opt == \"Adam\":\n",
    "    print(\"Optimizer: Adam\")\n",
    "    optimizer = torch.optim.Adam(pnet.parameters(), lr=learning_rate, amsgrad=True)\n",
    "elif opt == \"SGD\":\n",
    "    print(\"Optimizer: SGD\")\n",
    "    optimizer = torch.optim.SGD(pnet.parameters(), lr=learning_rate, momentum=0.9)\n",
    "else:\n",
    "    print(\"Error\")\n",
    "\n",
    "scheduler = optim.lr_scheduler.MultiStepLR(optimizer, milestones=decay_step, gamma=decay_rate)\n",
    "\n",
    "rl1, rl2 = 0, 0\n",
    "\n",
    "for epoch in range(1, epochs+1):\n",
    "    \n",
    "    for batch_idx, data in enumerate(train_loader):\n",
    "        \n",
    "        im, prob, bbox = data\n",
    "        \n",
    "        im = im.to(device)\n",
    "        prob = prob.float().to(device)\n",
    "        bbox = bbox.float().to(device)\n",
    "        \n",
    "        o_bbox, o_prob = pnet(im)\n",
    "        \n",
    "        o_bbox = o_bbox.float().squeeze()\n",
    "        o_prob = o_prob.float().squeeze()\n",
    "        \n",
    "        prob_loss = prob_lossfn(o_prob, prob)\n",
    "        bbox_loss = bbox_lossfn(o_bbox, bbox)\n",
    "        \n",
    "        rl1 += prob_loss.item()\n",
    "        rl2 += bbox_loss.item()\n",
    "        \n",
    "        \n",
    "        all_loss = prob_loss * 0.6 + bbox_loss * 1.2\n",
    "        \n",
    "        if batch_idx % print_freq == print_freq-1:\n",
    "            \n",
    "            print(\"epoch: {} probl: {:.4f} bboxl: {:.4f}\".format(epoch, rl1/print_freq, rl2/print_freq))\n",
    "            writer.add_scalar('prob_l', rl1/print_freq, epoch)\n",
    "            writer.add_scalar('bbox_l', rl2/print_freq, epoch)\n",
    "            rl1, rl2 = 0, 0\n",
    "\n",
    "        optimizer.zero_grad()\n",
    "        all_loss.backward()\n",
    "        optimizer.step()\n",
    "    \n",
    "    scheduler.step()\n",
    "\n",
    "    #if epoch % 5 == 0:\n",
    "    if False:\n",
    "        save_name = 'epoch-{}.pth.tar'.format(epoch)\n",
    "        torch.save({\n",
    "            'epoch': epochs,\n",
    "            'state_dict': mtcnn.onet.state_dict(),\n",
    "            'opt_dict': optimizer.state_dict(),\n",
    "        }, save_name)\n",
    "        print('Saved model at {}'.format(save_name))\n",
    "\n",
    "print(\"finished training\")"
   ]
  },
  {
   "cell_type": "code",
   "execution_count": 12,
   "metadata": {},
   "outputs": [
    {
     "data": {
      "image/png": "[encoded data removed]",
      "text/plain": [
       "<Figure size 432x288 with 1 Axes>"
      ]
     },
     "metadata": {
      "needs_background": "light"
     },
     "output_type": "display_data"
    },
    {
     "name": "stdout",
     "output_type": "stream",
     "text": [
      "truth: 1, pred: 1\n",
      "bbox: [ 1.  0. 10. 11.]\n"
     ]
    },
    {
     "data": {
      "image/png": "[encoded data removed]",
      "text/plain": [
       "<Figure size 432x288 with 1 Axes>"
      ]
     },
     "metadata": {
      "needs_background": "light"
     },
     "output_type": "display_data"
    },
    {
     "name": "stdout",
     "output_type": "stream",
     "text": [
      "truth: 1, pred: 1\n",
      "bbox: [ 1.  2.  9. 10.]\n"
     ]
    },
    {
     "data": {
      "image/png": "[encoded data removed]",
      "text/plain": [
       "<Figure size 432x288 with 1 Axes>"
      ]
     },
     "metadata": {
      "needs_background": "light"
     },
     "output_type": "display_data"
    },
    {
     "name": "stdout",
     "output_type": "stream",
     "text": [
      "truth: 1, pred: 1\n",
      "bbox: [1. 2. 9. 9.]\n"
     ]
    },
    {
     "data": {
      "image/png": "[encoded data removed]",
      "text/plain": [
       "<Figure size 432x288 with 1 Axes>"
      ]
     },
     "metadata": {
      "needs_background": "light"
     },
     "output_type": "display_data"
    },
    {
     "name": "stdout",
     "output_type": "stream",
     "text": [
      "truth: 1, pred: 1\n",
      "bbox: [ 3.  2. 10. 11.]\n"
     ]
    },
    {
     "data": {
      "image/png": "[encoded data removed]",
      "text/plain": [
       "<Figure size 432x288 with 1 Axes>"
      ]
     },
     "metadata": {
      "needs_background": "light"
     },
     "output_type": "display_data"
    },
    {
     "name": "stdout",
     "output_type": "stream",
     "text": [
      "truth: 1, pred: 1\n",
      "bbox: [ 1.  2. 10. 10.]\n"
     ]
    },
    {
     "data": {
      "image/png": "[encoded data removed]",
      "text/plain": [
       "<Figure size 432x288 with 1 Axes>"
      ]
     },
     "metadata": {
      "needs_background": "light"
     },
     "output_type": "display_data"
    },
    {
     "name": "stdout",
     "output_type": "stream",
     "text": [
      "truth: 1, pred: 1\n",
      "bbox: [4. 2. 9. 9.]\n"
     ]
    },
    {
     "data": {
      "image/png": "[encoded data removed]",
      "text/plain": [
       "<Figure size 432x288 with 1 Axes>"
      ]
     },
     "metadata": {
      "needs_background": "light"
     },
     "output_type": "display_data"
    },
    {
     "name": "stdout",
     "output_type": "stream",
     "text": [
      "truth: 1, pred: 1\n",
      "bbox: [ 2.  1.  9. 10.]\n"
     ]
    },
    {
     "data": {
      "image/png": "[encoded data removed]",
      "text/plain": [
       "<Figure size 432x288 with 1 Axes>"
      ]
     },
     "metadata": {
      "needs_background": "light"
     },
     "output_type": "display_data"
    },
    {
     "name": "stdout",
     "output_type": "stream",
     "text": [
      "truth: 1, pred: 1\n",
      "bbox: [ 3.  0.  8. 10.]\n"
     ]
    },
    {
     "data": {
      "image/png": "[encoded data removed]",
      "text/plain": [
       "<Figure size 432x288 with 1 Axes>"
      ]
     },
     "metadata": {
      "needs_background": "light"
     },
     "output_type": "display_data"
    },
    {
     "name": "stdout",
     "output_type": "stream",
     "text": [
      "truth: 1, pred: 1\n",
      "bbox: [ 2.  3.  8. 10.]\n"
     ]
    },
    {
     "data": {
      "image/png": "[encoded data removed]",
      "text/plain": [
       "<Figure size 432x288 with 1 Axes>"
      ]
     },
     "metadata": {
      "needs_background": "light"
     },
     "output_type": "display_data"
    },
    {
     "name": "stdout",
     "output_type": "stream",
     "text": [
      "truth: 0, pred: 0\n",
      "bbox: [-0. -0. -0.  0.]\n"
     ]
    },
    {
     "data": {
      "image/png": "[encoded data removed]",
      "text/plain": [
       "<Figure size 432x288 with 1 Axes>"
      ]
     },
     "metadata": {
      "needs_background": "light"
     },
     "output_type": "display_data"
    },
    {
     "name": "stdout",
     "output_type": "stream",
     "text": [
      "truth: 1, pred: 1\n",
      "bbox: [2. 2. 7. 9.]\n"
     ]
    },
    {
     "data": {
      "image/png": "[encoded data removed]",
      "text/plain": [
       "<Figure size 432x288 with 1 Axes>"
      ]
     },
     "metadata": {
      "needs_background": "light"
     },
     "output_type": "display_data"
    },
    {
     "name": "stdout",
     "output_type": "stream",
     "text": [
      "truth: 1, pred: 1\n",
      "bbox: [3. 1. 9. 9.]\n"
     ]
    },
    {
     "data": {
      "image/png": "[encoded data removed]",
      "text/plain": [
       "<Figure size 432x288 with 1 Axes>"
      ]
     },
     "metadata": {
      "needs_background": "light"
     },
     "output_type": "display_data"
    },
    {
     "name": "stdout",
     "output_type": "stream",
     "text": [
      "truth: 0, pred: 0\n",
      "bbox: [-0. -0. -0.  0.]\n"
     ]
    },
    {
     "data": {
      "image/png": "[encoded data removed]",
      "text/plain": [
       "<Figure size 432x288 with 1 Axes>"
      ]
     },
     "metadata": {
      "needs_background": "light"
     },
     "output_type": "display_data"
    },
    {
     "name": "stdout",
     "output_type": "stream",
     "text": [
      "truth: 1, pred: 1\n",
      "bbox: [ 3.  4.  9. 10.]\n"
     ]
    },
    {
     "data": {
      "image/png": "[encoded data removed]",
      "text/plain": [
       "<Figure size 432x288 with 1 Axes>"
      ]
     },
     "metadata": {
      "needs_background": "light"
     },
     "output_type": "display_data"
    },
    {
     "name": "stdout",
     "output_type": "stream",
     "text": [
      "truth: 0, pred: 0\n",
      "bbox: [-0. -0. -0.  0.]\n"
     ]
    },
    {
     "data": {
      "image/png": "[encoded data removed]",
      "text/plain": [
       "<Figure size 432x288 with 1 Axes>"
      ]
     },
     "metadata": {
      "needs_background": "light"
     },
     "output_type": "display_data"
    },
    {
     "name": "stdout",
     "output_type": "stream",
     "text": [
      "truth: 0, pred: 0\n",
      "bbox: [-0. -0.  0.  0.]\n"
     ]
    },
    {
     "data": {
      "image/png": "[encoded data removed]",
      "text/plain": [
       "<Figure size 432x288 with 1 Axes>"
      ]
     },
     "metadata": {
      "needs_background": "light"
     },
     "output_type": "display_data"
    },
    {
     "name": "stdout",
     "output_type": "stream",
     "text": [
      "truth: 0, pred: 1\n",
      "bbox: [ 3.  1.  8. 10.]\n"
     ]
    },
    {
     "data": {
      "image/png": "[encoded data removed]",
      "text/plain": [
       "<Figure size 432x288 with 1 Axes>"
      ]
     },
     "metadata": {
      "needs_background": "light"
     },
     "output_type": "display_data"
    },
    {
     "name": "stdout",
     "output_type": "stream",
     "text": [
      "truth: 0, pred: 0\n",
      "bbox: [0. 1. 1. 0.]\n",
      "accuracy: 96.5%\n"
     ]
    }
   ],
   "source": [
    "total = len(valid_ds)\n",
    "err = 0\n",
    "truth = []\n",
    "pred = []\n",
    "\n",
    "for idx in range(0, total):\n",
    "    \n",
    "    bbox, prob = pnet(valid_ds[idx][0].unsqueeze(0).to(device))\n",
    "    prob = prob.squeeze()\n",
    "    if prob[0] > prob[1]:\n",
    "        prob = 1\n",
    "    else:\n",
    "        prob = 0\n",
    "    \n",
    "    if prob != prob_valid[idx]:\n",
    "        err += 1\n",
    "        \n",
    "    if idx % 20 == 0:\n",
    "        plt.imshow(transforms.ToPILImage()(valid_ds[idx][0]))\n",
    "        plt.show()\n",
    "        print(\"truth: {}, pred: {}\".format(prob_valid[idx], prob))\n",
    "        print(\"bbox: \" + str(np.rint(bbox.cpu().detach().squeeze().numpy())))\n",
    "    \n",
    "    pred.append(prob)\n",
    "    truth.append(prob_valid[idx])\n",
    "\n",
    "\n",
    "print(\"accuracy: {:.1f}%\".format(100*(total-err)/total))\n",
    "\"\"\"\n",
    "p, r, f1 = utils.f1_score(truth, pred, 0)\n",
    "print(\"precision: {:.2f}, recall: {:.2f}, f1: {:.2f}\".format(p, r, f1))\n",
    "print(\"valid_ds length: {}\".format(len(valid_ds)))\n",
    "print(\"age dist: \", end='')\n",
    "\"\"\";"
   ]
  },
  {
   "cell_type": "code",
   "execution_count": null,
   "metadata": {},
   "outputs": [],
   "source": []
  }
 ],
 "metadata": {
  "kernelspec": {
   "display_name": "Python 3",
   "language": "python",
   "name": "python3"
  },
  "language_info": {
   "codemirror_mode": {
    "name": "ipython",
    "version": 3
   },
   "file_extension": ".py",
   "mimetype": "text/x-python",
   "name": "python",
   "nbconvert_exporter": "python",
   "pygments_lexer": "ipython3",
   "version": "3.7.7"
  }
 },
 "nbformat": 4,
 "nbformat_minor": 4
}
