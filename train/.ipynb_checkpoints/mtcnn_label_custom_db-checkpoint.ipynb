{
 "cells": [
  {
   "cell_type": "code",
   "execution_count": 1,
   "metadata": {},
   "outputs": [],
   "source": [
    "# set up path to facenet_pytorch_c\n",
    "import sys\n",
    "sys.path.insert(1, '/home/ubuntu/mtcnn')\n",
    "\n",
    "# facenet_pytorch_c: avoid confusion with system default facenet_pytorch\n",
    "from facenet_pytorch_c import MTCNN\n",
    "\n",
    "\n",
    "from tqdm import tqdm\n",
    "import numpy as np\n",
    "import os\n",
    "\n",
    "# Built-in\n",
    "import os\n",
    "from glob import glob\n",
    "\n",
    "# Libs\n",
    "from skimage import io, color\n",
    "import skimage.transform as sktrsfm\n",
    "from sklearn.metrics import precision_score, recall_score\n",
    "\n",
    "# Pytorch\n",
    "import torch\n",
    "import torch.nn.functional as F\n",
    "from torch.utils import data\n",
    "\n",
    "import torchvision\n",
    "from torchvision import transforms\n"
   ]
  },
  {
   "cell_type": "code",
   "execution_count": 2,
   "metadata": {},
   "outputs": [],
   "source": [
    "parent_path = '/home/ubuntu/db_proc/db/images'"
   ]
  },
  {
   "cell_type": "code",
   "execution_count": 3,
   "metadata": {},
   "outputs": [],
   "source": [
    "img_files = sorted(glob(os.path.join(parent_path, '[!n]*.jpg')))\n",
    "imgs = [io.imread(a) for a in img_files]"
   ]
  },
  {
   "cell_type": "code",
   "execution_count": 4,
   "metadata": {},
   "outputs": [
    {
     "name": "stdout",
     "output_type": "stream",
     "text": [
      "2101\n"
     ]
    }
   ],
   "source": [
    "# setup mtcnn\n",
    "print(len(imgs))\n",
    "device = \"cuda:0\"\n",
    "\n",
    "mtcnn = MTCNN(\n",
    "    image_size=160, margin=0, min_face_size=20,\n",
    "    thresholds=[0.6, 0.7, 0.7], factor=0.709, post_process=True, keep_all=True,\n",
    "    device=device\n",
    ")"
   ]
  },
  {
   "cell_type": "code",
   "execution_count": null,
   "metadata": {},
   "outputs": [],
   "source": [
    "# pyplot, for debugging\n",
    "\n",
    "# saving numpy data in files\n",
    "# https://stackoverflow.com/questions/28439701/how-to-save-and-load-numpy-array-data-properly\n",
    "\n",
    "\n",
    "import matplotlib.pyplot as plt\n",
    "import matplotlib.patches as patches\n",
    "\n",
    "idx = 0\n",
    "fail = 0\n",
    "total = 0\n",
    "\n",
    "for img in imgs:\n",
    "    total += 1\n",
    "    bbox, prob, landmarks = mtcnn.detect(img, landmarks=True)\n",
    "    lab = np.load(os.path.join('/home/ubuntu/db_proc/db/annotations', os.path.splitext(os.path.basename(img_files[idx]))[0] + '.npy'))\n",
    "    \n",
    "    if bbox is None:  # mtcnn failed to detect a face\n",
    "        fail += 1\n",
    "        \n",
    "        plt.imshow(imgs[idx]) # display failed image\n",
    "        plt.show()\n",
    "        print(img_files[idx])\n",
    "        nlab = np.array([lab, [0,0,0,0]], dtype='int8')\n",
    "        #np.save(os.path.splitext(img_files[idx])[0] + '.npy', nlab)\n",
    "        #bbox = np.zeros(4, dtype=\"int8\") # set to int8, for indicating\n",
    "        #prob = np.zeros(2, dtype=\"int8\") # this image is not used\n",
    "        #landmarks = np.zeros(10, dtype=\"int8\")\n",
    "    else:\n",
    "        print(bbox)\n",
    "        print(type(bbox))\n",
    "    \n",
    "    \n",
    "    #prob = np.array([0, prob[0]])\n",
    "    #np.save(fname[idx]+\".bbox.npy\", bbox)\n",
    "    #np.save(fname[idx]+\".prob.npy\", prob)\n",
    "    #np.save(fname[idx]+\".landmarks.npy\", landmarks)\n",
    "    idx += 1\n",
    "\n",
    "print(\"total: {}; mtcnn fail count: {}\".format(total, fail))\n"
   ]
  },
  {
   "cell_type": "code",
   "execution_count": null,
   "metadata": {},
   "outputs": [],
   "source": [
    "if bbox_train[4][0].dtype == np.dtype(\"float32\"):\n",
    "    print(\"yes\")\n",
    "else:\n",
    "    print(\"no\")\n"
   ]
  },
  {
   "cell_type": "code",
   "execution_count": null,
   "metadata": {},
   "outputs": [],
   "source": [
    "print(prob[0])"
   ]
  },
  {
   "cell_type": "code",
   "execution_count": null,
   "metadata": {},
   "outputs": [],
   "source": []
  }
 ],
 "metadata": {
  "kernelspec": {
   "display_name": "Python 3",
   "language": "python",
   "name": "python3"
  },
  "language_info": {
   "codemirror_mode": {
    "name": "ipython",
    "version": 3
   },
   "file_extension": ".py",
   "mimetype": "text/x-python",
   "name": "python",
   "nbconvert_exporter": "python",
   "pygments_lexer": "ipython3",
   "version": "3.7.7"
  }
 },
 "nbformat": 4,
 "nbformat_minor": 4
}
