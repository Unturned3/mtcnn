{
 "cells": [
  {
   "cell_type": "code",
   "execution_count": 4,
   "metadata": {},
   "outputs": [],
   "source": [
    "# set up path to facenet_pytorch_c\n",
    "import sys\n",
    "sys.path.insert(1, '/home/ubuntu/mtcnn')"
   ]
  },
  {
   "cell_type": "code",
   "execution_count": 5,
   "metadata": {},
   "outputs": [],
   "source": [
    "# facenet_pytorch_c: avoid confusion with system default facenet_pytorch\n",
    "from facenet_pytorch_c import MTCNN\n",
    "\n",
    "from tqdm import tqdm\n",
    "import numpy as np\n",
    "import os\n",
    "\n",
    "# pytorch\n",
    "import torch\n",
    "import torch.optim as optim\n",
    "from torch import nn\n",
    "\n",
    "# data handling\n",
    "from torch.utils.data import DataLoader\n",
    "\n",
    "# torchvision libs\n",
    "from torchvision import datasets\n",
    "from torchvision import transforms\n"
   ]
  },
  {
   "cell_type": "code",
   "execution_count": 6,
   "metadata": {},
   "outputs": [],
   "source": [
    "# other custom scripts\n",
    "import utils"
   ]
  },
  {
   "cell_type": "code",
   "execution_count": 3,
   "metadata": {},
   "outputs": [
    {
     "name": "stderr",
     "output_type": "stream",
     "text": [
      "100%|██████████| 1899/1899 [00:00<00:00, 2632.42it/s]"
     ]
    },
    {
     "name": "stdout",
     "output_type": "stream",
     "text": [
      "done!\n"
     ]
    },
    {
     "name": "stderr",
     "output_type": "stream",
     "text": [
      "\n"
     ]
    }
   ],
   "source": [
    "utils.xml_to_numpy('/home/ubuntu/db_proc/db/annotations')"
   ]
  },
  {
   "cell_type": "code",
   "execution_count": null,
   "metadata": {},
   "outputs": [],
   "source": [
    "\n",
    "device = torch.device(\"cuda:0\" if torch.cuda.is_available() else \"cpu\")\n",
    "print(\"Available device: \" + str(device))\n",
    "\n",
    "# training hyperparameters\n",
    "learning_rate = 1e-4\n",
    "epochs = 100\n",
    "decay_step = [15, 30, 45, 60]\n",
    "decay_rate = 0.1\n",
    "opt = 'SGD'    # either Adam or SGD\n",
    "batch_size = 64\n",
    "\n",
    "print_freq = int(23000/batch_size - 120)\n",
    "print(\"print freq: {}\".format(print_freq))\n"
   ]
  },
  {
   "cell_type": "code",
   "execution_count": null,
   "metadata": {},
   "outputs": [],
   "source": [
    "# data loading parameters\n",
    "workers = 4\n",
    "resize_shape = (48, 48)\n",
    "class_num = 5"
   ]
  },
  {
   "cell_type": "code",
   "execution_count": null,
   "metadata": {},
   "outputs": [],
   "source": [
    "# get data\n",
    "x_train, age_train, fn_train, bbox_train, prob_train, land_train, x_valid, age_valid, fn_valid, bbox_valid, prob_valid, land_valid = utils.get_images(\n",
    "    r'/home/ubuntu/UTKFace', age_thresh=(18, 35, 55, 75), resize_shape=resize_shape, label_mode=False\n",
    ")"
   ]
  },
  {
   "cell_type": "code",
   "execution_count": null,
   "metadata": {},
   "outputs": [],
   "source": [
    "# setup mtcnn\n",
    "\n",
    "mtcnn = MTCNN(\n",
    "    image_size=160, margin=0, min_face_size=20,\n",
    "    thresholds=[0.6, 0.7, 0.7], factor=0.709, post_process=True, keep_all=True,\n",
    "    device=device\n",
    ")"
   ]
  },
  {
   "cell_type": "code",
   "execution_count": null,
   "metadata": {},
   "outputs": [],
   "source": [
    "# define data reader\n",
    "\n",
    "# no need to convert to PIL, because get_images already does that\n",
    "# also, disabling image normalization for now\n",
    "\n",
    "# note: horizontal flip must be disabled, or else mtcnn bbox labels would be invalidated\n",
    "\n",
    "transform_train = transforms.Compose([\n",
    "    #transforms.ToPILImage(),\n",
    "    #transforms.RandomHorizontalFlip(),\n",
    "    transforms.ToTensor(),\n",
    "    #transforms.Normalize((0.485, 0.456, 0.406), (0.229, 0.224, 0.225)),\n",
    "])\n",
    "\n",
    "\n",
    "\n",
    "transform_valid = transforms.Compose([\n",
    "    #transforms.ToPILImage(),\n",
    "    transforms.ToTensor(),\n",
    "    #transforms.Normalize((0.485, 0.456, 0.406), (0.229, 0.224, 0.225)),\n",
    "])\n",
    "\n",
    "train_ds = utils.UTK_dataset(\n",
    "    x_train, age_train, bbox_train, prob_train,\n",
    "    land_train, trsfm=transform_train\n",
    ")\n",
    "\n",
    "valid_ds = utils.UTK_dataset(\n",
    "    x_valid, age_valid, bbox_valid, prob_valid,\n",
    "    land_valid, trsfm=transform_valid\n",
    ")\n",
    "\n",
    "\n",
    "train_loader = DataLoader(\n",
    "    train_ds,\n",
    "    batch_size=batch_size, num_workers=workers, shuffle=True\n",
    ")\n",
    "\n",
    "\n",
    "valid_loader = DataLoader(\n",
    "    valid_ds,\n",
    "    batch_size=batch_size, num_workers=workers, shuffle=False\n",
    ")\n"
   ]
  },
  {
   "cell_type": "code",
   "execution_count": null,
   "metadata": {},
   "outputs": [],
   "source": [
    "# train ONet\n",
    "import matplotlib.pyplot as plt\n",
    "import torchvision\n",
    "import PIL\n",
    "\n",
    "from tensorboardX import SummaryWriter\n",
    "\n",
    "writer = SummaryWriter(log_dir=\"/home/ubuntu/tensorLog\") # tensorboard writer\n",
    "\n",
    "mtcnn.train(); # semicolon here, to suppress unnecessary pytorch output\n",
    "mtcnn.onet.train()\n",
    "mtcnn.onet.to(device)\n",
    "\n",
    "prob_lossfn = nn.BCELoss().to(device)\n",
    "bbox_lossfn = nn.MSELoss().to(device)\n",
    "landmarks_lossfn = nn.MSELoss().to(device)\n",
    "age_lossfn = nn.CrossEntropyLoss().to(device)\n",
    "\n",
    "\n",
    "optimizer = None\n",
    "\n",
    "if opt == \"Adam\":\n",
    "    print(\"Optimizer: Adam\")\n",
    "    optimizer = torch.optim.Adam(mtcnn.onet.parameters(), lr=learning_rate, amsgrad=True)\n",
    "elif opt == \"SGD\":\n",
    "    print(\"Optimizer: SGD\")\n",
    "    optimizer = torch.optim.SGD(mtcnn.onet.parameters(), lr=learning_rate, momentum=0.9)\n",
    "else:\n",
    "    print(\"Error\")\n",
    "\n",
    "scheduler = optim.lr_scheduler.MultiStepLR(optimizer, milestones=decay_step, gamma=decay_rate)\n",
    "\n",
    "rl1, rl2, rl3, rl4 = 0, 0, 0, 0\n",
    "\n",
    "\n",
    "for epoch in range(1, epochs+1):\n",
    "    for batch_idx, data in enumerate(train_loader):\n",
    "        im, age, bbox, prob, landmarks = data\n",
    "        \n",
    "        im = im.to(device)\n",
    "        age = age.to(device)\n",
    "        bbox = bbox.to(device)\n",
    "        prob = prob.to(device)\n",
    "        landmarks = landmarks.to(device)\n",
    "        \n",
    "        o_bbox, o_landmarks, o_prob, o_age = mtcnn.onet(im)\n",
    "        \n",
    "        prob_loss = prob_lossfn(o_prob, prob)\n",
    "        bbox_loss = bbox_lossfn(o_bbox, bbox)\n",
    "        landmarks_loss = landmarks_lossfn(o_landmarks, landmarks)\n",
    "        age_loss = age_lossfn(o_age, age)\n",
    "        \n",
    "        rl1 += age_loss.item()\n",
    "        rl2 += prob_loss.item()\n",
    "        rl3 += landmarks_loss.item()\n",
    "        rl4 += bbox_loss.item()\n",
    "        \n",
    "        \n",
    "        all_loss = prob_loss*0.2 + bbox_loss*0.2 + landmarks_loss*0.2 + age_loss*1.0\n",
    "        \n",
    "        if batch_idx % print_freq == print_freq-1:\n",
    "            print(\"epoch: {} agel: {:.4f} probl: {:.4f} landl: {:.4f} bboxl: {:.4f}\".format(epoch, rl1/print_freq, rl2/print_freq,rl3/print_freq,rl4/print_freq,))\n",
    "            writer.add_scalar('age_l', rl1/print_freq, epoch)\n",
    "            writer.add_scalar('prob_l', rl2/print_freq, epoch)\n",
    "            writer.add_scalar('land_l', rl3/print_freq, epoch)\n",
    "            writer.add_scalar('bbox_l', rl4/print_freq, epoch)\n",
    "            rl1, rl2, rl3, rl4 = 0, 0, 0, 0\n",
    "\n",
    "        optimizer.zero_grad()\n",
    "        all_loss.backward()\n",
    "        optimizer.step()\n",
    "        scheduler.step()\n",
    "    \n",
    "    if epoch % 5 == 0:\n",
    "        save_name = 'epoch-{}.pth.tar'.format(epoch)\n",
    "        torch.save({\n",
    "            'epoch': epochs,\n",
    "            'state_dict': mtcnn.onet.state_dict(),\n",
    "            'opt_dict': optimizer.state_dict(),\n",
    "        }, save_name)\n",
    "        print('Saved model at {}'.format(save_name))\n",
    "\n",
    "print(\"finished training\")"
   ]
  },
  {
   "cell_type": "code",
   "execution_count": null,
   "metadata": {},
   "outputs": [],
   "source": [
    "# test mtcnn performance\n",
    "\n",
    "import matplotlib.pyplot as plt\n",
    "import torchvision.transforms\n",
    "import PIL\n",
    "\n",
    "age_thresh = (0, 6, 18, 200)\n",
    "age_str = ['{}~{}'.format(a, b) for (a, b) in zip(age_thresh[:-1], age_thresh[1:])]\n",
    "\n",
    "total = len(valid_ds)\n",
    "err = 0\n",
    "truth = []\n",
    "pred = []\n",
    "\n",
    "bins = [0] * class_num\n",
    "\n",
    "for idx in range(0, total):\n",
    "    \n",
    "    #plt.imshow(transforms.ToPILImage()(train_ds[idx][0]))\n",
    "    #plt.show()\n",
    "    \n",
    "    _, _, _, o_age = mtcnn.onet(valid_ds[idx][0].unsqueeze(0).to(device))\n",
    "    \n",
    "    bins[age_valid[idx]] += 1\n",
    "    \n",
    "    if o_age.max(1)[1].item() != age_valid[idx]:\n",
    "        err += 1\n",
    "    \n",
    "    pred.append(o_age.max(1)[1].item())\n",
    "    truth.append(age_valid[idx])\n",
    "    #print(\"pred: {}, gt: {}\".format(o_age.max(1)[1].item(), age_train[idx]))\n",
    "\n",
    "print(\"accuracy: {:.1f}%\".format(100*(total-err)/total))\n",
    "p, r, f1 = utils.f1_score(truth, pred, 0)\n",
    "print(\"precision: {:.2f}, recall: {:.2f}, f1: {:.2f}\".format(p, r, f1))\n",
    "print(\"valid_ds length: {}\".format(len(valid_ds)))\n",
    "print(\"age dist: \", end='')\n",
    "for k in bins:\n",
    "    print(str(k)+\" \", end='')\n",
    "print()\n",
    "\n"
   ]
  },
  {
   "cell_type": "code",
   "execution_count": null,
   "metadata": {},
   "outputs": [],
   "source": []
  }
 ],
 "metadata": {
  "kernelspec": {
   "display_name": "Python 3",
   "language": "python",
   "name": "python3"
  },
  "language_info": {
   "codemirror_mode": {
    "name": "ipython",
    "version": 3
   },
   "file_extension": ".py",
   "mimetype": "text/x-python",
   "name": "python",
   "nbconvert_exporter": "python",
   "pygments_lexer": "ipython3",
   "version": "3.7.7"
  }
 },
 "nbformat": 4,
 "nbformat_minor": 4
}
