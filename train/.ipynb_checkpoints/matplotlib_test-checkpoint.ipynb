{
 "cells": [
  {
   "cell_type": "code",
   "execution_count": 1,
   "metadata": {},
   "outputs": [],
   "source": [
    "from facenet_pytorch import MTCNN  # using package\n",
    "\n",
    "from tqdm import tqdm\n",
    "import numpy as np\n",
    "import os\n",
    "\n",
    "# Built-in\n",
    "import os\n",
    "from glob import glob\n",
    "\n",
    "#import torchvision\n",
    "#from torchvision import transforms\n",
    "\n",
    "from PIL import Image, ImageDraw\n"
   ]
  },
  {
   "cell_type": "code",
   "execution_count": 2,
   "metadata": {},
   "outputs": [],
   "source": [
    "parent_path = '/home/ubuntu/db_proc/db/images'"
   ]
  },
  {
   "cell_type": "code",
   "execution_count": 3,
   "metadata": {},
   "outputs": [
    {
     "name": "stdout",
     "output_type": "stream",
     "text": [
      "2076\n"
     ]
    }
   ],
   "source": [
    "img_files = sorted(glob(os.path.join(parent_path, '[!n]*.jpg')))\n",
    "imgs = [Image.open(a) for a in img_files]\n",
    "print(len(imgs))"
   ]
  },
  {
   "cell_type": "code",
   "execution_count": 4,
   "metadata": {},
   "outputs": [],
   "source": [
    "# setup mtcnn\n",
    "device = \"cuda:0\"\n",
    "\n",
    "mtcnn = MTCNN(\n",
    "    image_size=160, margin=0, min_face_size=20,\n",
    "    thresholds=[0.7, 0.8, 0.8], factor=0.709, post_process=True, keep_all=True,\n",
    "    device=device\n",
    ")"
   ]
  },
  {
   "cell_type": "code",
   "execution_count": 5,
   "metadata": {},
   "outputs": [
    {
     "name": "stderr",
     "output_type": "stream",
     "text": [
      "100%|██████████| 2076/2076 [01:15<00:00, 27.34it/s]"
     ]
    },
    {
     "name": "stdout",
     "output_type": "stream",
     "text": [
      "total: 2076; mtcnn fail count: 408\n",
      "total more1: 46\n"
     ]
    },
    {
     "name": "stderr",
     "output_type": "stream",
     "text": [
      "\n"
     ]
    }
   ],
   "source": [
    "# pyplot, for debugging\n",
    "\n",
    "# saving numpy data in files\n",
    "# https://stackoverflow.com/questions/28439701/how-to-save-and-load-numpy-array-data-properly\n",
    "\n",
    "import matplotlib.pyplot as plt\n",
    "import matplotlib.patches as patches\n",
    "\n",
    "idx = 0\n",
    "fail = 0\n",
    "total = 0\n",
    "\n",
    "df = open('/home/ubuntu/mtcnn/more1.txt', 'w') # debug print file\n",
    "more1cnt = 0\n",
    "\n",
    "for img in tqdm(imgs):\n",
    "    total += 1\n",
    "    bbox, prob = mtcnn.detect(img)\n",
    "    draw = ImageDraw.Draw(img)\n",
    "    lab = np.load(os.path.join('/home/ubuntu/db_proc/db/annotations', os.path.splitext(os.path.basename(img_files[idx]))[0] + '.npy'))\n",
    "    nlab = None\n",
    "    if bbox is None:  # mtcnn failed to detect a face\n",
    "        fail += 1\n",
    "        img.save(os.path.join('/home/ubuntu/mtcnn/fail_img', os.path.basename(img_files[idx])), 'JPEG')\n",
    "        #df.write(str(img_files[idx] + '\\n'))\n",
    "        nlab = np.array([lab, [0,0,0,0]], dtype='int32')\n",
    "    else:\n",
    "        #fig,ax = plt.subplots(1)\n",
    "        #ax.imshow(img)\n",
    "        ccnt = 0\n",
    "        for kk in bbox:\n",
    "            ccnt += 1\n",
    "            draw.rectangle([kk[0],kk[1],kk[2],kk[3]], fill=None, outline='red', width=1)\n",
    "            #print([kk[0],kk[1],kk[2],kk[3]])\n",
    "            #rect = patches.Rectangle((kk[0],kk[1]),kk[2]-kk[0],kk[3]-kk[1],linewidth=1,edgecolor='r',facecolor='none')\n",
    "            #ax.add_patch(rect)\n",
    "        if ccnt > 1:\n",
    "            df.write(str(os.path.basename(img_files[idx]) + '\\n'))\n",
    "            more1cnt += 1\n",
    "            nlab = np.array([lab, [-1,-1,-1,-1]], dtype='int32')\n",
    "        else:\n",
    "            bbox = bbox.squeeze()\n",
    "            bbox = np.clip(bbox, 0, 399)\n",
    "            nlab = np.array([lab, bbox], dtype='int32')\n",
    "        img.save(os.path.join('/home/ubuntu/mtcnn/suc_img', os.path.basename(img_files[idx])), 'JPEG')\n",
    "    np.save(os.path.join('/home/ubuntu/db_proc/db/annotations', os.path.splitext(os.path.basename(img_files[idx]))[0] + '.npy'), nlab)\n",
    "    idx += 1\n",
    "\n",
    "print(\"total: {}; mtcnn fail count: {}\".format(total, fail))\n",
    "print(\"total more1: {}\".format(more1cnt))\n",
    "df.close()"
   ]
  },
  {
   "cell_type": "code",
   "execution_count": null,
   "metadata": {},
   "outputs": [],
   "source": [
    "if bbox_train[4][0].dtype == np.dtype(\"float32\"):\n",
    "    print(\"yes\")\n",
    "else:\n",
    "    print(\"no\")\n"
   ]
  },
  {
   "cell_type": "code",
   "execution_count": null,
   "metadata": {},
   "outputs": [],
   "source": [
    "print(prob[0])"
   ]
  },
  {
   "cell_type": "code",
   "execution_count": null,
   "metadata": {},
   "outputs": [],
   "source": [
    "import utils\n",
    "\n",
    "utils.xml_to_numpy('/home/ubuntu/db_proc/db/annotations')\n",
    "\n"
   ]
  },
  {
   "cell_type": "code",
   "execution_count": null,
   "metadata": {},
   "outputs": [],
   "source": [
    "import xml.etree.ElementTree as ET\n",
    "from glob import glob\n",
    "from tqdm import tqdm\n",
    "import os\n",
    "\n",
    "anno_path = '/home/ubuntu/db_proc/db/annotations'\n",
    "anno_names = sorted(glob(os.path.join(anno_path, '*.xml')))\n",
    "cnt = 0\n",
    "\n",
    "for ca in tqdm(anno_names):\n",
    "    root = ET.parse(ca).getroot().findall('object')\n",
    "    if len(root) > 1:\n",
    "        print(ca)\n",
    "        cnt += 1\n",
    "\n",
    "print('total: {}'.format(cnt))"
   ]
  },
  {
   "cell_type": "code",
   "execution_count": null,
   "metadata": {},
   "outputs": [],
   "source": []
  }
 ],
 "metadata": {
  "kernelspec": {
   "display_name": "Python 3",
   "language": "python",
   "name": "python3"
  },
  "language_info": {
   "codemirror_mode": {
    "name": "ipython",
    "version": 3
   },
   "file_extension": ".py",
   "mimetype": "text/x-python",
   "name": "python",
   "nbconvert_exporter": "python",
   "pygments_lexer": "ipython3",
   "version": "3.7.7"
  }
 },
 "nbformat": 4,
 "nbformat_minor": 4
}
